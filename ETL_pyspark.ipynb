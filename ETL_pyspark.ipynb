{
  "cells": [
    {
      "cell_type": "code",
      "execution_count": 2,
      "id": "53ba07a6-1fc7-43ae-931c-987b06766767",
      "metadata": {
        "id": "53ba07a6-1fc7-43ae-931c-987b06766767"
      },
      "outputs": [],
      "source": [
        "import os\n",
        "!apt-get install openjdk-8-jdk-headless -qq > /dev/null\n",
        "!wget -q http://apache.osuosl.org/spark/spark-3.5.4/spark-3.5.4-bin-hadoop3.tgz\n",
        "!tar xf spark-3.5.4-bin-hadoop3.tgz\n",
        "!pip install -q findspark\n",
        "import os\n",
        "os.environ[\"JAVA_HOME\"] = \"/usr/lib/jvm/java-8-openjdk-amd64\"\n",
        "os.environ[\"SPARK_HOME\"] = \"/content/spark-3.5.4-bin-hadoop3\""
      ]
    },
    {
      "cell_type": "code",
      "source": [
        "# Import findspark and initialise.\n",
        "import findspark\n",
        "findspark.init()"
      ],
      "metadata": {
        "id": "F9gPMv6edzsD"
      },
      "id": "F9gPMv6edzsD",
      "execution_count": 3,
      "outputs": []
    },
    {
      "cell_type": "code",
      "source": [
        "from google.colab import files\n",
        "uploaded = files.upload()"
      ],
      "metadata": {
        "colab": {
          "base_uri": "https://localhost:8080/",
          "height": 74
        },
        "id": "nl1QLqVwma2K",
        "outputId": "89489ad1-be46-4c42-d643-f987b6f59b19"
      },
      "id": "nl1QLqVwma2K",
      "execution_count": 4,
      "outputs": [
        {
          "output_type": "display_data",
          "data": {
            "text/plain": [
              "<IPython.core.display.HTML object>"
            ],
            "text/html": [
              "\n",
              "     <input type=\"file\" id=\"files-627899bf-ab87-4a92-a894-dc907783b68c\" name=\"files[]\" multiple disabled\n",
              "        style=\"border:none\" />\n",
              "     <output id=\"result-627899bf-ab87-4a92-a894-dc907783b68c\">\n",
              "      Upload widget is only available when the cell has been executed in the\n",
              "      current browser session. Please rerun this cell to enable.\n",
              "      </output>\n",
              "      <script>// Copyright 2017 Google LLC\n",
              "//\n",
              "// Licensed under the Apache License, Version 2.0 (the \"License\");\n",
              "// you may not use this file except in compliance with the License.\n",
              "// You may obtain a copy of the License at\n",
              "//\n",
              "//      http://www.apache.org/licenses/LICENSE-2.0\n",
              "//\n",
              "// Unless required by applicable law or agreed to in writing, software\n",
              "// distributed under the License is distributed on an \"AS IS\" BASIS,\n",
              "// WITHOUT WARRANTIES OR CONDITIONS OF ANY KIND, either express or implied.\n",
              "// See the License for the specific language governing permissions and\n",
              "// limitations under the License.\n",
              "\n",
              "/**\n",
              " * @fileoverview Helpers for google.colab Python module.\n",
              " */\n",
              "(function(scope) {\n",
              "function span(text, styleAttributes = {}) {\n",
              "  const element = document.createElement('span');\n",
              "  element.textContent = text;\n",
              "  for (const key of Object.keys(styleAttributes)) {\n",
              "    element.style[key] = styleAttributes[key];\n",
              "  }\n",
              "  return element;\n",
              "}\n",
              "\n",
              "// Max number of bytes which will be uploaded at a time.\n",
              "const MAX_PAYLOAD_SIZE = 100 * 1024;\n",
              "\n",
              "function _uploadFiles(inputId, outputId) {\n",
              "  const steps = uploadFilesStep(inputId, outputId);\n",
              "  const outputElement = document.getElementById(outputId);\n",
              "  // Cache steps on the outputElement to make it available for the next call\n",
              "  // to uploadFilesContinue from Python.\n",
              "  outputElement.steps = steps;\n",
              "\n",
              "  return _uploadFilesContinue(outputId);\n",
              "}\n",
              "\n",
              "// This is roughly an async generator (not supported in the browser yet),\n",
              "// where there are multiple asynchronous steps and the Python side is going\n",
              "// to poll for completion of each step.\n",
              "// This uses a Promise to block the python side on completion of each step,\n",
              "// then passes the result of the previous step as the input to the next step.\n",
              "function _uploadFilesContinue(outputId) {\n",
              "  const outputElement = document.getElementById(outputId);\n",
              "  const steps = outputElement.steps;\n",
              "\n",
              "  const next = steps.next(outputElement.lastPromiseValue);\n",
              "  return Promise.resolve(next.value.promise).then((value) => {\n",
              "    // Cache the last promise value to make it available to the next\n",
              "    // step of the generator.\n",
              "    outputElement.lastPromiseValue = value;\n",
              "    return next.value.response;\n",
              "  });\n",
              "}\n",
              "\n",
              "/**\n",
              " * Generator function which is called between each async step of the upload\n",
              " * process.\n",
              " * @param {string} inputId Element ID of the input file picker element.\n",
              " * @param {string} outputId Element ID of the output display.\n",
              " * @return {!Iterable<!Object>} Iterable of next steps.\n",
              " */\n",
              "function* uploadFilesStep(inputId, outputId) {\n",
              "  const inputElement = document.getElementById(inputId);\n",
              "  inputElement.disabled = false;\n",
              "\n",
              "  const outputElement = document.getElementById(outputId);\n",
              "  outputElement.innerHTML = '';\n",
              "\n",
              "  const pickedPromise = new Promise((resolve) => {\n",
              "    inputElement.addEventListener('change', (e) => {\n",
              "      resolve(e.target.files);\n",
              "    });\n",
              "  });\n",
              "\n",
              "  const cancel = document.createElement('button');\n",
              "  inputElement.parentElement.appendChild(cancel);\n",
              "  cancel.textContent = 'Cancel upload';\n",
              "  const cancelPromise = new Promise((resolve) => {\n",
              "    cancel.onclick = () => {\n",
              "      resolve(null);\n",
              "    };\n",
              "  });\n",
              "\n",
              "  // Wait for the user to pick the files.\n",
              "  const files = yield {\n",
              "    promise: Promise.race([pickedPromise, cancelPromise]),\n",
              "    response: {\n",
              "      action: 'starting',\n",
              "    }\n",
              "  };\n",
              "\n",
              "  cancel.remove();\n",
              "\n",
              "  // Disable the input element since further picks are not allowed.\n",
              "  inputElement.disabled = true;\n",
              "\n",
              "  if (!files) {\n",
              "    return {\n",
              "      response: {\n",
              "        action: 'complete',\n",
              "      }\n",
              "    };\n",
              "  }\n",
              "\n",
              "  for (const file of files) {\n",
              "    const li = document.createElement('li');\n",
              "    li.append(span(file.name, {fontWeight: 'bold'}));\n",
              "    li.append(span(\n",
              "        `(${file.type || 'n/a'}) - ${file.size} bytes, ` +\n",
              "        `last modified: ${\n",
              "            file.lastModifiedDate ? file.lastModifiedDate.toLocaleDateString() :\n",
              "                                    'n/a'} - `));\n",
              "    const percent = span('0% done');\n",
              "    li.appendChild(percent);\n",
              "\n",
              "    outputElement.appendChild(li);\n",
              "\n",
              "    const fileDataPromise = new Promise((resolve) => {\n",
              "      const reader = new FileReader();\n",
              "      reader.onload = (e) => {\n",
              "        resolve(e.target.result);\n",
              "      };\n",
              "      reader.readAsArrayBuffer(file);\n",
              "    });\n",
              "    // Wait for the data to be ready.\n",
              "    let fileData = yield {\n",
              "      promise: fileDataPromise,\n",
              "      response: {\n",
              "        action: 'continue',\n",
              "      }\n",
              "    };\n",
              "\n",
              "    // Use a chunked sending to avoid message size limits. See b/62115660.\n",
              "    let position = 0;\n",
              "    do {\n",
              "      const length = Math.min(fileData.byteLength - position, MAX_PAYLOAD_SIZE);\n",
              "      const chunk = new Uint8Array(fileData, position, length);\n",
              "      position += length;\n",
              "\n",
              "      const base64 = btoa(String.fromCharCode.apply(null, chunk));\n",
              "      yield {\n",
              "        response: {\n",
              "          action: 'append',\n",
              "          file: file.name,\n",
              "          data: base64,\n",
              "        },\n",
              "      };\n",
              "\n",
              "      let percentDone = fileData.byteLength === 0 ?\n",
              "          100 :\n",
              "          Math.round((position / fileData.byteLength) * 100);\n",
              "      percent.textContent = `${percentDone}% done`;\n",
              "\n",
              "    } while (position < fileData.byteLength);\n",
              "  }\n",
              "\n",
              "  // All done.\n",
              "  yield {\n",
              "    response: {\n",
              "      action: 'complete',\n",
              "    }\n",
              "  };\n",
              "}\n",
              "\n",
              "scope.google = scope.google || {};\n",
              "scope.google.colab = scope.google.colab || {};\n",
              "scope.google.colab._files = {\n",
              "  _uploadFiles,\n",
              "  _uploadFilesContinue,\n",
              "};\n",
              "})(self);\n",
              "</script> "
            ]
          },
          "metadata": {}
        },
        {
          "output_type": "stream",
          "name": "stdout",
          "text": [
            "Saving PS_2025.02.03_02.08.19.csv to PS_2025.02.03_02.08.19.csv\n"
          ]
        }
      ]
    },
    {
      "cell_type": "code",
      "source": [
        "# Import packages\n",
        "from pyspark.sql import SparkSession\n",
        "import time\n",
        "\n",
        "# Create a SparkSession\n",
        "spark = SparkSession.builder.appName(\"ExoPlanet_ETL_Project\").getOrCreate()"
      ],
      "metadata": {
        "id": "ijAlzS0gyU1F"
      },
      "id": "ijAlzS0gyU1F",
      "execution_count": 5,
      "outputs": []
    },
    {
      "cell_type": "code",
      "source": [
        "file_path = \"/content/PS_2025.02.03_02.08.19.csv\"\n",
        "\n",
        "df = spark.read.option(\"header\", \"true\").option(\"inferSchema\", \"true\").csv(file_path)\n",
        "df.show(5)"
      ],
      "metadata": {
        "colab": {
          "base_uri": "https://localhost:8080/"
        },
        "id": "894UmHB6oxcs",
        "outputId": "284acd40-46d1-4040-cbe6-e5b793e34c47"
      },
      "id": "894UmHB6oxcs",
      "execution_count": 6,
      "outputs": [
        {
          "output_type": "stream",
          "name": "stdout",
          "text": [
            "+----------+--------+------------+-------+-------+---------------+---------+--------------------+-------------------+---------------+--------------------+---------+-------------+-------------+------------+----------+--------------+--------------+-------------+-------+-----------+-----------+----------+-------+-----------+-----------+----------+----------+-------------+-------------+------------+---------+-------------+-------------+------------+------------+-----------+---------------+---------------+--------------+--------+------------+------------+-----------+------+----------+----------+---------+--------+--------------------+-----------+-------+-----------+-----------+----------+------+----------+----------+---------+-------+-----------+-----------+----------+------+----------+----------+---------+-----------+-------+-----------+-----------+----------+--------------------+------------+-----------+-------------+----------+-------+-----------+-----------+-------+-----------+-----------+-------+-----------+-----------+----------+--------------+--------------+---------+----------+-----------+\n",
            "|   pl_name|hostname|default_flag|sy_snum|sy_pnum|discoverymethod|disc_year|       disc_facility|            soltype|pl_controv_flag|          pl_refname|pl_orbper|pl_orbpererr1|pl_orbpererr2|pl_orbperlim|pl_orbsmax|pl_orbsmaxerr1|pl_orbsmaxerr2|pl_orbsmaxlim|pl_rade|pl_radeerr1|pl_radeerr2|pl_radelim|pl_radj|pl_radjerr1|pl_radjerr2|pl_radjlim| pl_bmasse|pl_bmasseerr1|pl_bmasseerr2|pl_bmasselim|pl_bmassj|pl_bmassjerr1|pl_bmassjerr2|pl_bmassjlim|pl_bmassprov|pl_orbeccen|pl_orbeccenerr1|pl_orbeccenerr2|pl_orbeccenlim|pl_insol|pl_insolerr1|pl_insolerr2|pl_insollim|pl_eqt|pl_eqterr1|pl_eqterr2|pl_eqtlim|ttv_flag|          st_refname|st_spectype|st_teff|st_tefferr1|st_tefferr2|st_tefflim|st_rad|st_raderr1|st_raderr2|st_radlim|st_mass|st_masserr1|st_masserr2|st_masslim|st_met|st_meterr1|st_meterr2|st_metlim|st_metratio|st_logg|st_loggerr1|st_loggerr2|st_logglim|          sy_refname|       rastr|         ra|       decstr|       dec|sy_dist|sy_disterr1|sy_disterr2|sy_vmag|sy_vmagerr1|sy_vmagerr2|sy_kmag|sy_kmagerr1|sy_kmagerr2|sy_gaiamag|sy_gaiamagerr1|sy_gaiamagerr2|rowupdate|pl_pubdate|releasedate|\n",
            "+----------+--------+------------+-------+-------+---------------+---------+--------------------+-------------------+---------------+--------------------+---------+-------------+-------------+------------+----------+--------------+--------------+-------------+-------+-----------+-----------+----------+-------+-----------+-----------+----------+----------+-------------+-------------+------------+---------+-------------+-------------+------------+------------+-----------+---------------+---------------+--------------+--------+------------+------------+-----------+------+----------+----------+---------+--------+--------------------+-----------+-------+-----------+-----------+----------+------+----------+----------+---------+-------+-----------+-----------+----------+------+----------+----------+---------+-----------+-------+-----------+-----------+----------+--------------------+------------+-----------+-------------+----------+-------+-----------+-----------+-------+-----------+-----------+-------+-----------+-----------+----------+--------------+--------------+---------+----------+-----------+\n",
            "|  11 Com b|  11 Com|           1|      2|      1|Radial Velocity|     2007|    Xinglong Station|Published Confirmed|              0|<a refstr=TENG_ET...|   323.21|         0.06|        -0.05|           0|     1.178|           0.0|           0.0|            0|   NULL|       NULL|       NULL|      NULL|   NULL|       NULL|       NULL|      NULL|4914.89849|     39.09289|    -39.72855|           0|   15.464|        0.123|       -0.125|           0|       Msini|      0.238|          0.007|         -0.007|             0|    NULL|        NULL|        NULL|       NULL|  NULL|      NULL|      NULL|     NULL|       0|<a refstr=TENG_ET...|     G8 III| 4874.0|       NULL|       NULL|         0| 13.76|      2.85|     -2.45|        0|   2.09|       0.64|      -0.63|         0| -0.26|       0.1|      -0.1|        0|     [Fe/H]|   2.45|       0.08|      -0.08|         0|<a refstr=STASSUN...|12h20m42.91s|185.1787793|+17d47m35.71s|17.7932516|93.1846|     1.9238|    -1.9238|4.72307|      0.023|     -0.023|  2.282|      0.346|     -0.346|   4.44038|     0.0038479|    -0.0038479|19/9/2023|   2023-08|  19/9/2023|\n",
            "|  11 UMi b|  11 UMi|           1|      1|      1|Radial Velocity|     2009|Thueringer Landes...|Published Confirmed|              0|<a refstr=STASSUN...|516.21997|          3.2|         -3.2|           0|      1.53|          0.07|         -0.07|            0|   NULL|       NULL|       NULL|      NULL|   NULL|       NULL|       NULL|      NULL| 4684.8142|      794.575|     -794.575|           0|    14.74|          2.5|         -2.5|           0|       Msini|       0.08|           0.03|          -0.03|             0|    NULL|        NULL|        NULL|       NULL|  NULL|      NULL|      NULL|     NULL|       0|<a refstr=STASSUN...|       NULL| 4213.0|       46.0|      -46.0|         0| 29.79|      2.84|     -2.84|        0|   2.78|       0.69|      -0.69|         0| -0.02|      NULL|      NULL|        0|     [Fe/H]|   1.93|       0.07|      -0.07|         0|<a refstr=STASSUN...|15h17m05.90s|229.2745954|+71d49m26.19s|71.8239428|125.321|     1.9765|    -1.9765|  5.013|      0.005|     -0.005|  1.939|       0.27|      -0.27|   4.56216|     0.0039035|    -0.0039035| 4/9/2018|   2017-03|   6/9/2018|\n",
            "|  14 And b|  14 And|           1|      1|      1|Radial Velocity|     2008|Okayama Astrophys...|Published Confirmed|              0|<a refstr=TENG_ET...|   186.76|         0.11|        -0.12|           0|     0.775|           0.0|           0.0|            0|   NULL|       NULL|       NULL|      NULL|   NULL|       NULL|       NULL|      NULL| 1131.1513|     36.23244|    -38.77507|           0|    3.559|        0.114|       -0.122|           0|       Msini|        0.0|           NULL|           NULL|             0|    NULL|        NULL|        NULL|       NULL|  NULL|      NULL|      NULL|     NULL|       0|<a refstr=TENG_ET...|     K0 III| 4888.0|       NULL|       NULL|         0| 11.55|      1.12|     -0.51|        0|   1.78|       0.43|      -0.29|         0| -0.21|       0.1|      -0.1|        0|     [Fe/H]|   2.55|       0.06|      -0.07|         0|<a refstr=STASSUN...|23h31m17.80s|  352.82415|+39d14m09.01s|39.2358367|75.4392|      0.714|     -0.714|5.23133|      0.023|     -0.023|  2.331|       0.24|      -0.24|   4.91781|     0.0028262|    -0.0028262|19/9/2023|   2023-08|  19/9/2023|\n",
            "|  14 Her b|  14 Her|           1|      1|      2|Radial Velocity|     2002|W. M. Keck Observ...|Published Confirmed|              0|<a refstr=FENG_ET...|1765.0389|      1.67709|     -1.87256|           0|     2.774|         0.109|         -0.12|            0|   NULL|       NULL|       NULL|      NULL|   NULL|       NULL|       NULL|      NULL|2559.47216|    518.69596|   -280.64248|           0|    8.053|        1.632|       -0.883|           0|        Mass|      0.373|          0.008|         -0.006|             0|    NULL|        NULL|        NULL|       NULL|  NULL|      NULL|      NULL|     NULL|       0|<a refstr=FENG_ET...|       NULL|   NULL|       NULL|       NULL|      NULL|  NULL|      NULL|      NULL|     NULL|   0.91|       0.11|      -0.11|         0|  NULL|      NULL|      NULL|     NULL|       NULL|   NULL|       NULL|       NULL|      NULL|<a refstr=STASSUN...|16h10m24.50s|242.6021014|+43d48m58.90s|43.8163621|17.9323|     0.0073|    -0.0073|6.61935|      0.023|     -0.023|  4.714|      0.016|     -0.016|     6.383|      3.512E-4|     -3.512E-4|12/6/2023|   2022-09|  12/6/2023|\n",
            "|16 Cyg B b|16 Cyg B|           1|      3|      1|Radial Velocity|     1996|Multiple Observat...|Published Confirmed|              0|<a refstr=STASSUN...|    798.5|          1.0|         -1.0|           0|      1.66|          0.03|         -0.03|            0|   NULL|       NULL|       NULL|      NULL|   NULL|       NULL|       NULL|      NULL|  565.7374|      25.4264|     -25.4264|           0|     1.78|         0.08|        -0.08|           0|       Msini|       0.68|           0.02|          -0.02|             0|    NULL|        NULL|        NULL|       NULL|  NULL|      NULL|      NULL|     NULL|       0|<a refstr=STASSUN...|       NULL| 5750.0|        8.0|       -8.0|         0|  1.13|      0.01|     -0.01|        0|   1.08|       0.04|      -0.04|         0|  0.06|      NULL|      NULL|        0|     [Fe/H]|   4.36|       0.01|      -0.01|         0|<a refstr=STASSUN...|19h41m51.75s|295.4656422|+50d31m00.57s|50.5168243|21.1397|      0.011|    -0.0111|  6.215|      0.016|     -0.016|  4.651|      0.016|     -0.016|   6.06428|      6.029E-4|     -6.029E-4| 4/9/2018|   2017-03|   6/9/2018|\n",
            "+----------+--------+------------+-------+-------+---------------+---------+--------------------+-------------------+---------------+--------------------+---------+-------------+-------------+------------+----------+--------------+--------------+-------------+-------+-----------+-----------+----------+-------+-----------+-----------+----------+----------+-------------+-------------+------------+---------+-------------+-------------+------------+------------+-----------+---------------+---------------+--------------+--------+------------+------------+-----------+------+----------+----------+---------+--------+--------------------+-----------+-------+-----------+-----------+----------+------+----------+----------+---------+-------+-----------+-----------+----------+------+----------+----------+---------+-----------+-------+-----------+-----------+----------+--------------------+------------+-----------+-------------+----------+-------+-----------+-----------+-------+-----------+-----------+-------+-----------+-----------+----------+--------------+--------------+---------+----------+-----------+\n",
            "only showing top 5 rows\n",
            "\n"
          ]
        }
      ]
    },
    {
      "cell_type": "code",
      "source": [
        "# Import necessary libraries\n",
        "from pyspark.sql.functions import col, mean, when, lit, count, round\n",
        "from pyspark.sql.types import IntegerType, DoubleType, DateType"
      ],
      "metadata": {
        "id": "ziXGxhLOfFXz"
      },
      "id": "ziXGxhLOfFXz",
      "execution_count": 7,
      "outputs": []
    },
    {
      "cell_type": "code",
      "source": [
        "# Total Rows\n",
        "total_rows = df.count()\n",
        "print(f\"Total Rows: {total_rows}\")"
      ],
      "metadata": {
        "colab": {
          "base_uri": "https://localhost:8080/"
        },
        "id": "3a1ebJGBqAwp",
        "outputId": "ded9ca65-ed08-488a-e742-901b56e74b61"
      },
      "id": "3a1ebJGBqAwp",
      "execution_count": 8,
      "outputs": [
        {
          "output_type": "stream",
          "name": "stdout",
          "text": [
            "Total Rows: 5749\n"
          ]
        }
      ]
    },
    {
      "cell_type": "code",
      "source": [
        "# Count missing values per column\n",
        "missing_counts = df.select([count(when(col(c).isNull(), c)).alias(c) for c in df.columns])\n",
        "\n",
        "# Show missing values\n",
        "missing_counts.show()"
      ],
      "metadata": {
        "colab": {
          "base_uri": "https://localhost:8080/"
        },
        "id": "Hm_KIBh9rm_p",
        "outputId": "03ff1eea-d314-4684-c0c5-643a29fd959e"
      },
      "id": "Hm_KIBh9rm_p",
      "execution_count": 9,
      "outputs": [
        {
          "output_type": "stream",
          "name": "stdout",
          "text": [
            "+-------+--------+------------+-------+-------+---------------+---------+-------------+-------+---------------+----------+---------+-------------+-------------+------------+----------+--------------+--------------+-------------+-------+-----------+-----------+----------+-------+-----------+-----------+----------+---------+-------------+-------------+------------+---------+-------------+-------------+------------+------------+-----------+---------------+---------------+--------------+--------+------------+------------+-----------+------+----------+----------+---------+--------+----------+-----------+-------+-----------+-----------+----------+------+----------+----------+---------+-------+-----------+-----------+----------+------+----------+----------+---------+-----------+-------+-----------+-----------+----------+----------+-----+---+------+---+-------+-----------+-----------+-------+-----------+-----------+-------+-----------+-----------+----------+--------------+--------------+---------+----------+-----------+\n",
            "|pl_name|hostname|default_flag|sy_snum|sy_pnum|discoverymethod|disc_year|disc_facility|soltype|pl_controv_flag|pl_refname|pl_orbper|pl_orbpererr1|pl_orbpererr2|pl_orbperlim|pl_orbsmax|pl_orbsmaxerr1|pl_orbsmaxerr2|pl_orbsmaxlim|pl_rade|pl_radeerr1|pl_radeerr2|pl_radelim|pl_radj|pl_radjerr1|pl_radjerr2|pl_radjlim|pl_bmasse|pl_bmasseerr1|pl_bmasseerr2|pl_bmasselim|pl_bmassj|pl_bmassjerr1|pl_bmassjerr2|pl_bmassjlim|pl_bmassprov|pl_orbeccen|pl_orbeccenerr1|pl_orbeccenerr2|pl_orbeccenlim|pl_insol|pl_insolerr1|pl_insolerr2|pl_insollim|pl_eqt|pl_eqterr1|pl_eqterr2|pl_eqtlim|ttv_flag|st_refname|st_spectype|st_teff|st_tefferr1|st_tefferr2|st_tefflim|st_rad|st_raderr1|st_raderr2|st_radlim|st_mass|st_masserr1|st_masserr2|st_masslim|st_met|st_meterr1|st_meterr2|st_metlim|st_metratio|st_logg|st_loggerr1|st_loggerr2|st_logglim|sy_refname|rastr| ra|decstr|dec|sy_dist|sy_disterr1|sy_disterr2|sy_vmag|sy_vmagerr1|sy_vmagerr2|sy_kmag|sy_kmagerr1|sy_kmagerr2|sy_gaiamag|sy_gaiamagerr1|sy_gaiamagerr2|rowupdate|pl_pubdate|releasedate|\n",
            "+-------+--------+------------+-------+-------+---------------+---------+-------------+-------+---------------+----------+---------+-------------+-------------+------------+----------+--------------+--------------+-------------+-------+-----------+-----------+----------+-------+-----------+-----------+----------+---------+-------------+-------------+------------+---------+-------------+-------------+------------+------------+-----------+---------------+---------------+--------------+--------+------------+------------+-----------+------+----------+----------+---------+--------+----------+-----------+-------+-----------+-----------+----------+------+----------+----------+---------+-------+-----------+-----------+----------+------+----------+----------+---------+-----------+-------+-----------+-----------+----------+----------+-----+---+------+---+-------+-----------+-----------+-------+-----------+-----------+-------+-----------+-----------+----------+--------------+--------------+---------+----------+-----------+\n",
            "|      0|       0|           0|      0|      0|              0|        0|            0|      0|              0|         0|      229|          721|          721|         229|      2217|          3059|          3059|         2216|   1389|       1766|       1766|      1389|   1389|       1766|       1766|      1389|     3081|         3255|         3255|        3081|     3081|         3255|         3255|        3081|        3081|       3364|           4157|           4157|          3363|    4977|        5017|        5017|       4977|  4324|      4470|      4470|     4324|       0|         2|       4626|    611|        797|        820|       611|   671|       817|       835|      671|    734|        984|       1004|       734|  1691|      1967|      1967|     1691|       1702|    957|       1121|       1121|       957|         0|    0|  0|     0|  0|    108|        212|        212|    244|        249|        250|    250|        287|        287|       294|           294|           294|        1|         0|          0|\n",
            "+-------+--------+------------+-------+-------+---------------+---------+-------------+-------+---------------+----------+---------+-------------+-------------+------------+----------+--------------+--------------+-------------+-------+-----------+-----------+----------+-------+-----------+-----------+----------+---------+-------------+-------------+------------+---------+-------------+-------------+------------+------------+-----------+---------------+---------------+--------------+--------+------------+------------+-----------+------+----------+----------+---------+--------+----------+-----------+-------+-----------+-----------+----------+------+----------+----------+---------+-------+-----------+-----------+----------+------+----------+----------+---------+-----------+-------+-----------+-----------+----------+----------+-----+---+------+---+-------+-----------+-----------+-------+-----------+-----------+-------+-----------+-----------+----------+--------------+--------------+---------+----------+-----------+\n",
            "\n"
          ]
        }
      ]
    },
    {
      "cell_type": "code",
      "source": [
        "#Drop columns with too many missing values (e.g., >50%)\n",
        "threshold = int(0.5 * df.count())\n",
        "df_cleaned = df.dropna(thresh=threshold)\n"
      ],
      "metadata": {
        "id": "8Wyt7jxqrqDf"
      },
      "id": "8Wyt7jxqrqDf",
      "execution_count": 10,
      "outputs": []
    },
    {
      "cell_type": "code",
      "source": [
        "#Fill missing categorical values with \"Unknown\"\n",
        "for c in df.columns:\n",
        "    df = df.fillna({c: \"Unknown\"})"
      ],
      "metadata": {
        "id": "Qt8TbXnDsbB5"
      },
      "id": "Qt8TbXnDsbB5",
      "execution_count": 11,
      "outputs": []
    },
    {
      "cell_type": "code",
      "source": [
        "#Convert Data types\n",
        "from pyspark.sql.types import IntegerType, DoubleType, DateType\n",
        "\n",
        "df = df.withColumn(\"disc_year\", col(\"disc_year\").cast(IntegerType()))\n",
        "df = df.withColumn(\"pl_rade\", col(\"pl_rade\").cast(DoubleType()))\n",
        "df = df.withColumn(\"st_teff\", col(\"st_teff\").cast(DoubleType()))\n",
        "df = df.withColumn(\"releasedate\", col(\"releasedate\").cast(DateType()))"
      ],
      "metadata": {
        "id": "qlWjxdV2tJBv"
      },
      "id": "qlWjxdV2tJBv",
      "execution_count": 12,
      "outputs": []
    },
    {
      "cell_type": "code",
      "source": [
        "#Remove Duplicates\n",
        "df = df.dropDuplicates()"
      ],
      "metadata": {
        "id": "FujZrpH2tOCU"
      },
      "id": "FujZrpH2tOCU",
      "execution_count": 13,
      "outputs": []
    },
    {
      "cell_type": "code",
      "source": [
        "# Define columns to check for outliers\n",
        "outlier_cols = [\"pl_rade\", \"pl_bmasse\", \"st_teff\"]\n",
        "\n",
        "# Remove outliers based on the 1st and 99th percentile\n",
        "for col_name in outlier_cols:\n",
        "    lower, upper = df.approxQuantile(col_name, [0.01, 0.99], 0)  # Compute quantiles\n",
        "    df = df.filter((col(col_name) >= lower) & (col(col_name) <= upper))\n",
        "\n",
        "df.show(5)"
      ],
      "metadata": {
        "colab": {
          "base_uri": "https://localhost:8080/"
        },
        "id": "RmlHRhfVtqdD",
        "outputId": "6bd1435f-e157-40d0-d9fb-1f2f611621fa"
      },
      "id": "RmlHRhfVtqdD",
      "execution_count": 14,
      "outputs": [
        {
          "output_type": "stream",
          "name": "stdout",
          "text": [
            "+-----------+---------+------------+-------+-------+---------------+---------+--------------------+-------------------+---------------+--------------------+---------+-------------+-------------+------------+----------+--------------+--------------+-------------+-------+-----------+-----------+----------+-------+-----------+-----------+----------+----------+-------------+-------------+------------+---------+-------------+-------------+------------+------------+-----------+---------------+---------------+--------------+--------+------------+------------+-----------+------+----------+----------+---------+--------+--------------------+-----------+-------+-----------+-----------+----------+------+----------+----------+---------+-------+-----------+-----------+----------+------+----------+----------+---------+-----------+-------+-----------+-----------+----------+--------------------+------------+-----------+-------------+-----------+-------+-----------+-----------+-------+-----------+-----------+-------+-----------+-----------+----------+--------------+--------------+---------+----------+-----------+\n",
            "|    pl_name| hostname|default_flag|sy_snum|sy_pnum|discoverymethod|disc_year|       disc_facility|            soltype|pl_controv_flag|          pl_refname|pl_orbper|pl_orbpererr1|pl_orbpererr2|pl_orbperlim|pl_orbsmax|pl_orbsmaxerr1|pl_orbsmaxerr2|pl_orbsmaxlim|pl_rade|pl_radeerr1|pl_radeerr2|pl_radelim|pl_radj|pl_radjerr1|pl_radjerr2|pl_radjlim| pl_bmasse|pl_bmasseerr1|pl_bmasseerr2|pl_bmasselim|pl_bmassj|pl_bmassjerr1|pl_bmassjerr2|pl_bmassjlim|pl_bmassprov|pl_orbeccen|pl_orbeccenerr1|pl_orbeccenerr2|pl_orbeccenlim|pl_insol|pl_insolerr1|pl_insolerr2|pl_insollim|pl_eqt|pl_eqterr1|pl_eqterr2|pl_eqtlim|ttv_flag|          st_refname|st_spectype|st_teff|st_tefferr1|st_tefferr2|st_tefflim|st_rad|st_raderr1|st_raderr2|st_radlim|st_mass|st_masserr1|st_masserr2|st_masslim|st_met|st_meterr1|st_meterr2|st_metlim|st_metratio|st_logg|st_loggerr1|st_loggerr2|st_logglim|          sy_refname|       rastr|         ra|       decstr|        dec|sy_dist|sy_disterr1|sy_disterr2|sy_vmag|sy_vmagerr1|sy_vmagerr2|sy_kmag|sy_kmagerr1|sy_kmagerr2|sy_gaiamag|sy_gaiamagerr1|sy_gaiamagerr2|rowupdate|pl_pubdate|releasedate|\n",
            "+-----------+---------+------------+-------+-------+---------------+---------+--------------------+-------------------+---------------+--------------------+---------+-------------+-------------+------------+----------+--------------+--------------+-------------+-------+-----------+-----------+----------+-------+-----------+-----------+----------+----------+-------------+-------------+------------+---------+-------------+-------------+------------+------------+-----------+---------------+---------------+--------------+--------+------------+------------+-----------+------+----------+----------+---------+--------+--------------------+-----------+-------+-----------+-----------+----------+------+----------+----------+---------+-------+-----------+-----------+----------+------+----------+----------+---------+-----------+-------+-----------+-----------+----------+--------------------+------------+-----------+-------------+-----------+-------+-----------+-----------+-------+-----------+-----------+-------+-----------+-----------+----------+--------------+--------------+---------+----------+-----------+\n",
            "|BD+20 594 b|BD+20 594|           1|      1|      1|        Transit|     2016|                  K2|Published Confirmed|              0|<a refstr=STASSUN...|  41.6855|        0.003|       -0.003|           0|      NULL|          NULL|          NULL|         NULL|  2.578|      0.112|     -0.112|         0|   0.23|       0.01|      -0.01|         0|   22.2481|       9.5349|      -9.5349|           0|     0.07|         0.03|        -0.03|           0|        Mass|        0.0|           NULL|           NULL|             0|    NULL|        NULL|        NULL|       NULL|  NULL|      NULL|      NULL|     NULL|       0|<a refstr=STASSUN...|    Unknown| 5766.0|       99.0|      -99.0|         0|  1.08|      0.06|     -0.06|        0|   1.67|        0.4|       -0.4|         0| -0.15|      NULL|      NULL|        0|     [Fe/H]|    4.5|       0.08|      -0.08|         0|<a refstr=STASSUN...|03h34m36.27s| 53.6511231|+20d35m56.47s| 20.5990205|179.461|      1.257|      -1.24| 10.849|      0.012|     -0.012|  9.368|      0.018|     -0.018|   10.8644|       2.49E-4|      -2.49E-4|25/4/2018|   2017-03|       NULL|\n",
            "|   K2-263 b|   K2-263|           1|      1|      1|        Transit|     2018|                  K2|Published Confirmed|              0|<a refstr=BONOMO_...|50.818947|       9.4E-5|      -9.4E-5|           0|    0.2573|         0.003|        -0.003|            0|   2.41|       0.12|      -0.12|         0|  0.215|      0.011|     -0.011|         0|      14.9|          2.1|         -2.1|           0|  0.04688|      0.00661|     -0.00661|           0|        Mass|       0.15|           NULL|           NULL|             1|    8.17|        0.52|       -0.52|          0|   470|         7|        -7|        0|       0|<a refstr=BONOMO_...|    Unknown| 5368.0|       44.0|      -44.0|         0|  0.85|      0.02|     -0.02|        0|   0.88|       0.03|      -0.03|         0| -0.08|      0.05|     -0.05|        0|     [Fe/H]|   NULL|       NULL|       NULL|      NULL|<a refstr=STASSUN...|08h38m43.71s|129.6821253|+15d40m50.17s| 15.6806039|162.481|       1.38|     -1.357| 11.568|      0.046|     -0.046|  9.748|       0.02|      -0.02|   11.4055|        6.8E-4|       -6.8E-4|17/4/2023|   2023-04|       NULL|\n",
            "| TOI-3071 b| TOI-3071|           1|      1|      1|        Transit|     2024|Transiting Exopla...|Published Confirmed|              0|<a refstr=HACKER_...| 1.266938|       2.0E-6|      -2.0E-6|           0|    0.0249|        1.0E-4|       -1.0E-4|            0|   7.16|       0.57|      -0.51|         0|  0.639|      0.051|     -0.045|         0|      68.2|          3.5|         -3.5|           0|  0.21458|      0.01101|     -0.01101|           0|        Mass|       0.09|           NULL|           NULL|             1|    NULL|        NULL|        NULL|       NULL|  2155|        40|       -40|        0|       0|<a refstr=HACKER_...|    Unknown| 6177.0|       62.0|      -62.0|         0|  1.31|      0.04|     -0.04|        0|   1.29|       0.02|      -0.02|         0|  0.35|      0.04|     -0.04|        0|     [Fe/H]|   4.37|        0.1|       -0.1|         0|<a refstr=STASSUN...|11h33m06.97s|173.2790517|-56d30m12.19s|-56.5033871|485.219|      9.044|     -8.725| 12.383|      0.057|     -0.057| 11.005|      0.021|     -0.021|   12.2766|       1.52E-4|      -1.52E-4|25/6/2024|   2024-06|       NULL|\n",
            "|  TOI-558 b|  TOI-558|           1|      1|      1|        Transit|     2021|Transiting Exopla...|Published Confirmed|              0|<a refstr=IKWUT_U...|14.574071|       2.6E-5|      -2.6E-5|           0|    0.1291|         0.002|       -0.0021|            0| 12.173|       0.46|     -0.426|         0|  1.086|      0.041|     -0.038|         0|1147.36055|     47.67426|    -47.67426|           0|     3.61|         0.15|        -0.15|           0|        Mass|      0.298|          0.022|          -0.02|             0|    NULL|        NULL|        NULL|       NULL|  1061|        13|       -12|        0|       0|<a refstr=IKWUT_U...|        F V| 6466.0|       95.0|      -93.0|         0|   1.5|      0.04|     -0.04|        0|   1.35|       0.06|      -0.07|         0|-0.004|     0.059|    -0.055|        0|     [Fe/H]|   4.22|       0.03|      -0.03|         0|<a refstr=STASSUN...|02h49m09.96s| 42.2915093|-58d01m28.86s|-58.0246828| 402.63|      3.855|     -3.784| 11.233|      0.013|     -0.013| 10.262|      0.023|     -0.023|   11.3253|       5.93E-4|      -5.93E-4|28/3/2022|   2022-01|       NULL|\n",
            "|HD 136352 d|HD 136352|           1|      1|      3|Radial Velocity|     2019|La Silla Observatory|Published Confirmed|              0|<a refstr=DELREZ_...|  107.245|         0.05|        -0.05|           0|     0.425|         0.012|        -0.012|            0|  2.562|      0.088|     -0.079|         0|  0.229|      0.008|     -0.007|         0|      8.82|         0.93|        -0.92|           0|  0.02775|      0.00293|     -0.00289|           0|        Mass|        0.0|           NULL|           NULL|             0|    5.74|        0.38|       -0.35|          0|   431|         7|        -7|        0|       0|<a refstr=DELREZ_...|    Unknown| 5664.0|       61.0|      -61.0|         0|  1.06|      0.02|     -0.02|        0|   0.87|       0.04|      -0.04|         0| -0.24|      0.05|     -0.05|        0|      [M/H]|   4.39|       0.11|      -0.11|         0|<a refstr=STASSUN...|15h21m45.63s|230.4401147|-48d19m07.74s|-48.3188174| 14.682|     0.0199|    -0.0198|   5.65|       0.03|      -0.03|  4.159|      0.036|     -0.036|   5.48495|     0.0015675|    -0.0015675| 9/8/2021|   2021-06|       NULL|\n",
            "+-----------+---------+------------+-------+-------+---------------+---------+--------------------+-------------------+---------------+--------------------+---------+-------------+-------------+------------+----------+--------------+--------------+-------------+-------+-----------+-----------+----------+-------+-----------+-----------+----------+----------+-------------+-------------+------------+---------+-------------+-------------+------------+------------+-----------+---------------+---------------+--------------+--------+------------+------------+-----------+------+----------+----------+---------+--------+--------------------+-----------+-------+-----------+-----------+----------+------+----------+----------+---------+-------+-----------+-----------+----------+------+----------+----------+---------+-----------+-------+-----------+-----------+----------+--------------------+------------+-----------+-------------+-----------+-------+-----------+-----------+-------+-----------+-----------+-------+-----------+-----------+----------+--------------+--------------+---------+----------+-----------+\n",
            "only showing top 5 rows\n",
            "\n"
          ]
        }
      ]
    },
    {
      "cell_type": "code",
      "source": [
        "#Check the Data Types for each Column in a DataFrame\n",
        "df_types = spark.createDataFrame(df.dtypes, [\"Column\", \"DataType\"])\n",
        "df_types.show(truncate=False)"
      ],
      "metadata": {
        "colab": {
          "base_uri": "https://localhost:8080/"
        },
        "id": "XuavU06twAOe",
        "outputId": "667452a9-76fc-40c5-8396-2667ecd2d7b3"
      },
      "id": "XuavU06twAOe",
      "execution_count": 15,
      "outputs": [
        {
          "output_type": "stream",
          "name": "stdout",
          "text": [
            "+---------------+--------+\n",
            "|Column         |DataType|\n",
            "+---------------+--------+\n",
            "|pl_name        |string  |\n",
            "|hostname       |string  |\n",
            "|default_flag   |int     |\n",
            "|sy_snum        |int     |\n",
            "|sy_pnum        |int     |\n",
            "|discoverymethod|string  |\n",
            "|disc_year      |int     |\n",
            "|disc_facility  |string  |\n",
            "|soltype        |string  |\n",
            "|pl_controv_flag|int     |\n",
            "|pl_refname     |string  |\n",
            "|pl_orbper      |double  |\n",
            "|pl_orbpererr1  |double  |\n",
            "|pl_orbpererr2  |double  |\n",
            "|pl_orbperlim   |int     |\n",
            "|pl_orbsmax     |double  |\n",
            "|pl_orbsmaxerr1 |double  |\n",
            "|pl_orbsmaxerr2 |double  |\n",
            "|pl_orbsmaxlim  |int     |\n",
            "|pl_rade        |double  |\n",
            "+---------------+--------+\n",
            "only showing top 20 rows\n",
            "\n"
          ]
        }
      ]
    },
    {
      "cell_type": "code",
      "source": [
        "#Convert the Data Types into boolean for 0 and 1 values\n",
        "df = df.withColumn(\"pl_orbperlim\", col(\"pl_orbperlim\").cast(\"boolean\"))\n",
        "df = df.withColumn(\"pl_orbsmaxlim\", col(\"pl_orbsmaxlim\").cast(\"boolean\"))\n",
        "df = df.withColumn(\"pl_controv_flag\", col(\"pl_controv_flag\").cast(\"boolean\"))"
      ],
      "metadata": {
        "id": "DPf7VybhwAL6"
      },
      "id": "DPf7VybhwAL6",
      "execution_count": 16,
      "outputs": []
    },
    {
      "cell_type": "code",
      "source": [
        "#disc_year should be a proper Date not int\n",
        "from pyspark.sql.functions import to_date, concat_ws, lit\n",
        "\n",
        "# Convert disc_year (int) to a proper date format\n",
        "df = df.withColumn(\"disc_date\", to_date(concat_ws(\"-\", col(\"disc_year\").cast(\"string\"), lit(\"01\"), lit(\"01\")), \"yyyy-MM-dd\"))\n",
        "\n",
        "# Verify the updated schema\n",
        "df.select(\"disc_year\", \"disc_date\").show(5)\n",
        "df.printSchema()"
      ],
      "metadata": {
        "colab": {
          "base_uri": "https://localhost:8080/"
        },
        "id": "9aH-e1m_wAGr",
        "outputId": "219b7c55-9820-4c1e-8467-04a858abe92a"
      },
      "id": "9aH-e1m_wAGr",
      "execution_count": 17,
      "outputs": [
        {
          "output_type": "stream",
          "name": "stdout",
          "text": [
            "+---------+----------+\n",
            "|disc_year| disc_date|\n",
            "+---------+----------+\n",
            "|     2016|2016-01-01|\n",
            "|     2018|2018-01-01|\n",
            "|     2024|2024-01-01|\n",
            "|     2021|2021-01-01|\n",
            "|     2019|2019-01-01|\n",
            "+---------+----------+\n",
            "only showing top 5 rows\n",
            "\n",
            "root\n",
            " |-- pl_name: string (nullable = false)\n",
            " |-- hostname: string (nullable = false)\n",
            " |-- default_flag: integer (nullable = true)\n",
            " |-- sy_snum: integer (nullable = true)\n",
            " |-- sy_pnum: integer (nullable = true)\n",
            " |-- discoverymethod: string (nullable = false)\n",
            " |-- disc_year: integer (nullable = true)\n",
            " |-- disc_facility: string (nullable = false)\n",
            " |-- soltype: string (nullable = false)\n",
            " |-- pl_controv_flag: boolean (nullable = true)\n",
            " |-- pl_refname: string (nullable = false)\n",
            " |-- pl_orbper: double (nullable = true)\n",
            " |-- pl_orbpererr1: double (nullable = true)\n",
            " |-- pl_orbpererr2: double (nullable = true)\n",
            " |-- pl_orbperlim: boolean (nullable = true)\n",
            " |-- pl_orbsmax: double (nullable = true)\n",
            " |-- pl_orbsmaxerr1: double (nullable = true)\n",
            " |-- pl_orbsmaxerr2: double (nullable = true)\n",
            " |-- pl_orbsmaxlim: boolean (nullable = true)\n",
            " |-- pl_rade: double (nullable = true)\n",
            " |-- pl_radeerr1: double (nullable = true)\n",
            " |-- pl_radeerr2: double (nullable = true)\n",
            " |-- pl_radelim: integer (nullable = true)\n",
            " |-- pl_radj: double (nullable = true)\n",
            " |-- pl_radjerr1: double (nullable = true)\n",
            " |-- pl_radjerr2: double (nullable = true)\n",
            " |-- pl_radjlim: integer (nullable = true)\n",
            " |-- pl_bmasse: double (nullable = true)\n",
            " |-- pl_bmasseerr1: double (nullable = true)\n",
            " |-- pl_bmasseerr2: double (nullable = true)\n",
            " |-- pl_bmasselim: integer (nullable = true)\n",
            " |-- pl_bmassj: double (nullable = true)\n",
            " |-- pl_bmassjerr1: double (nullable = true)\n",
            " |-- pl_bmassjerr2: double (nullable = true)\n",
            " |-- pl_bmassjlim: integer (nullable = true)\n",
            " |-- pl_bmassprov: string (nullable = false)\n",
            " |-- pl_orbeccen: double (nullable = true)\n",
            " |-- pl_orbeccenerr1: double (nullable = true)\n",
            " |-- pl_orbeccenerr2: double (nullable = true)\n",
            " |-- pl_orbeccenlim: integer (nullable = true)\n",
            " |-- pl_insol: double (nullable = true)\n",
            " |-- pl_insolerr1: double (nullable = true)\n",
            " |-- pl_insolerr2: double (nullable = true)\n",
            " |-- pl_insollim: integer (nullable = true)\n",
            " |-- pl_eqt: integer (nullable = true)\n",
            " |-- pl_eqterr1: integer (nullable = true)\n",
            " |-- pl_eqterr2: integer (nullable = true)\n",
            " |-- pl_eqtlim: integer (nullable = true)\n",
            " |-- ttv_flag: integer (nullable = true)\n",
            " |-- st_refname: string (nullable = false)\n",
            " |-- st_spectype: string (nullable = false)\n",
            " |-- st_teff: double (nullable = true)\n",
            " |-- st_tefferr1: double (nullable = true)\n",
            " |-- st_tefferr2: double (nullable = true)\n",
            " |-- st_tefflim: integer (nullable = true)\n",
            " |-- st_rad: double (nullable = true)\n",
            " |-- st_raderr1: double (nullable = true)\n",
            " |-- st_raderr2: double (nullable = true)\n",
            " |-- st_radlim: integer (nullable = true)\n",
            " |-- st_mass: double (nullable = true)\n",
            " |-- st_masserr1: double (nullable = true)\n",
            " |-- st_masserr2: double (nullable = true)\n",
            " |-- st_masslim: integer (nullable = true)\n",
            " |-- st_met: double (nullable = true)\n",
            " |-- st_meterr1: double (nullable = true)\n",
            " |-- st_meterr2: double (nullable = true)\n",
            " |-- st_metlim: integer (nullable = true)\n",
            " |-- st_metratio: string (nullable = false)\n",
            " |-- st_logg: double (nullable = true)\n",
            " |-- st_loggerr1: double (nullable = true)\n",
            " |-- st_loggerr2: double (nullable = true)\n",
            " |-- st_logglim: integer (nullable = true)\n",
            " |-- sy_refname: string (nullable = false)\n",
            " |-- rastr: string (nullable = false)\n",
            " |-- ra: double (nullable = true)\n",
            " |-- decstr: string (nullable = false)\n",
            " |-- dec: double (nullable = true)\n",
            " |-- sy_dist: double (nullable = true)\n",
            " |-- sy_disterr1: double (nullable = true)\n",
            " |-- sy_disterr2: double (nullable = true)\n",
            " |-- sy_vmag: double (nullable = true)\n",
            " |-- sy_vmagerr1: double (nullable = true)\n",
            " |-- sy_vmagerr2: double (nullable = true)\n",
            " |-- sy_kmag: double (nullable = true)\n",
            " |-- sy_kmagerr1: double (nullable = true)\n",
            " |-- sy_kmagerr2: double (nullable = true)\n",
            " |-- sy_gaiamag: double (nullable = true)\n",
            " |-- sy_gaiamagerr1: double (nullable = true)\n",
            " |-- sy_gaiamagerr2: double (nullable = true)\n",
            " |-- rowupdate: string (nullable = false)\n",
            " |-- pl_pubdate: string (nullable = false)\n",
            " |-- releasedate: date (nullable = true)\n",
            " |-- disc_date: date (nullable = true)\n",
            "\n"
          ]
        }
      ]
    },
    {
      "cell_type": "code",
      "source": [
        "# Count null values per column\n",
        "missing_counts = df.select([count(when(col(c).isNull(), 1)).alias(c) for c in df.columns])\n",
        "missing_counts.show()\n"
      ],
      "metadata": {
        "colab": {
          "base_uri": "https://localhost:8080/"
        },
        "id": "3kFIeqbhwN6G",
        "outputId": "1545982b-803e-495f-fa14-eefbdbed041f"
      },
      "id": "3kFIeqbhwN6G",
      "execution_count": 18,
      "outputs": [
        {
          "output_type": "stream",
          "name": "stdout",
          "text": [
            "+-------+--------+------------+-------+-------+---------------+---------+-------------+-------+---------------+----------+---------+-------------+-------------+------------+----------+--------------+--------------+-------------+-------+-----------+-----------+----------+-------+-----------+-----------+----------+---------+-------------+-------------+------------+---------+-------------+-------------+------------+------------+-----------+---------------+---------------+--------------+--------+------------+------------+-----------+------+----------+----------+---------+--------+----------+-----------+-------+-----------+-----------+----------+------+----------+----------+---------+-------+-----------+-----------+----------+------+----------+----------+---------+-----------+-------+-----------+-----------+----------+----------+-----+---+------+---+-------+-----------+-----------+-------+-----------+-----------+-------+-----------+-----------+----------+--------------+--------------+---------+----------+-----------+---------+\n",
            "|pl_name|hostname|default_flag|sy_snum|sy_pnum|discoverymethod|disc_year|disc_facility|soltype|pl_controv_flag|pl_refname|pl_orbper|pl_orbpererr1|pl_orbpererr2|pl_orbperlim|pl_orbsmax|pl_orbsmaxerr1|pl_orbsmaxerr2|pl_orbsmaxlim|pl_rade|pl_radeerr1|pl_radeerr2|pl_radelim|pl_radj|pl_radjerr1|pl_radjerr2|pl_radjlim|pl_bmasse|pl_bmasseerr1|pl_bmasseerr2|pl_bmasselim|pl_bmassj|pl_bmassjerr1|pl_bmassjerr2|pl_bmassjlim|pl_bmassprov|pl_orbeccen|pl_orbeccenerr1|pl_orbeccenerr2|pl_orbeccenlim|pl_insol|pl_insolerr1|pl_insolerr2|pl_insollim|pl_eqt|pl_eqterr1|pl_eqterr2|pl_eqtlim|ttv_flag|st_refname|st_spectype|st_teff|st_tefferr1|st_tefferr2|st_tefflim|st_rad|st_raderr1|st_raderr2|st_radlim|st_mass|st_masserr1|st_masserr2|st_masslim|st_met|st_meterr1|st_meterr2|st_metlim|st_metratio|st_logg|st_loggerr1|st_loggerr2|st_logglim|sy_refname|rastr| ra|decstr|dec|sy_dist|sy_disterr1|sy_disterr2|sy_vmag|sy_vmagerr1|sy_vmagerr2|sy_kmag|sy_kmagerr1|sy_kmagerr2|sy_gaiamag|sy_gaiamagerr1|sy_gaiamagerr2|rowupdate|pl_pubdate|releasedate|disc_date|\n",
            "+-------+--------+------------+-------+-------+---------------+---------+-------------+-------+---------------+----------+---------+-------------+-------------+------------+----------+--------------+--------------+-------------+-------+-----------+-----------+----------+-------+-----------+-----------+----------+---------+-------------+-------------+------------+---------+-------------+-------------+------------+------------+-----------+---------------+---------------+--------------+--------+------------+------------+-----------+------+----------+----------+---------+--------+----------+-----------+-------+-----------+-----------+----------+------+----------+----------+---------+-------+-----------+-----------+----------+------+----------+----------+---------+-----------+-------+-----------+-----------+----------+----------+-----+---+------+---+-------+-----------+-----------+-------+-----------+-----------+-------+-----------+-----------+----------+--------------+--------------+---------+----------+-----------+---------+\n",
            "|      0|       0|           0|      0|      0|              0|        0|            0|      0|              0|         0|        0|           56|           56|           0|       199|           210|           210|          199|      0|         10|         10|         0|      0|         10|         10|         0|        0|          111|          111|           0|        0|          111|          111|           0|           0|        172|            703|            703|           171|     753|         756|         756|        753|   297|       315|       315|      297|       0|         0|          0|      0|          8|         26|         0|     3|        10|        23|        3|      3|         10|         25|         3|    79|       167|       167|       79|          0|    132|        143|        143|       132|         0|    0|  0|     0|  0|      7|         14|         14|      0|          1|          1|      3|          8|          8|         2|             2|             2|        0|         0|       1130|        0|\n",
            "+-------+--------+------------+-------+-------+---------------+---------+-------------+-------+---------------+----------+---------+-------------+-------------+------------+----------+--------------+--------------+-------------+-------+-----------+-----------+----------+-------+-----------+-----------+----------+---------+-------------+-------------+------------+---------+-------------+-------------+------------+------------+-----------+---------------+---------------+--------------+--------+------------+------------+-----------+------+----------+----------+---------+--------+----------+-----------+-------+-----------+-----------+----------+------+----------+----------+---------+-------+-----------+-----------+----------+------+----------+----------+---------+-----------+-------+-----------+-----------+----------+----------+-----+---+------+---+-------+-----------+-----------+-------+-----------+-----------+-------+-----------+-----------+----------+--------------+--------------+---------+----------+-----------+---------+\n",
            "\n"
          ]
        }
      ]
    },
    {
      "cell_type": "code",
      "source": [
        "# Get columns where more than 50% values are missing\n",
        "cols_to_drop = [c for c in df.columns if df.select(count(when(col(c).isNull(), 1)) / total_rows).collect()[0][0] > 0.5]\n",
        "\n",
        "# Drop those columns\n",
        "df = df.drop(*cols_to_drop)\n",
        "\n",
        "df.show(5)"
      ],
      "metadata": {
        "colab": {
          "base_uri": "https://localhost:8080/"
        },
        "id": "1mUwl2yeypNM",
        "outputId": "2ca48019-3422-40c1-8f46-5671d2fa054b"
      },
      "id": "1mUwl2yeypNM",
      "execution_count": 19,
      "outputs": [
        {
          "output_type": "stream",
          "name": "stdout",
          "text": [
            "+-----------+---------+------------+-------+-------+---------------+---------+--------------------+-------------------+---------------+--------------------+---------+-------------+-------------+------------+----------+--------------+--------------+-------------+-------+-----------+-----------+----------+-------+-----------+-----------+----------+----------+-------------+-------------+------------+---------+-------------+-------------+------------+------------+-----------+---------------+---------------+--------------+--------+------------+------------+-----------+------+----------+----------+---------+--------+--------------------+-----------+-------+-----------+-----------+----------+------+----------+----------+---------+-------+-----------+-----------+----------+------+----------+----------+---------+-----------+-------+-----------+-----------+----------+--------------------+------------+-----------+-------------+-----------+-------+-----------+-----------+-------+-----------+-----------+-------+-----------+-----------+----------+--------------+--------------+---------+----------+-----------+----------+\n",
            "|    pl_name| hostname|default_flag|sy_snum|sy_pnum|discoverymethod|disc_year|       disc_facility|            soltype|pl_controv_flag|          pl_refname|pl_orbper|pl_orbpererr1|pl_orbpererr2|pl_orbperlim|pl_orbsmax|pl_orbsmaxerr1|pl_orbsmaxerr2|pl_orbsmaxlim|pl_rade|pl_radeerr1|pl_radeerr2|pl_radelim|pl_radj|pl_radjerr1|pl_radjerr2|pl_radjlim| pl_bmasse|pl_bmasseerr1|pl_bmasseerr2|pl_bmasselim|pl_bmassj|pl_bmassjerr1|pl_bmassjerr2|pl_bmassjlim|pl_bmassprov|pl_orbeccen|pl_orbeccenerr1|pl_orbeccenerr2|pl_orbeccenlim|pl_insol|pl_insolerr1|pl_insolerr2|pl_insollim|pl_eqt|pl_eqterr1|pl_eqterr2|pl_eqtlim|ttv_flag|          st_refname|st_spectype|st_teff|st_tefferr1|st_tefferr2|st_tefflim|st_rad|st_raderr1|st_raderr2|st_radlim|st_mass|st_masserr1|st_masserr2|st_masslim|st_met|st_meterr1|st_meterr2|st_metlim|st_metratio|st_logg|st_loggerr1|st_loggerr2|st_logglim|          sy_refname|       rastr|         ra|       decstr|        dec|sy_dist|sy_disterr1|sy_disterr2|sy_vmag|sy_vmagerr1|sy_vmagerr2|sy_kmag|sy_kmagerr1|sy_kmagerr2|sy_gaiamag|sy_gaiamagerr1|sy_gaiamagerr2|rowupdate|pl_pubdate|releasedate| disc_date|\n",
            "+-----------+---------+------------+-------+-------+---------------+---------+--------------------+-------------------+---------------+--------------------+---------+-------------+-------------+------------+----------+--------------+--------------+-------------+-------+-----------+-----------+----------+-------+-----------+-----------+----------+----------+-------------+-------------+------------+---------+-------------+-------------+------------+------------+-----------+---------------+---------------+--------------+--------+------------+------------+-----------+------+----------+----------+---------+--------+--------------------+-----------+-------+-----------+-----------+----------+------+----------+----------+---------+-------+-----------+-----------+----------+------+----------+----------+---------+-----------+-------+-----------+-----------+----------+--------------------+------------+-----------+-------------+-----------+-------+-----------+-----------+-------+-----------+-----------+-------+-----------+-----------+----------+--------------+--------------+---------+----------+-----------+----------+\n",
            "|BD+20 594 b|BD+20 594|           1|      1|      1|        Transit|     2016|                  K2|Published Confirmed|          false|<a refstr=STASSUN...|  41.6855|        0.003|       -0.003|       false|      NULL|          NULL|          NULL|         NULL|  2.578|      0.112|     -0.112|         0|   0.23|       0.01|      -0.01|         0|   22.2481|       9.5349|      -9.5349|           0|     0.07|         0.03|        -0.03|           0|        Mass|        0.0|           NULL|           NULL|             0|    NULL|        NULL|        NULL|       NULL|  NULL|      NULL|      NULL|     NULL|       0|<a refstr=STASSUN...|    Unknown| 5766.0|       99.0|      -99.0|         0|  1.08|      0.06|     -0.06|        0|   1.67|        0.4|       -0.4|         0| -0.15|      NULL|      NULL|        0|     [Fe/H]|    4.5|       0.08|      -0.08|         0|<a refstr=STASSUN...|03h34m36.27s| 53.6511231|+20d35m56.47s| 20.5990205|179.461|      1.257|      -1.24| 10.849|      0.012|     -0.012|  9.368|      0.018|     -0.018|   10.8644|       2.49E-4|      -2.49E-4|25/4/2018|   2017-03|       NULL|2016-01-01|\n",
            "|   K2-263 b|   K2-263|           1|      1|      1|        Transit|     2018|                  K2|Published Confirmed|          false|<a refstr=BONOMO_...|50.818947|       9.4E-5|      -9.4E-5|       false|    0.2573|         0.003|        -0.003|        false|   2.41|       0.12|      -0.12|         0|  0.215|      0.011|     -0.011|         0|      14.9|          2.1|         -2.1|           0|  0.04688|      0.00661|     -0.00661|           0|        Mass|       0.15|           NULL|           NULL|             1|    8.17|        0.52|       -0.52|          0|   470|         7|        -7|        0|       0|<a refstr=BONOMO_...|    Unknown| 5368.0|       44.0|      -44.0|         0|  0.85|      0.02|     -0.02|        0|   0.88|       0.03|      -0.03|         0| -0.08|      0.05|     -0.05|        0|     [Fe/H]|   NULL|       NULL|       NULL|      NULL|<a refstr=STASSUN...|08h38m43.71s|129.6821253|+15d40m50.17s| 15.6806039|162.481|       1.38|     -1.357| 11.568|      0.046|     -0.046|  9.748|       0.02|      -0.02|   11.4055|        6.8E-4|       -6.8E-4|17/4/2023|   2023-04|       NULL|2018-01-01|\n",
            "| TOI-3071 b| TOI-3071|           1|      1|      1|        Transit|     2024|Transiting Exopla...|Published Confirmed|          false|<a refstr=HACKER_...| 1.266938|       2.0E-6|      -2.0E-6|       false|    0.0249|        1.0E-4|       -1.0E-4|        false|   7.16|       0.57|      -0.51|         0|  0.639|      0.051|     -0.045|         0|      68.2|          3.5|         -3.5|           0|  0.21458|      0.01101|     -0.01101|           0|        Mass|       0.09|           NULL|           NULL|             1|    NULL|        NULL|        NULL|       NULL|  2155|        40|       -40|        0|       0|<a refstr=HACKER_...|    Unknown| 6177.0|       62.0|      -62.0|         0|  1.31|      0.04|     -0.04|        0|   1.29|       0.02|      -0.02|         0|  0.35|      0.04|     -0.04|        0|     [Fe/H]|   4.37|        0.1|       -0.1|         0|<a refstr=STASSUN...|11h33m06.97s|173.2790517|-56d30m12.19s|-56.5033871|485.219|      9.044|     -8.725| 12.383|      0.057|     -0.057| 11.005|      0.021|     -0.021|   12.2766|       1.52E-4|      -1.52E-4|25/6/2024|   2024-06|       NULL|2024-01-01|\n",
            "|  TOI-558 b|  TOI-558|           1|      1|      1|        Transit|     2021|Transiting Exopla...|Published Confirmed|          false|<a refstr=IKWUT_U...|14.574071|       2.6E-5|      -2.6E-5|       false|    0.1291|         0.002|       -0.0021|        false| 12.173|       0.46|     -0.426|         0|  1.086|      0.041|     -0.038|         0|1147.36055|     47.67426|    -47.67426|           0|     3.61|         0.15|        -0.15|           0|        Mass|      0.298|          0.022|          -0.02|             0|    NULL|        NULL|        NULL|       NULL|  1061|        13|       -12|        0|       0|<a refstr=IKWUT_U...|        F V| 6466.0|       95.0|      -93.0|         0|   1.5|      0.04|     -0.04|        0|   1.35|       0.06|      -0.07|         0|-0.004|     0.059|    -0.055|        0|     [Fe/H]|   4.22|       0.03|      -0.03|         0|<a refstr=STASSUN...|02h49m09.96s| 42.2915093|-58d01m28.86s|-58.0246828| 402.63|      3.855|     -3.784| 11.233|      0.013|     -0.013| 10.262|      0.023|     -0.023|   11.3253|       5.93E-4|      -5.93E-4|28/3/2022|   2022-01|       NULL|2021-01-01|\n",
            "|HD 136352 d|HD 136352|           1|      1|      3|Radial Velocity|     2019|La Silla Observatory|Published Confirmed|          false|<a refstr=DELREZ_...|  107.245|         0.05|        -0.05|       false|     0.425|         0.012|        -0.012|        false|  2.562|      0.088|     -0.079|         0|  0.229|      0.008|     -0.007|         0|      8.82|         0.93|        -0.92|           0|  0.02775|      0.00293|     -0.00289|           0|        Mass|        0.0|           NULL|           NULL|             0|    5.74|        0.38|       -0.35|          0|   431|         7|        -7|        0|       0|<a refstr=DELREZ_...|    Unknown| 5664.0|       61.0|      -61.0|         0|  1.06|      0.02|     -0.02|        0|   0.87|       0.04|      -0.04|         0| -0.24|      0.05|     -0.05|        0|      [M/H]|   4.39|       0.11|      -0.11|         0|<a refstr=STASSUN...|15h21m45.63s|230.4401147|-48d19m07.74s|-48.3188174| 14.682|     0.0199|    -0.0198|   5.65|       0.03|      -0.03|  4.159|      0.036|     -0.036|   5.48495|     0.0015675|    -0.0015675| 9/8/2021|   2021-06|       NULL|2019-01-01|\n",
            "+-----------+---------+------------+-------+-------+---------------+---------+--------------------+-------------------+---------------+--------------------+---------+-------------+-------------+------------+----------+--------------+--------------+-------------+-------+-----------+-----------+----------+-------+-----------+-----------+----------+----------+-------------+-------------+------------+---------+-------------+-------------+------------+------------+-----------+---------------+---------------+--------------+--------+------------+------------+-----------+------+----------+----------+---------+--------+--------------------+-----------+-------+-----------+-----------+----------+------+----------+----------+---------+-------+-----------+-----------+----------+------+----------+----------+---------+-----------+-------+-----------+-----------+----------+--------------------+------------+-----------+-------------+-----------+-------+-----------+-----------+-------+-----------+-----------+-------+-----------+-----------+----------+--------------+--------------+---------+----------+-----------+----------+\n",
            "only showing top 5 rows\n",
            "\n"
          ]
        }
      ]
    },
    {
      "cell_type": "code",
      "source": [
        "#Drop Rows where key Columns are missing\n",
        "df = df.dropna(subset=[\"pl_name\", \"hostname\"])\n",
        "df.show(5)"
      ],
      "metadata": {
        "colab": {
          "base_uri": "https://localhost:8080/"
        },
        "id": "DO2bC1xMypKX",
        "outputId": "152213de-7555-4e14-9a21-edbf35f023ac"
      },
      "id": "DO2bC1xMypKX",
      "execution_count": 20,
      "outputs": [
        {
          "output_type": "stream",
          "name": "stdout",
          "text": [
            "+-----------+---------+------------+-------+-------+---------------+---------+--------------------+-------------------+---------------+--------------------+---------+-------------+-------------+------------+----------+--------------+--------------+-------------+-------+-----------+-----------+----------+-------+-----------+-----------+----------+----------+-------------+-------------+------------+---------+-------------+-------------+------------+------------+-----------+---------------+---------------+--------------+--------+------------+------------+-----------+------+----------+----------+---------+--------+--------------------+-----------+-------+-----------+-----------+----------+------+----------+----------+---------+-------+-----------+-----------+----------+------+----------+----------+---------+-----------+-------+-----------+-----------+----------+--------------------+------------+-----------+-------------+-----------+-------+-----------+-----------+-------+-----------+-----------+-------+-----------+-----------+----------+--------------+--------------+---------+----------+-----------+----------+\n",
            "|    pl_name| hostname|default_flag|sy_snum|sy_pnum|discoverymethod|disc_year|       disc_facility|            soltype|pl_controv_flag|          pl_refname|pl_orbper|pl_orbpererr1|pl_orbpererr2|pl_orbperlim|pl_orbsmax|pl_orbsmaxerr1|pl_orbsmaxerr2|pl_orbsmaxlim|pl_rade|pl_radeerr1|pl_radeerr2|pl_radelim|pl_radj|pl_radjerr1|pl_radjerr2|pl_radjlim| pl_bmasse|pl_bmasseerr1|pl_bmasseerr2|pl_bmasselim|pl_bmassj|pl_bmassjerr1|pl_bmassjerr2|pl_bmassjlim|pl_bmassprov|pl_orbeccen|pl_orbeccenerr1|pl_orbeccenerr2|pl_orbeccenlim|pl_insol|pl_insolerr1|pl_insolerr2|pl_insollim|pl_eqt|pl_eqterr1|pl_eqterr2|pl_eqtlim|ttv_flag|          st_refname|st_spectype|st_teff|st_tefferr1|st_tefferr2|st_tefflim|st_rad|st_raderr1|st_raderr2|st_radlim|st_mass|st_masserr1|st_masserr2|st_masslim|st_met|st_meterr1|st_meterr2|st_metlim|st_metratio|st_logg|st_loggerr1|st_loggerr2|st_logglim|          sy_refname|       rastr|         ra|       decstr|        dec|sy_dist|sy_disterr1|sy_disterr2|sy_vmag|sy_vmagerr1|sy_vmagerr2|sy_kmag|sy_kmagerr1|sy_kmagerr2|sy_gaiamag|sy_gaiamagerr1|sy_gaiamagerr2|rowupdate|pl_pubdate|releasedate| disc_date|\n",
            "+-----------+---------+------------+-------+-------+---------------+---------+--------------------+-------------------+---------------+--------------------+---------+-------------+-------------+------------+----------+--------------+--------------+-------------+-------+-----------+-----------+----------+-------+-----------+-----------+----------+----------+-------------+-------------+------------+---------+-------------+-------------+------------+------------+-----------+---------------+---------------+--------------+--------+------------+------------+-----------+------+----------+----------+---------+--------+--------------------+-----------+-------+-----------+-----------+----------+------+----------+----------+---------+-------+-----------+-----------+----------+------+----------+----------+---------+-----------+-------+-----------+-----------+----------+--------------------+------------+-----------+-------------+-----------+-------+-----------+-----------+-------+-----------+-----------+-------+-----------+-----------+----------+--------------+--------------+---------+----------+-----------+----------+\n",
            "|BD+20 594 b|BD+20 594|           1|      1|      1|        Transit|     2016|                  K2|Published Confirmed|          false|<a refstr=STASSUN...|  41.6855|        0.003|       -0.003|       false|      NULL|          NULL|          NULL|         NULL|  2.578|      0.112|     -0.112|         0|   0.23|       0.01|      -0.01|         0|   22.2481|       9.5349|      -9.5349|           0|     0.07|         0.03|        -0.03|           0|        Mass|        0.0|           NULL|           NULL|             0|    NULL|        NULL|        NULL|       NULL|  NULL|      NULL|      NULL|     NULL|       0|<a refstr=STASSUN...|    Unknown| 5766.0|       99.0|      -99.0|         0|  1.08|      0.06|     -0.06|        0|   1.67|        0.4|       -0.4|         0| -0.15|      NULL|      NULL|        0|     [Fe/H]|    4.5|       0.08|      -0.08|         0|<a refstr=STASSUN...|03h34m36.27s| 53.6511231|+20d35m56.47s| 20.5990205|179.461|      1.257|      -1.24| 10.849|      0.012|     -0.012|  9.368|      0.018|     -0.018|   10.8644|       2.49E-4|      -2.49E-4|25/4/2018|   2017-03|       NULL|2016-01-01|\n",
            "|   K2-263 b|   K2-263|           1|      1|      1|        Transit|     2018|                  K2|Published Confirmed|          false|<a refstr=BONOMO_...|50.818947|       9.4E-5|      -9.4E-5|       false|    0.2573|         0.003|        -0.003|        false|   2.41|       0.12|      -0.12|         0|  0.215|      0.011|     -0.011|         0|      14.9|          2.1|         -2.1|           0|  0.04688|      0.00661|     -0.00661|           0|        Mass|       0.15|           NULL|           NULL|             1|    8.17|        0.52|       -0.52|          0|   470|         7|        -7|        0|       0|<a refstr=BONOMO_...|    Unknown| 5368.0|       44.0|      -44.0|         0|  0.85|      0.02|     -0.02|        0|   0.88|       0.03|      -0.03|         0| -0.08|      0.05|     -0.05|        0|     [Fe/H]|   NULL|       NULL|       NULL|      NULL|<a refstr=STASSUN...|08h38m43.71s|129.6821253|+15d40m50.17s| 15.6806039|162.481|       1.38|     -1.357| 11.568|      0.046|     -0.046|  9.748|       0.02|      -0.02|   11.4055|        6.8E-4|       -6.8E-4|17/4/2023|   2023-04|       NULL|2018-01-01|\n",
            "| TOI-3071 b| TOI-3071|           1|      1|      1|        Transit|     2024|Transiting Exopla...|Published Confirmed|          false|<a refstr=HACKER_...| 1.266938|       2.0E-6|      -2.0E-6|       false|    0.0249|        1.0E-4|       -1.0E-4|        false|   7.16|       0.57|      -0.51|         0|  0.639|      0.051|     -0.045|         0|      68.2|          3.5|         -3.5|           0|  0.21458|      0.01101|     -0.01101|           0|        Mass|       0.09|           NULL|           NULL|             1|    NULL|        NULL|        NULL|       NULL|  2155|        40|       -40|        0|       0|<a refstr=HACKER_...|    Unknown| 6177.0|       62.0|      -62.0|         0|  1.31|      0.04|     -0.04|        0|   1.29|       0.02|      -0.02|         0|  0.35|      0.04|     -0.04|        0|     [Fe/H]|   4.37|        0.1|       -0.1|         0|<a refstr=STASSUN...|11h33m06.97s|173.2790517|-56d30m12.19s|-56.5033871|485.219|      9.044|     -8.725| 12.383|      0.057|     -0.057| 11.005|      0.021|     -0.021|   12.2766|       1.52E-4|      -1.52E-4|25/6/2024|   2024-06|       NULL|2024-01-01|\n",
            "|  TOI-558 b|  TOI-558|           1|      1|      1|        Transit|     2021|Transiting Exopla...|Published Confirmed|          false|<a refstr=IKWUT_U...|14.574071|       2.6E-5|      -2.6E-5|       false|    0.1291|         0.002|       -0.0021|        false| 12.173|       0.46|     -0.426|         0|  1.086|      0.041|     -0.038|         0|1147.36055|     47.67426|    -47.67426|           0|     3.61|         0.15|        -0.15|           0|        Mass|      0.298|          0.022|          -0.02|             0|    NULL|        NULL|        NULL|       NULL|  1061|        13|       -12|        0|       0|<a refstr=IKWUT_U...|        F V| 6466.0|       95.0|      -93.0|         0|   1.5|      0.04|     -0.04|        0|   1.35|       0.06|      -0.07|         0|-0.004|     0.059|    -0.055|        0|     [Fe/H]|   4.22|       0.03|      -0.03|         0|<a refstr=STASSUN...|02h49m09.96s| 42.2915093|-58d01m28.86s|-58.0246828| 402.63|      3.855|     -3.784| 11.233|      0.013|     -0.013| 10.262|      0.023|     -0.023|   11.3253|       5.93E-4|      -5.93E-4|28/3/2022|   2022-01|       NULL|2021-01-01|\n",
            "|HD 136352 d|HD 136352|           1|      1|      3|Radial Velocity|     2019|La Silla Observatory|Published Confirmed|          false|<a refstr=DELREZ_...|  107.245|         0.05|        -0.05|       false|     0.425|         0.012|        -0.012|        false|  2.562|      0.088|     -0.079|         0|  0.229|      0.008|     -0.007|         0|      8.82|         0.93|        -0.92|           0|  0.02775|      0.00293|     -0.00289|           0|        Mass|        0.0|           NULL|           NULL|             0|    5.74|        0.38|       -0.35|          0|   431|         7|        -7|        0|       0|<a refstr=DELREZ_...|    Unknown| 5664.0|       61.0|      -61.0|         0|  1.06|      0.02|     -0.02|        0|   0.87|       0.04|      -0.04|         0| -0.24|      0.05|     -0.05|        0|      [M/H]|   4.39|       0.11|      -0.11|         0|<a refstr=STASSUN...|15h21m45.63s|230.4401147|-48d19m07.74s|-48.3188174| 14.682|     0.0199|    -0.0198|   5.65|       0.03|      -0.03|  4.159|      0.036|     -0.036|   5.48495|     0.0015675|    -0.0015675| 9/8/2021|   2021-06|       NULL|2019-01-01|\n",
            "+-----------+---------+------------+-------+-------+---------------+---------+--------------------+-------------------+---------------+--------------------+---------+-------------+-------------+------------+----------+--------------+--------------+-------------+-------+-----------+-----------+----------+-------+-----------+-----------+----------+----------+-------------+-------------+------------+---------+-------------+-------------+------------+------------+-----------+---------------+---------------+--------------+--------+------------+------------+-----------+------+----------+----------+---------+--------+--------------------+-----------+-------+-----------+-----------+----------+------+----------+----------+---------+-------+-----------+-----------+----------+------+----------+----------+---------+-----------+-------+-----------+-----------+----------+--------------------+------------+-----------+-------------+-----------+-------+-----------+-----------+-------+-----------+-----------+-------+-----------+-----------+----------+--------------+--------------+---------+----------+-----------+----------+\n",
            "only showing top 5 rows\n",
            "\n"
          ]
        }
      ]
    },
    {
      "cell_type": "code",
      "source": [
        "# Fill missing numerical values with Mean\n",
        "from pyspark.sql.functions import mean\n",
        "\n",
        "num_cols = [c for c, dtype in df.dtypes if dtype in (\"int\", \"double\")]\n",
        "\n",
        "for c in num_cols:\n",
        "    mean_value = df.select(mean(col(c))).collect()[0][0]\n",
        "    if mean_value is not None:\n",
        "        df = df.fillna({c: mean_value})\n",
        "\n",
        "df.show(5)"
      ],
      "metadata": {
        "colab": {
          "base_uri": "https://localhost:8080/"
        },
        "id": "NWa-FfByypHh",
        "outputId": "8ddb5ccd-6e2c-495e-d0b0-695625adcc4a"
      },
      "id": "NWa-FfByypHh",
      "execution_count": 21,
      "outputs": [
        {
          "output_type": "stream",
          "name": "stdout",
          "text": [
            "+-----------+---------+------------+-------+-------+---------------+---------+--------------------+-------------------+---------------+--------------------+---------+-------------+-------------+------------+-------------------+--------------------+--------------------+-------------+-------+-----------+-----------+----------+-------+-----------+-----------+----------+----------+-------------+-------------+------------+---------+-------------+-------------+------------+------------+-----------+-------------------+--------------------+--------------+-----------------+------------------+-------------------+-----------+------+----------+----------+---------+--------+--------------------+-----------+-------+-----------+-----------+----------+------+----------+----------+---------+-------+-----------+-----------+----------+------+-------------------+-------------------+---------+-----------+-----------------+-------------------+--------------------+----------+--------------------+------------+-----------+-------------+-----------+-------+-----------+-----------+-------+-----------+-----------+-------+-----------+-----------+----------+--------------+--------------+---------+----------+-----------+----------+\n",
            "|    pl_name| hostname|default_flag|sy_snum|sy_pnum|discoverymethod|disc_year|       disc_facility|            soltype|pl_controv_flag|          pl_refname|pl_orbper|pl_orbpererr1|pl_orbpererr2|pl_orbperlim|         pl_orbsmax|      pl_orbsmaxerr1|      pl_orbsmaxerr2|pl_orbsmaxlim|pl_rade|pl_radeerr1|pl_radeerr2|pl_radelim|pl_radj|pl_radjerr1|pl_radjerr2|pl_radjlim| pl_bmasse|pl_bmasseerr1|pl_bmasseerr2|pl_bmasselim|pl_bmassj|pl_bmassjerr1|pl_bmassjerr2|pl_bmassjlim|pl_bmassprov|pl_orbeccen|    pl_orbeccenerr1|     pl_orbeccenerr2|pl_orbeccenlim|         pl_insol|      pl_insolerr1|       pl_insolerr2|pl_insollim|pl_eqt|pl_eqterr1|pl_eqterr2|pl_eqtlim|ttv_flag|          st_refname|st_spectype|st_teff|st_tefferr1|st_tefferr2|st_tefflim|st_rad|st_raderr1|st_raderr2|st_radlim|st_mass|st_masserr1|st_masserr2|st_masslim|st_met|         st_meterr1|         st_meterr2|st_metlim|st_metratio|          st_logg|        st_loggerr1|         st_loggerr2|st_logglim|          sy_refname|       rastr|         ra|       decstr|        dec|sy_dist|sy_disterr1|sy_disterr2|sy_vmag|sy_vmagerr1|sy_vmagerr2|sy_kmag|sy_kmagerr1|sy_kmagerr2|sy_gaiamag|sy_gaiamagerr1|sy_gaiamagerr2|rowupdate|pl_pubdate|releasedate| disc_date|\n",
            "+-----------+---------+------------+-------+-------+---------------+---------+--------------------+-------------------+---------------+--------------------+---------+-------------+-------------+------------+-------------------+--------------------+--------------------+-------------+-------+-----------+-----------+----------+-------+-----------+-----------+----------+----------+-------------+-------------+------------+---------+-------------+-------------+------------+------------+-----------+-------------------+--------------------+--------------+-----------------+------------------+-------------------+-----------+------+----------+----------+---------+--------+--------------------+-----------+-------+-----------+-----------+----------+------+----------+----------+---------+-------+-----------+-----------+----------+------+-------------------+-------------------+---------+-----------+-----------------+-------------------+--------------------+----------+--------------------+------------+-----------+-------------+-----------+-------+-----------+-----------+-------+-----------+-----------+-------+-----------+-----------+----------+--------------+--------------+---------+----------+-----------+----------+\n",
            "|BD+20 594 b|BD+20 594|           1|      1|      1|        Transit|     2016|                  K2|Published Confirmed|          false|<a refstr=STASSUN...|  41.6855|        0.003|       -0.003|       false|0.11312557679914084|0.002684978260869558|-0.00277893804347...|         NULL|  2.578|      0.112|     -0.112|         0|   0.23|       0.01|      -0.01|         0|   22.2481|       9.5349|      -9.5349|           0|     0.07|         0.03|        -0.03|           0|        Mass|        0.0|0.04802127868852457|-0.04109831850117093|             0|486.9533952254641|39.427112299465236|-35.799064171123014|          0|  1102|        28|       -27|        0|       0|<a refstr=STASSUN...|    Unknown| 5766.0|       99.0|      -99.0|         0|  1.08|      0.06|     -0.06|        0|   1.67|        0.4|       -0.4|         0| -0.15|0.08140913811007251|-0.0808961578400829|        0|     [Fe/H]|              4.5|               0.08|               -0.08|         0|<a refstr=STASSUN...|03h34m36.27s| 53.6511231|+20d35m56.47s| 20.5990205|179.461|      1.257|      -1.24| 10.849|      0.012|     -0.012|  9.368|      0.018|     -0.018|   10.8644|       2.49E-4|      -2.49E-4|25/4/2018|   2017-03|       NULL|2016-01-01|\n",
            "|   K2-263 b|   K2-263|           1|      1|      1|        Transit|     2018|                  K2|Published Confirmed|          false|<a refstr=BONOMO_...|50.818947|       9.4E-5|      -9.4E-5|       false|             0.2573|               0.003|              -0.003|        false|   2.41|       0.12|      -0.12|         0|  0.215|      0.011|     -0.011|         0|      14.9|          2.1|         -2.1|           0|  0.04688|      0.00661|     -0.00661|           0|        Mass|       0.15|0.04802127868852457|-0.04109831850117093|             1|             8.17|              0.52|              -0.52|          0|   470|         7|        -7|        0|       0|<a refstr=BONOMO_...|    Unknown| 5368.0|       44.0|      -44.0|         0|  0.85|      0.02|     -0.02|        0|   0.88|       0.03|      -0.03|         0| -0.08|               0.05|              -0.05|        0|     [Fe/H]|4.392565130260518|0.05862208713272568|-0.05907801418439738|         0|<a refstr=STASSUN...|08h38m43.71s|129.6821253|+15d40m50.17s| 15.6806039|162.481|       1.38|     -1.357| 11.568|      0.046|     -0.046|  9.748|       0.02|      -0.02|   11.4055|        6.8E-4|       -6.8E-4|17/4/2023|   2023-04|       NULL|2018-01-01|\n",
            "| TOI-3071 b| TOI-3071|           1|      1|      1|        Transit|     2024|Transiting Exopla...|Published Confirmed|          false|<a refstr=HACKER_...| 1.266938|       2.0E-6|      -2.0E-6|       false|             0.0249|              1.0E-4|             -1.0E-4|        false|   7.16|       0.57|      -0.51|         0|  0.639|      0.051|     -0.045|         0|      68.2|          3.5|         -3.5|           0|  0.21458|      0.01101|     -0.01101|           0|        Mass|       0.09|0.04802127868852457|-0.04109831850117093|             1|486.9533952254641|39.427112299465236|-35.799064171123014|          0|  2155|        40|       -40|        0|       0|<a refstr=HACKER_...|    Unknown| 6177.0|       62.0|      -62.0|         0|  1.31|      0.04|     -0.04|        0|   1.29|       0.02|      -0.02|         0|  0.35|               0.04|              -0.04|        0|     [Fe/H]|             4.37|                0.1|                -0.1|         0|<a refstr=STASSUN...|11h33m06.97s|173.2790517|-56d30m12.19s|-56.5033871|485.219|      9.044|     -8.725| 12.383|      0.057|     -0.057| 11.005|      0.021|     -0.021|   12.2766|       1.52E-4|      -1.52E-4|25/6/2024|   2024-06|       NULL|2024-01-01|\n",
            "|  TOI-558 b|  TOI-558|           1|      1|      1|        Transit|     2021|Transiting Exopla...|Published Confirmed|          false|<a refstr=IKWUT_U...|14.574071|       2.6E-5|      -2.6E-5|       false|             0.1291|               0.002|             -0.0021|        false| 12.173|       0.46|     -0.426|         0|  1.086|      0.041|     -0.038|         0|1147.36055|     47.67426|    -47.67426|           0|     3.61|         0.15|        -0.15|           0|        Mass|      0.298|              0.022|               -0.02|             0|486.9533952254641|39.427112299465236|-35.799064171123014|          0|  1061|        13|       -12|        0|       0|<a refstr=IKWUT_U...|        F V| 6466.0|       95.0|      -93.0|         0|   1.5|      0.04|     -0.04|        0|   1.35|       0.06|      -0.07|         0|-0.004|              0.059|             -0.055|        0|     [Fe/H]|             4.22|               0.03|               -0.03|         0|<a refstr=STASSUN...|02h49m09.96s| 42.2915093|-58d01m28.86s|-58.0246828| 402.63|      3.855|     -3.784| 11.233|      0.013|     -0.013| 10.262|      0.023|     -0.023|   11.3253|       5.93E-4|      -5.93E-4|28/3/2022|   2022-01|       NULL|2021-01-01|\n",
            "|HD 136352 d|HD 136352|           1|      1|      3|Radial Velocity|     2019|La Silla Observatory|Published Confirmed|          false|<a refstr=DELREZ_...|  107.245|         0.05|        -0.05|       false|              0.425|               0.012|              -0.012|        false|  2.562|      0.088|     -0.079|         0|  0.229|      0.008|     -0.007|         0|      8.82|         0.93|        -0.92|           0|  0.02775|      0.00293|     -0.00289|           0|        Mass|        0.0|0.04802127868852457|-0.04109831850117093|             0|             5.74|              0.38|              -0.35|          0|   431|         7|        -7|        0|       0|<a refstr=DELREZ_...|    Unknown| 5664.0|       61.0|      -61.0|         0|  1.06|      0.02|     -0.02|        0|   0.87|       0.04|      -0.04|         0| -0.24|               0.05|              -0.05|        0|      [M/H]|             4.39|               0.11|               -0.11|         0|<a refstr=STASSUN...|15h21m45.63s|230.4401147|-48d19m07.74s|-48.3188174| 14.682|     0.0199|    -0.0198|   5.65|       0.03|      -0.03|  4.159|      0.036|     -0.036|   5.48495|     0.0015675|    -0.0015675| 9/8/2021|   2021-06|       NULL|2019-01-01|\n",
            "+-----------+---------+------------+-------+-------+---------------+---------+--------------------+-------------------+---------------+--------------------+---------+-------------+-------------+------------+-------------------+--------------------+--------------------+-------------+-------+-----------+-----------+----------+-------+-----------+-----------+----------+----------+-------------+-------------+------------+---------+-------------+-------------+------------+------------+-----------+-------------------+--------------------+--------------+-----------------+------------------+-------------------+-----------+------+----------+----------+---------+--------+--------------------+-----------+-------+-----------+-----------+----------+------+----------+----------+---------+-------+-----------+-----------+----------+------+-------------------+-------------------+---------+-----------+-----------------+-------------------+--------------------+----------+--------------------+------------+-----------+-------------+-----------+-------+-----------+-----------+-------+-----------+-----------+-------+-----------+-----------+----------+--------------+--------------+---------+----------+-----------+----------+\n",
            "only showing top 5 rows\n",
            "\n"
          ]
        }
      ]
    },
    {
      "cell_type": "code",
      "source": [
        "#count the Rows with any NULL or Empty values\n",
        "df.select(count(when(\n",
        "    col(c).isNull() | (col(c) == \"\"), 1\n",
        ")).alias(\"Rows_with_missing_values\")).show()"
      ],
      "metadata": {
        "colab": {
          "base_uri": "https://localhost:8080/"
        },
        "id": "VD5BmOcfwN2e",
        "outputId": "b26f9093-3ead-4af4-a402-2588e757b5d7"
      },
      "id": "VD5BmOcfwN2e",
      "execution_count": 22,
      "outputs": [
        {
          "output_type": "stream",
          "name": "stdout",
          "text": [
            "+------------------------+\n",
            "|Rows_with_missing_values|\n",
            "+------------------------+\n",
            "|                       0|\n",
            "+------------------------+\n",
            "\n"
          ]
        }
      ]
    },
    {
      "cell_type": "code",
      "source": [
        "# show the Rows that contain NULL or Empty Strings\n",
        "df.filter(\n",
        "    (col(\"pl_name\").isNull()) | (col(\"pl_name\") == \"\")\n",
        ").show()"
      ],
      "metadata": {
        "colab": {
          "base_uri": "https://localhost:8080/"
        },
        "id": "En9u59ggxptr",
        "outputId": "9cebd9c8-7927-4bae-9766-f744db24b463"
      },
      "id": "En9u59ggxptr",
      "execution_count": 23,
      "outputs": [
        {
          "output_type": "stream",
          "name": "stdout",
          "text": [
            "+-------+--------+------------+-------+-------+---------------+---------+-------------+-------+---------------+----------+---------+-------------+-------------+------------+----------+--------------+--------------+-------------+-------+-----------+-----------+----------+-------+-----------+-----------+----------+---------+-------------+-------------+------------+---------+-------------+-------------+------------+------------+-----------+---------------+---------------+--------------+--------+------------+------------+-----------+------+----------+----------+---------+--------+----------+-----------+-------+-----------+-----------+----------+------+----------+----------+---------+-------+-----------+-----------+----------+------+----------+----------+---------+-----------+-------+-----------+-----------+----------+----------+-----+---+------+---+-------+-----------+-----------+-------+-----------+-----------+-------+-----------+-----------+----------+--------------+--------------+---------+----------+-----------+---------+\n",
            "|pl_name|hostname|default_flag|sy_snum|sy_pnum|discoverymethod|disc_year|disc_facility|soltype|pl_controv_flag|pl_refname|pl_orbper|pl_orbpererr1|pl_orbpererr2|pl_orbperlim|pl_orbsmax|pl_orbsmaxerr1|pl_orbsmaxerr2|pl_orbsmaxlim|pl_rade|pl_radeerr1|pl_radeerr2|pl_radelim|pl_radj|pl_radjerr1|pl_radjerr2|pl_radjlim|pl_bmasse|pl_bmasseerr1|pl_bmasseerr2|pl_bmasselim|pl_bmassj|pl_bmassjerr1|pl_bmassjerr2|pl_bmassjlim|pl_bmassprov|pl_orbeccen|pl_orbeccenerr1|pl_orbeccenerr2|pl_orbeccenlim|pl_insol|pl_insolerr1|pl_insolerr2|pl_insollim|pl_eqt|pl_eqterr1|pl_eqterr2|pl_eqtlim|ttv_flag|st_refname|st_spectype|st_teff|st_tefferr1|st_tefferr2|st_tefflim|st_rad|st_raderr1|st_raderr2|st_radlim|st_mass|st_masserr1|st_masserr2|st_masslim|st_met|st_meterr1|st_meterr2|st_metlim|st_metratio|st_logg|st_loggerr1|st_loggerr2|st_logglim|sy_refname|rastr| ra|decstr|dec|sy_dist|sy_disterr1|sy_disterr2|sy_vmag|sy_vmagerr1|sy_vmagerr2|sy_kmag|sy_kmagerr1|sy_kmagerr2|sy_gaiamag|sy_gaiamagerr1|sy_gaiamagerr2|rowupdate|pl_pubdate|releasedate|disc_date|\n",
            "+-------+--------+------------+-------+-------+---------------+---------+-------------+-------+---------------+----------+---------+-------------+-------------+------------+----------+--------------+--------------+-------------+-------+-----------+-----------+----------+-------+-----------+-----------+----------+---------+-------------+-------------+------------+---------+-------------+-------------+------------+------------+-----------+---------------+---------------+--------------+--------+------------+------------+-----------+------+----------+----------+---------+--------+----------+-----------+-------+-----------+-----------+----------+------+----------+----------+---------+-------+-----------+-----------+----------+------+----------+----------+---------+-----------+-------+-----------+-----------+----------+----------+-----+---+------+---+-------+-----------+-----------+-------+-----------+-----------+-------+-----------+-----------+----------+--------------+--------------+---------+----------+-----------+---------+\n",
            "+-------+--------+------------+-------+-------+---------------+---------+-------------+-------+---------------+----------+---------+-------------+-------------+------------+----------+--------------+--------------+-------------+-------+-----------+-----------+----------+-------+-----------+-----------+----------+---------+-------------+-------------+------------+---------+-------------+-------------+------------+------------+-----------+---------------+---------------+--------------+--------+------------+------------+-----------+------+----------+----------+---------+--------+----------+-----------+-------+-----------+-----------+----------+------+----------+----------+---------+-------+-----------+-----------+----------+------+----------+----------+---------+-----------+-------+-----------+-----------+----------+----------+-----+---+------+---+-------+-----------+-----------+-------+-----------+-----------+-------+-----------+-----------+----------+--------------+--------------+---------+----------+-----------+---------+\n",
            "\n"
          ]
        }
      ]
    },
    {
      "cell_type": "code",
      "source": [
        "#Columns Names\n",
        "df.columns"
      ],
      "metadata": {
        "colab": {
          "base_uri": "https://localhost:8080/"
        },
        "id": "D3plU0jt3l2a",
        "outputId": "c47d4320-fa69-484d-8a01-f4829b9965d6"
      },
      "id": "D3plU0jt3l2a",
      "execution_count": 24,
      "outputs": [
        {
          "output_type": "execute_result",
          "data": {
            "text/plain": [
              "['pl_name',\n",
              " 'hostname',\n",
              " 'default_flag',\n",
              " 'sy_snum',\n",
              " 'sy_pnum',\n",
              " 'discoverymethod',\n",
              " 'disc_year',\n",
              " 'disc_facility',\n",
              " 'soltype',\n",
              " 'pl_controv_flag',\n",
              " 'pl_refname',\n",
              " 'pl_orbper',\n",
              " 'pl_orbpererr1',\n",
              " 'pl_orbpererr2',\n",
              " 'pl_orbperlim',\n",
              " 'pl_orbsmax',\n",
              " 'pl_orbsmaxerr1',\n",
              " 'pl_orbsmaxerr2',\n",
              " 'pl_orbsmaxlim',\n",
              " 'pl_rade',\n",
              " 'pl_radeerr1',\n",
              " 'pl_radeerr2',\n",
              " 'pl_radelim',\n",
              " 'pl_radj',\n",
              " 'pl_radjerr1',\n",
              " 'pl_radjerr2',\n",
              " 'pl_radjlim',\n",
              " 'pl_bmasse',\n",
              " 'pl_bmasseerr1',\n",
              " 'pl_bmasseerr2',\n",
              " 'pl_bmasselim',\n",
              " 'pl_bmassj',\n",
              " 'pl_bmassjerr1',\n",
              " 'pl_bmassjerr2',\n",
              " 'pl_bmassjlim',\n",
              " 'pl_bmassprov',\n",
              " 'pl_orbeccen',\n",
              " 'pl_orbeccenerr1',\n",
              " 'pl_orbeccenerr2',\n",
              " 'pl_orbeccenlim',\n",
              " 'pl_insol',\n",
              " 'pl_insolerr1',\n",
              " 'pl_insolerr2',\n",
              " 'pl_insollim',\n",
              " 'pl_eqt',\n",
              " 'pl_eqterr1',\n",
              " 'pl_eqterr2',\n",
              " 'pl_eqtlim',\n",
              " 'ttv_flag',\n",
              " 'st_refname',\n",
              " 'st_spectype',\n",
              " 'st_teff',\n",
              " 'st_tefferr1',\n",
              " 'st_tefferr2',\n",
              " 'st_tefflim',\n",
              " 'st_rad',\n",
              " 'st_raderr1',\n",
              " 'st_raderr2',\n",
              " 'st_radlim',\n",
              " 'st_mass',\n",
              " 'st_masserr1',\n",
              " 'st_masserr2',\n",
              " 'st_masslim',\n",
              " 'st_met',\n",
              " 'st_meterr1',\n",
              " 'st_meterr2',\n",
              " 'st_metlim',\n",
              " 'st_metratio',\n",
              " 'st_logg',\n",
              " 'st_loggerr1',\n",
              " 'st_loggerr2',\n",
              " 'st_logglim',\n",
              " 'sy_refname',\n",
              " 'rastr',\n",
              " 'ra',\n",
              " 'decstr',\n",
              " 'dec',\n",
              " 'sy_dist',\n",
              " 'sy_disterr1',\n",
              " 'sy_disterr2',\n",
              " 'sy_vmag',\n",
              " 'sy_vmagerr1',\n",
              " 'sy_vmagerr2',\n",
              " 'sy_kmag',\n",
              " 'sy_kmagerr1',\n",
              " 'sy_kmagerr2',\n",
              " 'sy_gaiamag',\n",
              " 'sy_gaiamagerr1',\n",
              " 'sy_gaiamagerr2',\n",
              " 'rowupdate',\n",
              " 'pl_pubdate',\n",
              " 'releasedate',\n",
              " 'disc_date']"
            ]
          },
          "metadata": {},
          "execution_count": 24
        }
      ]
    },
    {
      "cell_type": "code",
      "source": [
        "# Rename Columns in PySpark\n",
        "df = df.withColumnRenamed(\"pl_name\", \"Planet_Name\") \\\n",
        "       .withColumnRenamed(\"hostname\", \"Host_Star\") \\\n",
        "       .withColumnRenamed(\"default_flag\", \"Default_Flag\") \\\n",
        "       .withColumnRenamed(\"sy_snum\", \"Num_Stars\") \\\n",
        "       .withColumnRenamed(\"sy_pnum\", \"Num_Planets\") \\\n",
        "       .withColumnRenamed(\"discoverymethod\", \"Discovery_Method\") \\\n",
        "       .withColumnRenamed(\"disc_year\", \"Discovery_Year\") \\\n",
        "       .withColumnRenamed(\"disc_facility\", \"Discovery_Facility\") \\\n",
        "       .withColumnRenamed(\"soltype\", \"Solar_System_Type\") \\\n",
        "       .withColumnRenamed(\"pl_controv_flag\", \"Controversial_Flag\") \\\n",
        "       .withColumnRenamed(\"pl_refname\", \"Reference_Name\") \\\n",
        "       .withColumnRenamed(\"pl_orbper\", \"Orbital_Period_Days\") \\\n",
        "       .withColumnRenamed(\"pl_orbpererr1\", \"Orbital_Period_Error_Upper\") \\\n",
        "       .withColumnRenamed(\"pl_orbpererr2\", \"Orbital_Period_Error_Lower\") \\\n",
        "       .withColumnRenamed(\"pl_orbperlim\", \"Orbital_Period_Limit_Flag\") \\\n",
        "       .withColumnRenamed(\"pl_orbsmax\", \"Semi_Major_Axis_AU\") \\\n",
        "       .withColumnRenamed(\"pl_orbsmaxerr1\", \"Semi_Major_Axis_Error_Upper\") \\\n",
        "       .withColumnRenamed(\"pl_orbsmaxerr2\", \"Semi_Major_Axis_Error_Lower\") \\\n",
        "       .withColumnRenamed(\"pl_orbsmaxlim\", \"Semi_Major_Axis_Limit_Flag\") \\\n",
        "       .withColumnRenamed(\"pl_rade\", \"Planet_Radius_Earth\") \\\n",
        "       .withColumnRenamed(\"pl_bmasse\", \"Planet_Mass_Earth\") \\\n",
        "       .withColumnRenamed(\"pl_orbeccen\", \"Orbital_Eccentricity\") \\\n",
        "       .withColumnRenamed(\"pl_insol\", \"Insolation_Flux\") \\\n",
        "       .withColumnRenamed(\"pl_eqt\", \"Equilibrium_Temperature\") \\\n",
        "       .withColumnRenamed(\"st_teff\", \"Star_Temperature_K\") \\\n",
        "       .withColumnRenamed(\"st_rad\", \"Star_Radius_Solar\") \\\n",
        "       .withColumnRenamed(\"st_mass\", \"Star_Mass_Solar\") \\\n",
        "       .withColumnRenamed(\"st_met\", \"Star_Metallicity\") \\\n",
        "       .withColumnRenamed(\"st_logg\", \"Star_Surface_Gravity\") \\\n",
        "       .withColumnRenamed(\"sy_dist\", \"System_Distance_PC\") \\\n",
        "       .withColumnRenamed(\"sy_vmag\", \"System_Visual_Magnitude\") \\\n",
        "       .withColumnRenamed(\"sy_kmag\", \"System_Infrared_Magnitude\") \\\n",
        "       .withColumnRenamed(\"sy_gaiamag\", \"System_Gaia_Magnitude\") \\\n",
        "       .withColumnRenamed(\"rowupdate\", \"Row_Last_Update\") \\\n",
        "       .withColumnRenamed(\"pl_pubdate\", \"Publication_Date\") \\\n",
        "       .withColumnRenamed(\"releasedate\", \"Release_Date\") \\\n",
        "       .withColumnRenamed(\"disc_date\", \"Discovery_Date\")"
      ],
      "metadata": {
        "id": "HoMCeOPN3lyy"
      },
      "id": "HoMCeOPN3lyy",
      "execution_count": 25,
      "outputs": []
    },
    {
      "cell_type": "code",
      "source": [
        "#verify Renamed Columns\n",
        "df.show()"
      ],
      "metadata": {
        "colab": {
          "base_uri": "https://localhost:8080/"
        },
        "id": "aSqDfZfx3lre",
        "outputId": "f54594e7-860c-4086-d4ea-8dca75118253"
      },
      "id": "aSqDfZfx3lre",
      "execution_count": 26,
      "outputs": [
        {
          "output_type": "stream",
          "name": "stdout",
          "text": [
            "+-------------+-----------+------------+---------+-----------+----------------+--------------+--------------------+-------------------+------------------+--------------------+-------------------+--------------------------+--------------------------+-------------------------+-------------------+---------------------------+---------------------------+--------------------------+-------------------+------------------+--------------------+----------+-------+--------------------+--------------------+----------+-----------------+-----------------+------------------+------------+---------+-------------------+--------------------+------------+------------+--------------------+-------------------+--------------------+--------------+-----------------+------------------+-------------------+-----------+-----------------------+----------+----------+---------+--------+--------------------+-----------+------------------+-----------------+------------------+----------+-----------------+-------------------+--------------------+---------+---------------+-------------------+--------------------+----------+-------------------+-------------------+-------------------+---------+-----------+--------------------+-------------------+--------------------+----------+--------------------+------------+-----------+-------------+-----------+------------------+-----------+-----------+-----------------------+-----------+-----------+-------------------------+-------------------+--------------------+---------------------+--------------+--------------+---------------+----------------+------------+--------------+\n",
            "|  Planet_Name|  Host_Star|Default_Flag|Num_Stars|Num_Planets|Discovery_Method|Discovery_Year|  Discovery_Facility|  Solar_System_Type|Controversial_Flag|      Reference_Name|Orbital_Period_Days|Orbital_Period_Error_Upper|Orbital_Period_Error_Lower|Orbital_Period_Limit_Flag| Semi_Major_Axis_AU|Semi_Major_Axis_Error_Upper|Semi_Major_Axis_Error_Lower|Semi_Major_Axis_Limit_Flag|Planet_Radius_Earth|       pl_radeerr1|         pl_radeerr2|pl_radelim|pl_radj|         pl_radjerr1|         pl_radjerr2|pl_radjlim|Planet_Mass_Earth|    pl_bmasseerr1|     pl_bmasseerr2|pl_bmasselim|pl_bmassj|      pl_bmassjerr1|       pl_bmassjerr2|pl_bmassjlim|pl_bmassprov|Orbital_Eccentricity|    pl_orbeccenerr1|     pl_orbeccenerr2|pl_orbeccenlim|  Insolation_Flux|      pl_insolerr1|       pl_insolerr2|pl_insollim|Equilibrium_Temperature|pl_eqterr1|pl_eqterr2|pl_eqtlim|ttv_flag|          st_refname|st_spectype|Star_Temperature_K|      st_tefferr1|       st_tefferr2|st_tefflim|Star_Radius_Solar|         st_raderr1|          st_raderr2|st_radlim|Star_Mass_Solar|        st_masserr1|         st_masserr2|st_masslim|   Star_Metallicity|         st_meterr1|         st_meterr2|st_metlim|st_metratio|Star_Surface_Gravity|        st_loggerr1|         st_loggerr2|st_logglim|          sy_refname|       rastr|         ra|       decstr|        dec|System_Distance_PC|sy_disterr1|sy_disterr2|System_Visual_Magnitude|sy_vmagerr1|sy_vmagerr2|System_Infrared_Magnitude|        sy_kmagerr1|         sy_kmagerr2|System_Gaia_Magnitude|sy_gaiamagerr1|sy_gaiamagerr2|Row_Last_Update|Publication_Date|Release_Date|Discovery_Date|\n",
            "+-------------+-----------+------------+---------+-----------+----------------+--------------+--------------------+-------------------+------------------+--------------------+-------------------+--------------------------+--------------------------+-------------------------+-------------------+---------------------------+---------------------------+--------------------------+-------------------+------------------+--------------------+----------+-------+--------------------+--------------------+----------+-----------------+-----------------+------------------+------------+---------+-------------------+--------------------+------------+------------+--------------------+-------------------+--------------------+--------------+-----------------+------------------+-------------------+-----------+-----------------------+----------+----------+---------+--------+--------------------+-----------+------------------+-----------------+------------------+----------+-----------------+-------------------+--------------------+---------+---------------+-------------------+--------------------+----------+-------------------+-------------------+-------------------+---------+-----------+--------------------+-------------------+--------------------+----------+--------------------+------------+-----------+-------------+-----------+------------------+-----------+-----------+-----------------------+-----------+-----------+-------------------------+-------------------+--------------------+---------------------+--------------+--------------+---------------+----------------+------------+--------------+\n",
            "|  BD+20 594 b|  BD+20 594|           1|        1|          1|         Transit|          2016|                  K2|Published Confirmed|             false|<a refstr=STASSUN...|            41.6855|                     0.003|                    -0.003|                    false|0.11312557679914084|       0.002684978260869558|       -0.00277893804347...|                      NULL|              2.578|             0.112|              -0.112|         0|   0.23|                0.01|               -0.01|         0|          22.2481|           9.5349|           -9.5349|           0|     0.07|               0.03|               -0.03|           0|        Mass|                 0.0|0.04802127868852457|-0.04109831850117093|             0|486.9533952254641|39.427112299465236|-35.799064171123014|          0|                   1102|        28|       -27|        0|       0|<a refstr=STASSUN...|    Unknown|            5766.0|             99.0|             -99.0|         0|             1.08|               0.06|               -0.06|        0|           1.67|                0.4|                -0.4|         0|              -0.15|0.08140913811007251|-0.0808961578400829|        0|     [Fe/H]|                 4.5|               0.08|               -0.08|         0|<a refstr=STASSUN...|03h34m36.27s| 53.6511231|+20d35m56.47s| 20.5990205|           179.461|      1.257|      -1.24|                 10.849|      0.012|     -0.012|                    9.368|              0.018|              -0.018|              10.8644|       2.49E-4|      -2.49E-4|      25/4/2018|         2017-03|        NULL|    2016-01-01|\n",
            "|     K2-263 b|     K2-263|           1|        1|          1|         Transit|          2018|                  K2|Published Confirmed|             false|<a refstr=BONOMO_...|          50.818947|                    9.4E-5|                   -9.4E-5|                    false|             0.2573|                      0.003|                     -0.003|                     false|               2.41|              0.12|               -0.12|         0|  0.215|               0.011|              -0.011|         0|             14.9|              2.1|              -2.1|           0|  0.04688|            0.00661|            -0.00661|           0|        Mass|                0.15|0.04802127868852457|-0.04109831850117093|             1|             8.17|              0.52|              -0.52|          0|                    470|         7|        -7|        0|       0|<a refstr=BONOMO_...|    Unknown|            5368.0|             44.0|             -44.0|         0|             0.85|               0.02|               -0.02|        0|           0.88|               0.03|               -0.03|         0|              -0.08|               0.05|              -0.05|        0|     [Fe/H]|   4.392565130260518|0.05862208713272568|-0.05907801418439738|         0|<a refstr=STASSUN...|08h38m43.71s|129.6821253|+15d40m50.17s| 15.6806039|           162.481|       1.38|     -1.357|                 11.568|      0.046|     -0.046|                    9.748|               0.02|               -0.02|              11.4055|        6.8E-4|       -6.8E-4|      17/4/2023|         2023-04|        NULL|    2018-01-01|\n",
            "|   TOI-3071 b|   TOI-3071|           1|        1|          1|         Transit|          2024|Transiting Exopla...|Published Confirmed|             false|<a refstr=HACKER_...|           1.266938|                    2.0E-6|                   -2.0E-6|                    false|             0.0249|                     1.0E-4|                    -1.0E-4|                     false|               7.16|              0.57|               -0.51|         0|  0.639|               0.051|              -0.045|         0|             68.2|              3.5|              -3.5|           0|  0.21458|            0.01101|            -0.01101|           0|        Mass|                0.09|0.04802127868852457|-0.04109831850117093|             1|486.9533952254641|39.427112299465236|-35.799064171123014|          0|                   2155|        40|       -40|        0|       0|<a refstr=HACKER_...|    Unknown|            6177.0|             62.0|             -62.0|         0|             1.31|               0.04|               -0.04|        0|           1.29|               0.02|               -0.02|         0|               0.35|               0.04|              -0.04|        0|     [Fe/H]|                4.37|                0.1|                -0.1|         0|<a refstr=STASSUN...|11h33m06.97s|173.2790517|-56d30m12.19s|-56.5033871|           485.219|      9.044|     -8.725|                 12.383|      0.057|     -0.057|                   11.005|              0.021|              -0.021|              12.2766|       1.52E-4|      -1.52E-4|      25/6/2024|         2024-06|        NULL|    2024-01-01|\n",
            "|    TOI-558 b|    TOI-558|           1|        1|          1|         Transit|          2021|Transiting Exopla...|Published Confirmed|             false|<a refstr=IKWUT_U...|          14.574071|                    2.6E-5|                   -2.6E-5|                    false|             0.1291|                      0.002|                    -0.0021|                     false|             12.173|              0.46|              -0.426|         0|  1.086|               0.041|              -0.038|         0|       1147.36055|         47.67426|         -47.67426|           0|     3.61|               0.15|               -0.15|           0|        Mass|               0.298|              0.022|               -0.02|             0|486.9533952254641|39.427112299465236|-35.799064171123014|          0|                   1061|        13|       -12|        0|       0|<a refstr=IKWUT_U...|        F V|            6466.0|             95.0|             -93.0|         0|              1.5|               0.04|               -0.04|        0|           1.35|               0.06|               -0.07|         0|             -0.004|              0.059|             -0.055|        0|     [Fe/H]|                4.22|               0.03|               -0.03|         0|<a refstr=STASSUN...|02h49m09.96s| 42.2915093|-58d01m28.86s|-58.0246828|            402.63|      3.855|     -3.784|                 11.233|      0.013|     -0.013|                   10.262|              0.023|              -0.023|              11.3253|       5.93E-4|      -5.93E-4|      28/3/2022|         2022-01|        NULL|    2021-01-01|\n",
            "|  HD 136352 d|  HD 136352|           1|        1|          3| Radial Velocity|          2019|La Silla Observatory|Published Confirmed|             false|<a refstr=DELREZ_...|            107.245|                      0.05|                     -0.05|                    false|              0.425|                      0.012|                     -0.012|                     false|              2.562|             0.088|              -0.079|         0|  0.229|               0.008|              -0.007|         0|             8.82|             0.93|             -0.92|           0|  0.02775|            0.00293|            -0.00289|           0|        Mass|                 0.0|0.04802127868852457|-0.04109831850117093|             0|             5.74|              0.38|              -0.35|          0|                    431|         7|        -7|        0|       0|<a refstr=DELREZ_...|    Unknown|            5664.0|             61.0|             -61.0|         0|             1.06|               0.02|               -0.02|        0|           0.87|               0.04|               -0.04|         0|              -0.24|               0.05|              -0.05|        0|      [M/H]|                4.39|               0.11|               -0.11|         0|<a refstr=STASSUN...|15h21m45.63s|230.4401147|-48d19m07.74s|-48.3188174|            14.682|     0.0199|    -0.0198|                   5.65|       0.03|      -0.03|                    4.159|              0.036|              -0.036|              5.48495|     0.0015675|    -0.0015675|       9/8/2021|         2021-06|        NULL|    2019-01-01|\n",
            "| Kepler-323 b| Kepler-323|           1|        1|          2|         Transit|          2014|              Kepler|Published Confirmed|             false|<a refstr=BONOMO_...|           1.678328|                    1.5E-6|                   -1.5E-6|                    false|            0.02778|                     6.8E-4|                    -6.8E-4|                     false|              1.381|             0.035|              -0.035|         0|  0.123|               0.003|              -0.003|         0|              3.9|29.73406869479874|-29.30560558390571|           1|  0.01227|0.09352044160942088|-0.09218208047104992|           1|        Mass|               0.095|0.04802127868852457|-0.04109831850117093|             1|           1900.0|             150.0|             -150.0|          0|                   1838|        35|       -35|        0|       0|<a refstr=BONOMO_...|    Unknown|            6004.0|             71.0|             -71.0|         0|             1.12|               0.02|               -0.02|        0|           1.01|               0.07|               -0.07|         0|              -0.14|               0.05|              -0.05|        0|     [Fe/H]|   4.392565130260518|0.05862208713272568|-0.05907801418439738|         0|<a refstr=STASSUN...|19h25m31.75s|291.3822988|+38d07m38.85s| 38.1274595|           454.883|      6.637|     -6.452|                  12.78|      0.092|     -0.092|                   11.354|               0.02|               -0.02|               12.658|       2.01E-4|      -2.01E-4|      17/4/2023|         2023-04|        NULL|    2014-01-01|\n",
            "|  Kepler-53 b|  Kepler-53|           1|        1|          3|         Transit|          2012|              Kepler|Published Confirmed|             false|<a refstr=STEFFEN...|         18.6489525|                    1.6E-4|                   -1.6E-4|                    false|0.11312557679914084|       0.002684978260869558|       -0.00277893804347...|                      NULL|               2.89|0.5407124999999997|-0.48278482142857165|         0|  0.258|0.048238392857142896|-0.04307053571428...|         0|            111.0|29.73406869479874|-29.30560558390571|           1|  0.34925|0.09352044160942088|-0.09218208047104992|           1|        Mass| 0.09342613987473901|0.04802127868852457|-0.04109831850117093|             0|486.9533952254641|39.427112299465236|-35.799064171123014|          0|                   1102|        28|       -27|        0|       1|<a refstr=STEFFEN...|    Unknown|            5858.0|80.65016934046346|-79.72743659420289|         0|             0.89|0.04963392857142869|-0.04728997289972...|        0|           0.98|0.07400892857142867|-0.07400000000000008|         0|0.06199999999999998|0.08140913811007251|-0.0808961578400829|        0|    Unknown|                4.53|0.05862208713272568|-0.05907801418439738|         0|<a refstr=STASSUN...|19h21m50.83s|290.4617926|+40d33m44.99s| 40.5624966|           1366.07|      65.81|     -60.13|                 15.367|      0.058|     -0.058|                   13.807|              0.051|              -0.051|              15.3877|       3.72E-4|      -3.72E-4|      22/9/2021|         2013-01|        NULL|    2012-01-01|\n",
            "|OGLE-TR-113 b|OGLE-TR-113|           1|        1|          1|         Transit|          2004|                OGLE|Published Confirmed|             false|<a refstr=TORRES_...|          1.4324752|      0.013030851033519556|      -0.00975600481378...|                    false|            0.02289|                     1.6E-4|                    -1.5E-4|                     false|             12.251|             0.314|              -0.213|         0|  1.093|               0.028|              -0.019|         0|          400.449|           50.851|           -50.851|           0|     1.26|               0.16|               -0.16|           0|        Mass| 0.09342613987473901|0.04802127868852457|-0.04109831850117093|             0|486.9533952254641|39.427112299465236|-35.799064171123014|          0|                   1102|        28|       -27|        0|       0|<a refstr=TORRES_...|    Unknown|            4790.0|             75.0|-79.72743659420289|         0|             0.77|               0.02|-0.04728997289972...|        0|           0.78|               0.02|-0.07400000000000008|         0|0.06199999999999998|0.08140913811007251|-0.0808961578400829|        0|    Unknown|   4.392565130260518|0.05862208713272568|-0.05907801418439738|         0|<a refstr=STASSUN...|10h52m24.25s|163.1010355|-61d26m48.69s|-61.4468591|           566.459|     11.489|     -11.05|                15.8485|     0.0464|    -0.0464|       10.033434795918367|0.03329590017825322|-0.03329590017825322|               15.443|       7.76E-4|      -7.76E-4|      14/5/2014|         2008-04|        NULL|    2004-01-01|\n",
            "|   TOI-1694 b|   TOI-1694|           1|        1|          2|         Transit|          2023|Transiting Exopla...|Published Confirmed|             false|<a refstr=POLANSK...|           3.770107|                    8.5E-5|                   -8.5E-5|                    false|              0.045|                     8.0E-4|                    -8.0E-4|                     false|              5.342|             0.148|              -0.119|         0|  0.477|               0.013|              -0.011|         0|             31.3|              2.7|              -2.5|           0|  0.09848|             0.0085|            -0.00787|           0|        Mass|                 0.0|0.04802127868852457|-0.04109831850117093|             0|486.9533952254641|39.427112299465236|-35.799064171123014|          0|                    943|        14|       -13|        0|       0|<a refstr=MACDOUG...|    Unknown|            5058.0|             60.0|             -56.0|         0|              0.8|               0.01|               -0.01|        0|           0.85|               0.02|               -0.02|         0|              0.131|              0.054|             -0.055|        0|     [Fe/H]|                4.56|               0.02|               -0.02|         0|<a refstr=STASSUN...|06h30m59.69s| 97.7487104|+66d21m38.14s| 66.3605956|            124.68|       0.59|     -0.584|                 11.446|      0.015|     -0.015|                    9.425|               0.02|               -0.02|              11.3103|       5.42E-4|      -5.42E-4|      22/7/2024|         2024-06|        NULL|    2023-01-01|\n",
            "|   HAT-P-37 b|   HAT-P-37|           1|        1|          1|         Transit|          2011|              HATNet|Published Confirmed|             false|<a refstr=BAKOS_E...|           2.797436|                    7.0E-6|                   -7.0E-6|                    false|             0.0379|                     6.0E-4|                    -6.0E-4|                     false|             13.204|             0.863|              -0.863|         0|  1.178|               0.077|              -0.077|         0|          371.528|           32.735|           -32.735|           0|    1.169|              0.103|              -0.103|           0|        Mass|               0.058|              0.038|              -0.038|             0|486.9533952254641|39.427112299465236|-35.799064171123014|          0|                   1271|        47|       -47|        0|       0|<a refstr=BAKOS_E...|    Unknown|            5500.0|            100.0|-79.72743659420289|         0|             0.88|               0.06|-0.04728997289972...|        0|           0.93|               0.04|-0.07400000000000008|         0|0.06199999999999998|0.08140913811007251|-0.0808961578400829|        0|    Unknown|   4.392565130260518|0.05862208713272568|-0.05907801418439738|         0|<a refstr=STASSUN...|18h57m11.05s|284.2960393|+51d16m08.84s| 51.2691212|           390.594|      2.723|     -2.686|                 13.427|      0.126|     -0.126|                   11.667|               0.02|               -0.02|              13.2615|       8.48E-4|      -8.48E-4|      14/5/2014|         2012-07|        NULL|    2011-01-01|\n",
            "|     K2-265 b|     K2-265|           1|        2|          1|         Transit|          2018|                  K2|Published Confirmed|             false|<a refstr=THYGESE...|            2.36902|                    5.8E-5|                   -5.9E-5|                    false|            0.03359|                     6.2E-4|                    -5.3E-4|                     false|              1.708|             0.112|              -0.081|         0|  0.152|                0.01|              -0.007|         0|          7.34184|          1.43023|          -1.39844|           0|   0.0231|             0.0045|             -0.0044|           0|        Mass|                0.16|               0.16|               -0.11|             0|486.9533952254641|39.427112299465236|-35.799064171123014|          0|                   1366|        17|       -17|        0|       0|<a refstr=THYGESE...|    Unknown|            5420.0|            100.0|            -100.0|         0|             0.92|               0.03|               -0.03|        0|            0.9|               0.05|               -0.04|         0|              0.033|              0.099|               -0.1|        0|     [Fe/H]|                4.46|               0.04|               -0.04|         0|<a refstr=STASSUN...|22h48m07.60s|342.0316493|-14d29m41.20s|-14.4947789|           138.671|      0.985|      -0.97|                 11.187|      0.015|     -0.015|                    9.259|              0.027|              -0.027|              10.9277|       5.52E-4|      -5.52E-4|     20/11/2024|         2023-04|        NULL|    2018-01-01|\n",
            "|   K2-419 A b|   K2-419 A|           1|        2|          1|         Transit|          2024|                  K2|Published Confirmed|             false|<a refstr=KANODIA...|        20.35847252|                   6.14E-6|                  -5.75E-6|                    false|             0.1208|                     0.0016|                    -0.0017|                     false|              10.55|              0.39|               -0.39|         0|  0.941|               0.034|              -0.034|         0|            196.0|             15.0|             -15.0|           0|    0.617|              0.047|              -0.047|           0|        Mass|               0.042|              0.045|              -0.029|             0|              3.3|               0.4|               -0.4|          0|                    377|        11|       -11|        0|       0|<a refstr=KANODIA...|    Unknown|            3711.0|             88.0|             -88.0|         0|             0.54|               0.02|               -0.02|        0|           0.56|               0.02|               -0.02|         0|              -0.11|               0.12|              -0.12|        0|     [Fe/H]|                4.74|               0.05|               -0.05|         0|<a refstr=STASSUN...|09h00m04.68s|135.0194934|+13d16m25.34s| 13.2737056|           268.685|     3.6615|    -3.6615|                  16.52|        0.2|       -0.2|                   12.555|              0.024|              -0.024|              15.7336|       4.86E-4|      -4.86E-4|       3/9/2024|         2024-08|        NULL|    2024-01-01|\n",
            "|   TOI-2202 b|   TOI-2202|           1|        1|          2|         Transit|          2021|Transiting Exopla...|Published Confirmed|             false|<a refstr=TRIFONO...|            11.9101|                    0.0022|                   -0.0036|                    false|            0.09564|                    0.00156|                   -0.00161|                     false|             11.321|             5.851|              -0.897|         0|   1.01|               0.522|               -0.08|         0|        310.83618|         20.02319|         -18.68831|           0|    0.978|              0.063|             -0.0588|           0|        Mass|               0.042|             0.0255|             -0.0075|             0|486.9533952254641|39.427112299465236|-35.799064171123014|          0|                   1102|        28|       -27|        0|       1|<a refstr=TRIFONO...|       K8 V|            5144.0|             50.0|             -50.0|         0|             0.79|               0.01|               -0.01|        0|           0.82|               0.03|               -0.02|         0|               0.04|               0.05|              -0.05|        0|     [Fe/H]|                4.55|                0.2|                -0.2|         0|<a refstr=STASSUN...|03h24m54.82s| 51.2284214|-73d57m27.16s|-73.9575458|           235.933|      1.051|     -1.041|                 13.004|      0.103|     -0.103|                     10.8|              0.023|              -0.023|              12.7606|        3.5E-4|       -3.5E-4|      23/8/2021|         2021-12|        NULL|    2021-01-01|\n",
            "|   TOI-4504 c|   TOI-4504|           1|        1|          3|         Transit|          2024|Transiting Exopla...|Published Confirmed|             false|<a refstr=V_AMP_I...|           82.97213|                    1.3E-4|                   -1.3E-4|                    false|             0.3569|                     0.0066|                    -0.0069|                     false|             11.097|              0.56|               -0.56|         0|   0.99|                0.05|               -0.05|         0|       1197.32317|         57.52694|         -57.90834|           0|   3.7672|              0.181|             -0.1822|           0|        Mass|               0.032|             0.0016|             -0.0014|             0|486.9533952254641|39.427112299465236|-35.799064171123014|          0|                   1102|        28|       -27|        0|       1|<a refstr=V_AMP_I...|       K1 V|            5315.0|             60.0|             -60.0|         0|             0.92|               0.04|               -0.04|        0|           0.89|               0.06|               -0.04|         0|               0.16|               0.05|              -0.05|        0|     [Fe/H]|                4.46|               0.02|               -0.01|         0|<a refstr=STASSUN...|07h37m52.15s|114.4673065|-62d04m41.80s|-62.0782776|           342.605|      1.715|     -1.699|                 13.364|      0.103|     -0.103|                   11.236|              0.021|              -0.021|              13.1277|       3.13E-4|      -3.13E-4|       9/1/2025|         2024-12|        NULL|    2024-01-01|\n",
            "|  HD 118203 b|  HD 118203|           1|        1|          2| Radial Velocity|          2005|Haute-Provence Ob...|Published Confirmed|             false|<a refstr=MACIEJE...|           6.134989|                    1.3E-6|                   -1.3E-6|                    false|             0.0701|                     4.0E-4|                    -4.0E-4|                     false|             12.554|             1.009|              -1.009|         0|   1.12|                0.09|               -0.09|         0|        693.50158|         10.48834|         -10.48834|           0|    2.182|              0.033|              -0.033|           0|        Mass|               0.301|              0.006|              -0.006|             0|486.9533952254641|39.427112299465236|-35.799064171123014|          0|                   1371|        16|       -17|        0|       0|<a refstr=MACIEJE...|      K0 IV|            5788.0|             51.0|             -51.0|         0|             2.03|               0.16|               -0.16|        0|           1.22|               0.02|               -0.02|         0|               0.22|               0.02|              -0.02|        0|     [Fe/H]|                3.99|               0.12|               -0.12|         0|<a refstr=STASSUN...|13h34m02.39s| 203.509956|+53d43m41.48s| 53.7281876|           92.2589|     0.2364|    -0.2352|                   8.05|       0.03|      -0.03|                    6.543|              0.023|              -0.023|              7.89255|        3.1E-4|       -3.1E-4|      16/8/2024|         2024-07|        NULL|    2005-01-01|\n",
            "|     K2-146 b|     K2-146|           1|        1|          2|         Transit|          2018|                  K2|Published Confirmed|             false|<a refstr=HAMANN_...|             2.6446|                    6.0E-5|                   -6.0E-5|                    false|0.11312557679914084|       0.002684978260869558|       -0.00277893804347...|                      NULL|               2.05|              0.06|               -0.06|         0|  0.183|               0.005|              -0.005|         0|             5.77|             0.18|             -0.18|           0|  0.01816|             2.4E-4|             -2.4E-4|           0|        Mass|               0.129|              0.019|              -0.019|             0|486.9533952254641|39.427112299465236|-35.799064171123014|          0|                   1102|        28|       -27|        0|       1|<a refstr=HAMANN_...|    Unknown|            3385.0|             70.0|             -70.0|         0|             0.33|               0.01|               -0.01|        0|           0.33|               0.01|               -0.01|         0|0.06199999999999998|0.08140913811007251|-0.0808961578400829|        0|    Unknown|   4.392565130260518|0.05862208713272568|-0.05907801418439738|         0|<a refstr=STASSUN...|08h40m06.41s|130.0266951|+19d05m32.43s| 19.0923416|           79.3002|      0.478|    -0.4723|                   16.7|        0.2|       -0.2|                    11.37|              0.023|              -0.023|              14.9834|       5.23E-4|      -5.23E-4|       9/8/2019|         2019-09|        NULL|    2018-01-01|\n",
            "| Kepler-419 b| Kepler-419|           1|        1|          2|         Transit|          2014|              Kepler|Published Confirmed|             false|<a refstr=DAWSON_...|            69.7546|                    7.0E-4|                   -9.0E-4|                    false|               0.37|                      0.007|                     -0.006|                     false|               10.8|               1.4|                -1.3|         0|   0.96|                0.12|               -0.12|         0|            794.5|             95.3|             -95.3|           0|      2.5|                0.3|                -0.3|           0|        Mass|               0.833|              0.013|              -0.013|             0|486.9533952254641|39.427112299465236|-35.799064171123014|          0|                   1102|        28|       -27|        0|       1|<a refstr=DAWSON_...|    Unknown|            6430.0|             79.0|             -79.0|         0|             1.74|               0.07|               -0.07|        0|           1.39|               0.08|               -0.07|         0|              0.176|               0.07|              -0.07|        0|     [Fe/H]|                 4.1|               0.12|               -0.12|         0|<a refstr=STASSUN...|19h41m40.30s|295.4179125|+51d11m05.15s| 51.1847629|           1011.36|      25.41|     -24.22|                 13.089|      0.149|     -0.149|                   11.859|              0.018|              -0.018|              12.9642|       3.32E-4|      -3.32E-4|      25/6/2014|         2014-08|        NULL|    2014-01-01|\n",
            "|  Kepler-49 b|  Kepler-49|           1|        1|          4|         Transit|          2012|              Kepler|Published Confirmed|             false|<a refstr=LELEU_E...|                7.2|      0.013030851033519556|      -0.00975600481378...|                    false|0.11312557679914084|       0.002684978260869558|       -0.00277893804347...|                      NULL|              2.579|             0.087|              -0.086|         0|   0.23|               0.008|              -0.008|         0|             9.77|             0.94|             -0.95|           0|  0.03074|            0.00296|            -0.00299|           0|        Mass| 0.09342613987473901|0.04802127868852457|-0.04109831850117093|             0|486.9533952254641|39.427112299465236|-35.799064171123014|          0|                   1102|        28|       -27|        0|       1|<a refstr=LELEU_E...|    Unknown|            4095.6|             74.7|             -74.7|         0|             0.62|               0.02|               -0.02|        0|           0.61|               0.01|               -0.01|         0|0.06199999999999998|0.08140913811007251|-0.0808961578400829|        0|    Unknown|   4.392565130260518|0.05862208713272568|-0.05907801418439738|         0|<a refstr=STASSUN...|19h29m10.68s|292.2945208|+40d35m30.52s| 40.5918123|           311.222|       2.53|      -2.49|                 15.655|      0.046|     -0.046|                   12.383|              0.023|              -0.023|              15.2293|       5.37E-4|      -5.37E-4|      10/6/2024|         2023-01|        NULL|    2012-01-01|\n",
            "|   TOI-1266 c|   TOI-1266|           1|        1|          2|         Transit|          2020|Transiting Exopla...|Published Confirmed|             false|<a refstr=CLOUTIE...|          18.801611|                    5.3E-5|                   -5.3E-5|                    false|             0.1047|                     0.0016|                    -0.0016|                     false|               2.13|              0.12|               -0.12|         0|   0.19|               0.011|              -0.011|         0|             2.88|              0.8|              -0.8|           0|  0.00906|            0.00252|            -0.00252|           0|        Mass|                0.34|0.04802127868852457|-0.04109831850117093|             1|              2.7|               0.5|               -0.4|          0|                    354|        16|       -16|        0|       1|<a refstr=CLOUTIE...|       M3 V|            3618.0|            157.0|            -157.0|         0|             0.44|               0.01|               -0.01|        0|           0.43|               0.02|               -0.02|         0|             -0.195|              0.115|             -0.115|        0|     [Fe/H]|                4.79|               0.03|               -0.03|         0|<a refstr=STASSUN...|13h11m59.18s|197.9965833|+65d50m01.31s| 65.8336973|           36.0118|     0.0295|    -0.0295|                 12.941|      0.049|     -0.049|                     8.84|               0.02|               -0.02|              12.1222|       2.49E-4|      -2.49E-4|      25/3/2024|         2024-01|        NULL|    2020-01-01|\n",
            "|   TOI-3321 b|   TOI-3321|           1|        1|          1|         Transit|          2024|Transiting Exopla...|Published Confirmed|             false|<a refstr=SCHULTE...|          3.6525145|                    2.7E-6|                   -2.8E-6|                    false|              0.047|                     0.0012|                     -0.001|                     false|             15.558|             0.785|              -0.717|         0|  1.388|                0.07|              -0.064|         0|        176.07694|         24.15496|         -23.83713|           0|    0.554|              0.076|              -0.075|           0|        Mass|               0.054|              0.057|              -0.038|             0|486.9533952254641|39.427112299465236|-35.799064171123014|          0|                   1616|        29|       -28|        0|       0|<a refstr=SCHULTE...|    Unknown|            5850.0|            140.0|            -140.0|         0|             1.55|               0.07|               -0.06|        0|           1.04|               0.08|               -0.07|         0|             -0.103|              0.047|             -0.062|        0|     [Fe/H]|                4.08|               0.06|               -0.05|         0|<a refstr=STASSUN...|17h43m02.48s|265.7603351|-65d00m29.71s|-65.0082516|           285.895|      3.318|     -3.244|                 11.076|      0.012|     -0.012|                     9.67|              0.021|              -0.021|              11.0932|       8.38E-4|      -8.38E-4|      23/7/2024|         2024-07|        NULL|    2024-01-01|\n",
            "+-------------+-----------+------------+---------+-----------+----------------+--------------+--------------------+-------------------+------------------+--------------------+-------------------+--------------------------+--------------------------+-------------------------+-------------------+---------------------------+---------------------------+--------------------------+-------------------+------------------+--------------------+----------+-------+--------------------+--------------------+----------+-----------------+-----------------+------------------+------------+---------+-------------------+--------------------+------------+------------+--------------------+-------------------+--------------------+--------------+-----------------+------------------+-------------------+-----------+-----------------------+----------+----------+---------+--------+--------------------+-----------+------------------+-----------------+------------------+----------+-----------------+-------------------+--------------------+---------+---------------+-------------------+--------------------+----------+-------------------+-------------------+-------------------+---------+-----------+--------------------+-------------------+--------------------+----------+--------------------+------------+-----------+-------------+-----------+------------------+-----------+-----------+-----------------------+-----------+-----------+-------------------------+-------------------+--------------------+---------------------+--------------+--------------+---------------+----------------+------------+--------------+\n",
            "only showing top 20 rows\n",
            "\n"
          ]
        }
      ]
    },
    {
      "cell_type": "code",
      "source": [
        "# Standardize Numerical Columns (Feature Scaling for ML Models)\n",
        "from pyspark.ml.feature import StandardScaler, VectorAssembler\n",
        "\n",
        "# Define numerical columns to scale\n",
        "num_features = [\"Planet_Radius_Earth\", \"Planet_Mass_Earth\", \"Star_Temperature_K\"]\n",
        "\n",
        "# Step 1: Assemble features into a single vector column\n",
        "assembler = VectorAssembler(inputCols=num_features, outputCol=\"features\")\n",
        "df_transformed = assembler.transform(df)  # Apply transformation and create \"features\" column\n",
        "\n",
        "# Step 2: Apply StandardScaler\n",
        "scaler = StandardScaler(inputCol=\"features\", outputCol=\"scaled_features\", withMean=True, withStd=True)\n",
        "scaler_model = scaler.fit(df_transformed)  # Fit scaler model\n",
        "df_scaled = scaler_model.transform(df_transformed)  # Transform data\n",
        "\n",
        "# Show the final dataset with the new scaled features\n",
        "df_scaled.select(\"features\", \"scaled_features\").show(truncate=False)"
      ],
      "metadata": {
        "colab": {
          "base_uri": "https://localhost:8080/"
        },
        "id": "iP1oEdZp19us",
        "outputId": "15fd444b-7706-4391-b7b5-b617d49f6ebb"
      },
      "id": "iP1oEdZp19us",
      "execution_count": 27,
      "outputs": [
        {
          "output_type": "stream",
          "name": "stdout",
          "text": [
            "+--------------------------+--------------------------------------------------------------+\n",
            "|features                  |scaled_features                                               |\n",
            "+--------------------------+--------------------------------------------------------------+\n",
            "|[2.578,22.2481,5766.0]    |[-1.0447632876255382,-0.5339018190218463,0.4553293055023975]  |\n",
            "|[2.41,14.9,5368.0]        |[-1.0752931266583798,-0.5491033960478693,-0.03211352346981332]|\n",
            "|[7.16,68.2,6177.0]        |[-0.21209827305124804,-0.4388376055051407,0.958693633913399]  |\n",
            "|[12.173,1147.36055,6466.0]|[0.6988903166608681,1.7937044426801465,1.3126408137449792]    |\n",
            "|[2.562,8.82,5664.0]       |[-1.0476708913429518,-0.5616815575206608,0.33040677144419267] |\n",
            "|[1.381,3.9,6004.0]        |[-1.2622883907345352,-0.5718599381861436,0.7468152183048753]  |\n",
            "|[2.89,111.0,5858.0]       |[-0.9880650151359749,-0.35029396882167385,0.5680045322999939] |\n",
            "|[12.251,400.449,4790.0]   |[0.7130648847832588,0.24851133712208318,-0.7400078831329737]  |\n",
            "|[5.342,31.3,5058.0]       |[-0.5424747454423566,-0.5151754604962605,-0.41178004854867095]|\n",
            "|[13.204,371.528,5500.0]   |[0.8862490312017004,0.1886802502874443,0.1295509323702164]    |\n",
            "|[1.708,7.34184,5420.0]    |[-1.202864239759897,-0.5647395402776709,0.0315724742853499]   |\n",
            "|[10.55,196.0,3711.0]      |[0.40395026457573663,-0.17444796138955507,-2.0614923365526105]|\n",
            "|[11.321,310.83618,5144.0] |[0.5440604187085993,0.06312243580757589,-0.3064532061074395]  |\n",
            "|[11.097,1197.32317,5315.0]|[0.5033539666648104,1.8970659397136533,-0.09702425195103737]  |\n",
            "|[12.554,693.50158,5788.0] |[0.768127630181777,0.8547716448948076,0.48227338147573573]    |\n",
            "|[2.05,5.77,3385.0]        |[-1.1407142103001835,-0.5679913260226369,-2.4607545532484414] |\n",
            "|[10.8,794.5,6430.0]       |[0.4493815726603225,1.0637148085883636,1.2685505076067893]    |\n",
            "|[2.579,9.77,4095.6]       |[-1.0445815623931998,-0.5597162197905372,-1.590460899309615]  |\n",
            "|[2.13,2.88,3618.0]        |[-1.1261761917131161,-0.5739700902753289,-2.1753922940762678] |\n",
            "|[15.558,176.07694,5850.0] |[1.3140302281261609,-0.21566432088167914,0.5582066864915073]  |\n",
            "+--------------------------+--------------------------------------------------------------+\n",
            "only showing top 20 rows\n",
            "\n"
          ]
        }
      ]
    },
    {
      "cell_type": "code",
      "source": [
        "# Encode categorical variables (for ML)\n",
        "from pyspark.ml.feature import StringIndexer\n",
        "\n",
        "categorical_cols = [\"Discovery_Method\", \"Discovery_Facility\", \"Solar_System_Type\"]\n",
        "\n",
        "for col_name in categorical_cols:\n",
        "    indexer = StringIndexer(inputCol=col_name, outputCol=col_name + \"_Index\")\n",
        "    df = indexer.fit(df).transform(df)\n",
        "\n",
        "df.show(5)"
      ],
      "metadata": {
        "colab": {
          "base_uri": "https://localhost:8080/"
        },
        "id": "gaEkMv1z19sX",
        "outputId": "169ea257-aeb8-483e-86b5-c2848bb057cc"
      },
      "id": "gaEkMv1z19sX",
      "execution_count": 28,
      "outputs": [
        {
          "output_type": "stream",
          "name": "stdout",
          "text": [
            "+-----------+---------+------------+---------+-----------+----------------+--------------+--------------------+-------------------+------------------+--------------------+-------------------+--------------------------+--------------------------+-------------------------+-------------------+---------------------------+---------------------------+--------------------------+-------------------+-----------+-----------+----------+-------+-----------+-----------+----------+-----------------+-------------+-------------+------------+---------+-------------+-------------+------------+------------+--------------------+-------------------+--------------------+--------------+-----------------+------------------+-------------------+-----------+-----------------------+----------+----------+---------+--------+--------------------+-----------+------------------+-----------+-----------+----------+-----------------+----------+----------+---------+---------------+-----------+-----------+----------+----------------+-------------------+-------------------+---------+-----------+--------------------+-------------------+--------------------+----------+--------------------+------------+-----------+-------------+-----------+------------------+-----------+-----------+-----------------------+-----------+-----------+-------------------------+-----------+-----------+---------------------+--------------+--------------+---------------+----------------+------------+--------------+----------------------+------------------------+-----------------------+\n",
            "|Planet_Name|Host_Star|Default_Flag|Num_Stars|Num_Planets|Discovery_Method|Discovery_Year|  Discovery_Facility|  Solar_System_Type|Controversial_Flag|      Reference_Name|Orbital_Period_Days|Orbital_Period_Error_Upper|Orbital_Period_Error_Lower|Orbital_Period_Limit_Flag| Semi_Major_Axis_AU|Semi_Major_Axis_Error_Upper|Semi_Major_Axis_Error_Lower|Semi_Major_Axis_Limit_Flag|Planet_Radius_Earth|pl_radeerr1|pl_radeerr2|pl_radelim|pl_radj|pl_radjerr1|pl_radjerr2|pl_radjlim|Planet_Mass_Earth|pl_bmasseerr1|pl_bmasseerr2|pl_bmasselim|pl_bmassj|pl_bmassjerr1|pl_bmassjerr2|pl_bmassjlim|pl_bmassprov|Orbital_Eccentricity|    pl_orbeccenerr1|     pl_orbeccenerr2|pl_orbeccenlim|  Insolation_Flux|      pl_insolerr1|       pl_insolerr2|pl_insollim|Equilibrium_Temperature|pl_eqterr1|pl_eqterr2|pl_eqtlim|ttv_flag|          st_refname|st_spectype|Star_Temperature_K|st_tefferr1|st_tefferr2|st_tefflim|Star_Radius_Solar|st_raderr1|st_raderr2|st_radlim|Star_Mass_Solar|st_masserr1|st_masserr2|st_masslim|Star_Metallicity|         st_meterr1|         st_meterr2|st_metlim|st_metratio|Star_Surface_Gravity|        st_loggerr1|         st_loggerr2|st_logglim|          sy_refname|       rastr|         ra|       decstr|        dec|System_Distance_PC|sy_disterr1|sy_disterr2|System_Visual_Magnitude|sy_vmagerr1|sy_vmagerr2|System_Infrared_Magnitude|sy_kmagerr1|sy_kmagerr2|System_Gaia_Magnitude|sy_gaiamagerr1|sy_gaiamagerr2|Row_Last_Update|Publication_Date|Release_Date|Discovery_Date|Discovery_Method_Index|Discovery_Facility_Index|Solar_System_Type_Index|\n",
            "+-----------+---------+------------+---------+-----------+----------------+--------------+--------------------+-------------------+------------------+--------------------+-------------------+--------------------------+--------------------------+-------------------------+-------------------+---------------------------+---------------------------+--------------------------+-------------------+-----------+-----------+----------+-------+-----------+-----------+----------+-----------------+-------------+-------------+------------+---------+-------------+-------------+------------+------------+--------------------+-------------------+--------------------+--------------+-----------------+------------------+-------------------+-----------+-----------------------+----------+----------+---------+--------+--------------------+-----------+------------------+-----------+-----------+----------+-----------------+----------+----------+---------+---------------+-----------+-----------+----------+----------------+-------------------+-------------------+---------+-----------+--------------------+-------------------+--------------------+----------+--------------------+------------+-----------+-------------+-----------+------------------+-----------+-----------+-----------------------+-----------+-----------+-------------------------+-----------+-----------+---------------------+--------------+--------------+---------------+----------------+------------+--------------+----------------------+------------------------+-----------------------+\n",
            "|BD+20 594 b|BD+20 594|           1|        1|          1|         Transit|          2016|                  K2|Published Confirmed|             false|<a refstr=STASSUN...|            41.6855|                     0.003|                    -0.003|                    false|0.11312557679914084|       0.002684978260869558|       -0.00277893804347...|                      NULL|              2.578|      0.112|     -0.112|         0|   0.23|       0.01|      -0.01|         0|          22.2481|       9.5349|      -9.5349|           0|     0.07|         0.03|        -0.03|           0|        Mass|                 0.0|0.04802127868852457|-0.04109831850117093|             0|486.9533952254641|39.427112299465236|-35.799064171123014|          0|                   1102|        28|       -27|        0|       0|<a refstr=STASSUN...|    Unknown|            5766.0|       99.0|      -99.0|         0|             1.08|      0.06|     -0.06|        0|           1.67|        0.4|       -0.4|         0|           -0.15|0.08140913811007251|-0.0808961578400829|        0|     [Fe/H]|                 4.5|               0.08|               -0.08|         0|<a refstr=STASSUN...|03h34m36.27s| 53.6511231|+20d35m56.47s| 20.5990205|           179.461|      1.257|      -1.24|                 10.849|      0.012|     -0.012|                    9.368|      0.018|     -0.018|              10.8644|       2.49E-4|      -2.49E-4|      25/4/2018|         2017-03|        NULL|    2016-01-01|                   0.0|                     2.0|                    0.0|\n",
            "|   K2-263 b|   K2-263|           1|        1|          1|         Transit|          2018|                  K2|Published Confirmed|             false|<a refstr=BONOMO_...|          50.818947|                    9.4E-5|                   -9.4E-5|                    false|             0.2573|                      0.003|                     -0.003|                     false|               2.41|       0.12|      -0.12|         0|  0.215|      0.011|     -0.011|         0|             14.9|          2.1|         -2.1|           0|  0.04688|      0.00661|     -0.00661|           0|        Mass|                0.15|0.04802127868852457|-0.04109831850117093|             1|             8.17|              0.52|              -0.52|          0|                    470|         7|        -7|        0|       0|<a refstr=BONOMO_...|    Unknown|            5368.0|       44.0|      -44.0|         0|             0.85|      0.02|     -0.02|        0|           0.88|       0.03|      -0.03|         0|           -0.08|               0.05|              -0.05|        0|     [Fe/H]|   4.392565130260518|0.05862208713272568|-0.05907801418439738|         0|<a refstr=STASSUN...|08h38m43.71s|129.6821253|+15d40m50.17s| 15.6806039|           162.481|       1.38|     -1.357|                 11.568|      0.046|     -0.046|                    9.748|       0.02|      -0.02|              11.4055|        6.8E-4|       -6.8E-4|      17/4/2023|         2023-04|        NULL|    2018-01-01|                   0.0|                     2.0|                    0.0|\n",
            "| TOI-3071 b| TOI-3071|           1|        1|          1|         Transit|          2024|Transiting Exopla...|Published Confirmed|             false|<a refstr=HACKER_...|           1.266938|                    2.0E-6|                   -2.0E-6|                    false|             0.0249|                     1.0E-4|                    -1.0E-4|                     false|               7.16|       0.57|      -0.51|         0|  0.639|      0.051|     -0.045|         0|             68.2|          3.5|         -3.5|           0|  0.21458|      0.01101|     -0.01101|           0|        Mass|                0.09|0.04802127868852457|-0.04109831850117093|             1|486.9533952254641|39.427112299465236|-35.799064171123014|          0|                   2155|        40|       -40|        0|       0|<a refstr=HACKER_...|    Unknown|            6177.0|       62.0|      -62.0|         0|             1.31|      0.04|     -0.04|        0|           1.29|       0.02|      -0.02|         0|            0.35|               0.04|              -0.04|        0|     [Fe/H]|                4.37|                0.1|                -0.1|         0|<a refstr=STASSUN...|11h33m06.97s|173.2790517|-56d30m12.19s|-56.5033871|           485.219|      9.044|     -8.725|                 12.383|      0.057|     -0.057|                   11.005|      0.021|     -0.021|              12.2766|       1.52E-4|      -1.52E-4|      25/6/2024|         2024-06|        NULL|    2024-01-01|                   0.0|                     0.0|                    0.0|\n",
            "|  TOI-558 b|  TOI-558|           1|        1|          1|         Transit|          2021|Transiting Exopla...|Published Confirmed|             false|<a refstr=IKWUT_U...|          14.574071|                    2.6E-5|                   -2.6E-5|                    false|             0.1291|                      0.002|                    -0.0021|                     false|             12.173|       0.46|     -0.426|         0|  1.086|      0.041|     -0.038|         0|       1147.36055|     47.67426|    -47.67426|           0|     3.61|         0.15|        -0.15|           0|        Mass|               0.298|              0.022|               -0.02|             0|486.9533952254641|39.427112299465236|-35.799064171123014|          0|                   1061|        13|       -12|        0|       0|<a refstr=IKWUT_U...|        F V|            6466.0|       95.0|      -93.0|         0|              1.5|      0.04|     -0.04|        0|           1.35|       0.06|      -0.07|         0|          -0.004|              0.059|             -0.055|        0|     [Fe/H]|                4.22|               0.03|               -0.03|         0|<a refstr=STASSUN...|02h49m09.96s| 42.2915093|-58d01m28.86s|-58.0246828|            402.63|      3.855|     -3.784|                 11.233|      0.013|     -0.013|                   10.262|      0.023|     -0.023|              11.3253|       5.93E-4|      -5.93E-4|      28/3/2022|         2022-01|        NULL|    2021-01-01|                   0.0|                     0.0|                    0.0|\n",
            "|HD 136352 d|HD 136352|           1|        1|          3| Radial Velocity|          2019|La Silla Observatory|Published Confirmed|             false|<a refstr=DELREZ_...|            107.245|                      0.05|                     -0.05|                    false|              0.425|                      0.012|                     -0.012|                     false|              2.562|      0.088|     -0.079|         0|  0.229|      0.008|     -0.007|         0|             8.82|         0.93|        -0.92|           0|  0.02775|      0.00293|     -0.00289|           0|        Mass|                 0.0|0.04802127868852457|-0.04109831850117093|             0|             5.74|              0.38|              -0.35|          0|                    431|         7|        -7|        0|       0|<a refstr=DELREZ_...|    Unknown|            5664.0|       61.0|      -61.0|         0|             1.06|      0.02|     -0.02|        0|           0.87|       0.04|      -0.04|         0|           -0.24|               0.05|              -0.05|        0|      [M/H]|                4.39|               0.11|               -0.11|         0|<a refstr=STASSUN...|15h21m45.63s|230.4401147|-48d19m07.74s|-48.3188174|            14.682|     0.0199|    -0.0198|                   5.65|       0.03|      -0.03|                    4.159|      0.036|     -0.036|              5.48495|     0.0015675|    -0.0015675|       9/8/2021|         2021-06|        NULL|    2019-01-01|                   1.0|                    14.0|                    0.0|\n",
            "+-----------+---------+------------+---------+-----------+----------------+--------------+--------------------+-------------------+------------------+--------------------+-------------------+--------------------------+--------------------------+-------------------------+-------------------+---------------------------+---------------------------+--------------------------+-------------------+-----------+-----------+----------+-------+-----------+-----------+----------+-----------------+-------------+-------------+------------+---------+-------------+-------------+------------+------------+--------------------+-------------------+--------------------+--------------+-----------------+------------------+-------------------+-----------+-----------------------+----------+----------+---------+--------+--------------------+-----------+------------------+-----------+-----------+----------+-----------------+----------+----------+---------+---------------+-----------+-----------+----------+----------------+-------------------+-------------------+---------+-----------+--------------------+-------------------+--------------------+----------+--------------------+------------+-----------+-------------+-----------+------------------+-----------+-----------+-----------------------+-----------+-----------+-------------------------+-----------+-----------+---------------------+--------------+--------------+---------------+----------------+------------+--------------+----------------------+------------------------+-----------------------+\n",
            "only showing top 5 rows\n",
            "\n"
          ]
        }
      ]
    },
    {
      "cell_type": "code",
      "source": [
        "# Save the fully cleaned Dataset\n",
        "df.write.csv(\"PS_dataset.csv\", header=True)\n",
        "\n"
      ],
      "metadata": {
        "id": "aotVZEH5292p"
      },
      "id": "aotVZEH5292p",
      "execution_count": 29,
      "outputs": []
    },
    {
      "cell_type": "code",
      "source": [],
      "metadata": {
        "id": "UogRKtGb29vr"
      },
      "id": "UogRKtGb29vr",
      "execution_count": null,
      "outputs": []
    },
    {
      "cell_type": "markdown",
      "source": [],
      "metadata": {
        "id": "s9Z4nESgzrJD"
      },
      "id": "s9Z4nESgzrJD"
    }
  ],
  "metadata": {
    "kernelspec": {
      "display_name": "Python 3 (ipykernel)",
      "language": "python",
      "name": "python3"
    },
    "language_info": {
      "codemirror_mode": {
        "name": "ipython",
        "version": 3
      },
      "file_extension": ".py",
      "mimetype": "text/x-python",
      "name": "python",
      "nbconvert_exporter": "python",
      "pygments_lexer": "ipython3",
      "version": "3.10.14"
    },
    "colab": {
      "provenance": []
    }
  },
  "nbformat": 4,
  "nbformat_minor": 5
}