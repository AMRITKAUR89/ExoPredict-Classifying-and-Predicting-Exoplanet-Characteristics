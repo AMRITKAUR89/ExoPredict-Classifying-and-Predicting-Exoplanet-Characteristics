{
  "cells": [
    {
      "cell_type": "markdown",
      "source": [
        "# ExoPredict-Classifying-and-Predicting-Exoplanet-Characteristics"
      ],
      "metadata": {
        "id": "KgikqnnvV4gq"
      },
      "id": "KgikqnnvV4gq"
    },
    {
      "cell_type": "markdown",
      "source": [
        "# Extract\n",
        "1. Initialize a PySpark session to handle big data efficiently.\n",
        "2. Read the files containing exoplanet data.\n"
      ],
      "metadata": {
        "id": "ZKkTPE5vWIOB"
      },
      "id": "ZKkTPE5vWIOB"
    },
    {
      "cell_type": "code",
      "execution_count": 1,
      "id": "53ba07a6-1fc7-43ae-931c-987b06766767",
      "metadata": {
        "id": "53ba07a6-1fc7-43ae-931c-987b06766767"
      },
      "outputs": [],
      "source": [
        "import os\n",
        "!apt-get install openjdk-8-jdk-headless -qq > /dev/null\n",
        "!wget -q http://apache.osuosl.org/spark/spark-3.5.4/spark-3.5.4-bin-hadoop3.tgz\n",
        "!tar xf spark-3.5.4-bin-hadoop3.tgz\n",
        "!pip install -q findspark\n",
        "import os\n",
        "os.environ[\"JAVA_HOME\"] = \"/usr/lib/jvm/java-8-openjdk-amd64\"\n",
        "os.environ[\"SPARK_HOME\"] = \"/content/spark-3.5.4-bin-hadoop3\""
      ]
    },
    {
      "cell_type": "code",
      "source": [
        "# Import findspark and initialise.\n",
        "import findspark\n",
        "findspark.init()"
      ],
      "metadata": {
        "id": "F9gPMv6edzsD"
      },
      "id": "F9gPMv6edzsD",
      "execution_count": 14,
      "outputs": []
    },
    {
      "cell_type": "code",
      "source": [
        "from google.colab import files\n",
        "uploaded = files.upload()"
      ],
      "metadata": {
        "colab": {
          "base_uri": "https://localhost:8080/",
          "height": 73
        },
        "id": "nl1QLqVwma2K",
        "outputId": "4bf18d8c-a8b5-4e52-bd80-f887819ee2f2"
      },
      "id": "nl1QLqVwma2K",
      "execution_count": 15,
      "outputs": [
        {
          "output_type": "display_data",
          "data": {
            "text/plain": [
              "<IPython.core.display.HTML object>"
            ],
            "text/html": [
              "\n",
              "     <input type=\"file\" id=\"files-eb57139a-6d2f-4e62-8ff4-235b9ef584ee\" name=\"files[]\" multiple disabled\n",
              "        style=\"border:none\" />\n",
              "     <output id=\"result-eb57139a-6d2f-4e62-8ff4-235b9ef584ee\">\n",
              "      Upload widget is only available when the cell has been executed in the\n",
              "      current browser session. Please rerun this cell to enable.\n",
              "      </output>\n",
              "      <script>// Copyright 2017 Google LLC\n",
              "//\n",
              "// Licensed under the Apache License, Version 2.0 (the \"License\");\n",
              "// you may not use this file except in compliance with the License.\n",
              "// You may obtain a copy of the License at\n",
              "//\n",
              "//      http://www.apache.org/licenses/LICENSE-2.0\n",
              "//\n",
              "// Unless required by applicable law or agreed to in writing, software\n",
              "// distributed under the License is distributed on an \"AS IS\" BASIS,\n",
              "// WITHOUT WARRANTIES OR CONDITIONS OF ANY KIND, either express or implied.\n",
              "// See the License for the specific language governing permissions and\n",
              "// limitations under the License.\n",
              "\n",
              "/**\n",
              " * @fileoverview Helpers for google.colab Python module.\n",
              " */\n",
              "(function(scope) {\n",
              "function span(text, styleAttributes = {}) {\n",
              "  const element = document.createElement('span');\n",
              "  element.textContent = text;\n",
              "  for (const key of Object.keys(styleAttributes)) {\n",
              "    element.style[key] = styleAttributes[key];\n",
              "  }\n",
              "  return element;\n",
              "}\n",
              "\n",
              "// Max number of bytes which will be uploaded at a time.\n",
              "const MAX_PAYLOAD_SIZE = 100 * 1024;\n",
              "\n",
              "function _uploadFiles(inputId, outputId) {\n",
              "  const steps = uploadFilesStep(inputId, outputId);\n",
              "  const outputElement = document.getElementById(outputId);\n",
              "  // Cache steps on the outputElement to make it available for the next call\n",
              "  // to uploadFilesContinue from Python.\n",
              "  outputElement.steps = steps;\n",
              "\n",
              "  return _uploadFilesContinue(outputId);\n",
              "}\n",
              "\n",
              "// This is roughly an async generator (not supported in the browser yet),\n",
              "// where there are multiple asynchronous steps and the Python side is going\n",
              "// to poll for completion of each step.\n",
              "// This uses a Promise to block the python side on completion of each step,\n",
              "// then passes the result of the previous step as the input to the next step.\n",
              "function _uploadFilesContinue(outputId) {\n",
              "  const outputElement = document.getElementById(outputId);\n",
              "  const steps = outputElement.steps;\n",
              "\n",
              "  const next = steps.next(outputElement.lastPromiseValue);\n",
              "  return Promise.resolve(next.value.promise).then((value) => {\n",
              "    // Cache the last promise value to make it available to the next\n",
              "    // step of the generator.\n",
              "    outputElement.lastPromiseValue = value;\n",
              "    return next.value.response;\n",
              "  });\n",
              "}\n",
              "\n",
              "/**\n",
              " * Generator function which is called between each async step of the upload\n",
              " * process.\n",
              " * @param {string} inputId Element ID of the input file picker element.\n",
              " * @param {string} outputId Element ID of the output display.\n",
              " * @return {!Iterable<!Object>} Iterable of next steps.\n",
              " */\n",
              "function* uploadFilesStep(inputId, outputId) {\n",
              "  const inputElement = document.getElementById(inputId);\n",
              "  inputElement.disabled = false;\n",
              "\n",
              "  const outputElement = document.getElementById(outputId);\n",
              "  outputElement.innerHTML = '';\n",
              "\n",
              "  const pickedPromise = new Promise((resolve) => {\n",
              "    inputElement.addEventListener('change', (e) => {\n",
              "      resolve(e.target.files);\n",
              "    });\n",
              "  });\n",
              "\n",
              "  const cancel = document.createElement('button');\n",
              "  inputElement.parentElement.appendChild(cancel);\n",
              "  cancel.textContent = 'Cancel upload';\n",
              "  const cancelPromise = new Promise((resolve) => {\n",
              "    cancel.onclick = () => {\n",
              "      resolve(null);\n",
              "    };\n",
              "  });\n",
              "\n",
              "  // Wait for the user to pick the files.\n",
              "  const files = yield {\n",
              "    promise: Promise.race([pickedPromise, cancelPromise]),\n",
              "    response: {\n",
              "      action: 'starting',\n",
              "    }\n",
              "  };\n",
              "\n",
              "  cancel.remove();\n",
              "\n",
              "  // Disable the input element since further picks are not allowed.\n",
              "  inputElement.disabled = true;\n",
              "\n",
              "  if (!files) {\n",
              "    return {\n",
              "      response: {\n",
              "        action: 'complete',\n",
              "      }\n",
              "    };\n",
              "  }\n",
              "\n",
              "  for (const file of files) {\n",
              "    const li = document.createElement('li');\n",
              "    li.append(span(file.name, {fontWeight: 'bold'}));\n",
              "    li.append(span(\n",
              "        `(${file.type || 'n/a'}) - ${file.size} bytes, ` +\n",
              "        `last modified: ${\n",
              "            file.lastModifiedDate ? file.lastModifiedDate.toLocaleDateString() :\n",
              "                                    'n/a'} - `));\n",
              "    const percent = span('0% done');\n",
              "    li.appendChild(percent);\n",
              "\n",
              "    outputElement.appendChild(li);\n",
              "\n",
              "    const fileDataPromise = new Promise((resolve) => {\n",
              "      const reader = new FileReader();\n",
              "      reader.onload = (e) => {\n",
              "        resolve(e.target.result);\n",
              "      };\n",
              "      reader.readAsArrayBuffer(file);\n",
              "    });\n",
              "    // Wait for the data to be ready.\n",
              "    let fileData = yield {\n",
              "      promise: fileDataPromise,\n",
              "      response: {\n",
              "        action: 'continue',\n",
              "      }\n",
              "    };\n",
              "\n",
              "    // Use a chunked sending to avoid message size limits. See b/62115660.\n",
              "    let position = 0;\n",
              "    do {\n",
              "      const length = Math.min(fileData.byteLength - position, MAX_PAYLOAD_SIZE);\n",
              "      const chunk = new Uint8Array(fileData, position, length);\n",
              "      position += length;\n",
              "\n",
              "      const base64 = btoa(String.fromCharCode.apply(null, chunk));\n",
              "      yield {\n",
              "        response: {\n",
              "          action: 'append',\n",
              "          file: file.name,\n",
              "          data: base64,\n",
              "        },\n",
              "      };\n",
              "\n",
              "      let percentDone = fileData.byteLength === 0 ?\n",
              "          100 :\n",
              "          Math.round((position / fileData.byteLength) * 100);\n",
              "      percent.textContent = `${percentDone}% done`;\n",
              "\n",
              "    } while (position < fileData.byteLength);\n",
              "  }\n",
              "\n",
              "  // All done.\n",
              "  yield {\n",
              "    response: {\n",
              "      action: 'complete',\n",
              "    }\n",
              "  };\n",
              "}\n",
              "\n",
              "scope.google = scope.google || {};\n",
              "scope.google.colab = scope.google.colab || {};\n",
              "scope.google.colab._files = {\n",
              "  _uploadFiles,\n",
              "  _uploadFilesContinue,\n",
              "};\n",
              "})(self);\n",
              "</script> "
            ]
          },
          "metadata": {}
        },
        {
          "output_type": "stream",
          "name": "stdout",
          "text": [
            "Saving PS_2025.02.03_02.08.19.csv to PS_2025.02.03_02.08.19 (1).csv\n"
          ]
        }
      ]
    },
    {
      "cell_type": "code",
      "source": [
        "# Import packages\n",
        "from pyspark.sql import SparkSession\n",
        "import time\n",
        "\n",
        "# Create a SparkSession\n",
        "spark = SparkSession.builder.appName(\"ExoPlanet_ETL_Project\").getOrCreate()"
      ],
      "metadata": {
        "id": "ijAlzS0gyU1F"
      },
      "id": "ijAlzS0gyU1F",
      "execution_count": 16,
      "outputs": []
    },
    {
      "cell_type": "code",
      "source": [
        "# Read the file\n",
        "file_path = \"/content/PS_2025.02.03_02.08.19.csv\"\n",
        "\n",
        "df = spark.read.option(\"header\", \"true\").option(\"inferSchema\", \"true\").csv(file_path)\n",
        "df.show(5)"
      ],
      "metadata": {
        "colab": {
          "base_uri": "https://localhost:8080/"
        },
        "id": "894UmHB6oxcs",
        "outputId": "1350b94e-0a37-454e-ee7d-06073523b329"
      },
      "id": "894UmHB6oxcs",
      "execution_count": 17,
      "outputs": [
        {
          "output_type": "stream",
          "name": "stdout",
          "text": [
            "+----------+--------+------------+-------+-------+---------------+---------+--------------------+-------------------+---------------+--------------------+---------+-------------+-------------+------------+----------+--------------+--------------+-------------+-------+-----------+-----------+----------+-------+-----------+-----------+----------+----------+-------------+-------------+------------+---------+-------------+-------------+------------+------------+-----------+---------------+---------------+--------------+--------+------------+------------+-----------+------+----------+----------+---------+--------+--------------------+-----------+-------+-----------+-----------+----------+------+----------+----------+---------+-------+-----------+-----------+----------+------+----------+----------+---------+-----------+-------+-----------+-----------+----------+--------------------+------------+-----------+-------------+----------+-------+-----------+-----------+-------+-----------+-----------+-------+-----------+-----------+----------+--------------+--------------+---------+----------+-----------+\n",
            "|   pl_name|hostname|default_flag|sy_snum|sy_pnum|discoverymethod|disc_year|       disc_facility|            soltype|pl_controv_flag|          pl_refname|pl_orbper|pl_orbpererr1|pl_orbpererr2|pl_orbperlim|pl_orbsmax|pl_orbsmaxerr1|pl_orbsmaxerr2|pl_orbsmaxlim|pl_rade|pl_radeerr1|pl_radeerr2|pl_radelim|pl_radj|pl_radjerr1|pl_radjerr2|pl_radjlim| pl_bmasse|pl_bmasseerr1|pl_bmasseerr2|pl_bmasselim|pl_bmassj|pl_bmassjerr1|pl_bmassjerr2|pl_bmassjlim|pl_bmassprov|pl_orbeccen|pl_orbeccenerr1|pl_orbeccenerr2|pl_orbeccenlim|pl_insol|pl_insolerr1|pl_insolerr2|pl_insollim|pl_eqt|pl_eqterr1|pl_eqterr2|pl_eqtlim|ttv_flag|          st_refname|st_spectype|st_teff|st_tefferr1|st_tefferr2|st_tefflim|st_rad|st_raderr1|st_raderr2|st_radlim|st_mass|st_masserr1|st_masserr2|st_masslim|st_met|st_meterr1|st_meterr2|st_metlim|st_metratio|st_logg|st_loggerr1|st_loggerr2|st_logglim|          sy_refname|       rastr|         ra|       decstr|       dec|sy_dist|sy_disterr1|sy_disterr2|sy_vmag|sy_vmagerr1|sy_vmagerr2|sy_kmag|sy_kmagerr1|sy_kmagerr2|sy_gaiamag|sy_gaiamagerr1|sy_gaiamagerr2|rowupdate|pl_pubdate|releasedate|\n",
            "+----------+--------+------------+-------+-------+---------------+---------+--------------------+-------------------+---------------+--------------------+---------+-------------+-------------+------------+----------+--------------+--------------+-------------+-------+-----------+-----------+----------+-------+-----------+-----------+----------+----------+-------------+-------------+------------+---------+-------------+-------------+------------+------------+-----------+---------------+---------------+--------------+--------+------------+------------+-----------+------+----------+----------+---------+--------+--------------------+-----------+-------+-----------+-----------+----------+------+----------+----------+---------+-------+-----------+-----------+----------+------+----------+----------+---------+-----------+-------+-----------+-----------+----------+--------------------+------------+-----------+-------------+----------+-------+-----------+-----------+-------+-----------+-----------+-------+-----------+-----------+----------+--------------+--------------+---------+----------+-----------+\n",
            "|  11 Com b|  11 Com|           1|      2|      1|Radial Velocity|     2007|    Xinglong Station|Published Confirmed|              0|<a refstr=TENG_ET...|   323.21|         0.06|        -0.05|           0|     1.178|           0.0|           0.0|            0|   NULL|       NULL|       NULL|      NULL|   NULL|       NULL|       NULL|      NULL|4914.89849|     39.09289|    -39.72855|           0|   15.464|        0.123|       -0.125|           0|       Msini|      0.238|          0.007|         -0.007|             0|    NULL|        NULL|        NULL|       NULL|  NULL|      NULL|      NULL|     NULL|       0|<a refstr=TENG_ET...|     G8 III| 4874.0|       NULL|       NULL|         0| 13.76|      2.85|     -2.45|        0|   2.09|       0.64|      -0.63|         0| -0.26|       0.1|      -0.1|        0|     [Fe/H]|   2.45|       0.08|      -0.08|         0|<a refstr=STASSUN...|12h20m42.91s|185.1787793|+17d47m35.71s|17.7932516|93.1846|     1.9238|    -1.9238|4.72307|      0.023|     -0.023|  2.282|      0.346|     -0.346|   4.44038|     0.0038479|    -0.0038479|19/9/2023|   2023-08|  19/9/2023|\n",
            "|  11 UMi b|  11 UMi|           1|      1|      1|Radial Velocity|     2009|Thueringer Landes...|Published Confirmed|              0|<a refstr=STASSUN...|516.21997|          3.2|         -3.2|           0|      1.53|          0.07|         -0.07|            0|   NULL|       NULL|       NULL|      NULL|   NULL|       NULL|       NULL|      NULL| 4684.8142|      794.575|     -794.575|           0|    14.74|          2.5|         -2.5|           0|       Msini|       0.08|           0.03|          -0.03|             0|    NULL|        NULL|        NULL|       NULL|  NULL|      NULL|      NULL|     NULL|       0|<a refstr=STASSUN...|       NULL| 4213.0|       46.0|      -46.0|         0| 29.79|      2.84|     -2.84|        0|   2.78|       0.69|      -0.69|         0| -0.02|      NULL|      NULL|        0|     [Fe/H]|   1.93|       0.07|      -0.07|         0|<a refstr=STASSUN...|15h17m05.90s|229.2745954|+71d49m26.19s|71.8239428|125.321|     1.9765|    -1.9765|  5.013|      0.005|     -0.005|  1.939|       0.27|      -0.27|   4.56216|     0.0039035|    -0.0039035| 4/9/2018|   2017-03|   6/9/2018|\n",
            "|  14 And b|  14 And|           1|      1|      1|Radial Velocity|     2008|Okayama Astrophys...|Published Confirmed|              0|<a refstr=TENG_ET...|   186.76|         0.11|        -0.12|           0|     0.775|           0.0|           0.0|            0|   NULL|       NULL|       NULL|      NULL|   NULL|       NULL|       NULL|      NULL| 1131.1513|     36.23244|    -38.77507|           0|    3.559|        0.114|       -0.122|           0|       Msini|        0.0|           NULL|           NULL|             0|    NULL|        NULL|        NULL|       NULL|  NULL|      NULL|      NULL|     NULL|       0|<a refstr=TENG_ET...|     K0 III| 4888.0|       NULL|       NULL|         0| 11.55|      1.12|     -0.51|        0|   1.78|       0.43|      -0.29|         0| -0.21|       0.1|      -0.1|        0|     [Fe/H]|   2.55|       0.06|      -0.07|         0|<a refstr=STASSUN...|23h31m17.80s|  352.82415|+39d14m09.01s|39.2358367|75.4392|      0.714|     -0.714|5.23133|      0.023|     -0.023|  2.331|       0.24|      -0.24|   4.91781|     0.0028262|    -0.0028262|19/9/2023|   2023-08|  19/9/2023|\n",
            "|  14 Her b|  14 Her|           1|      1|      2|Radial Velocity|     2002|W. M. Keck Observ...|Published Confirmed|              0|<a refstr=FENG_ET...|1765.0389|      1.67709|     -1.87256|           0|     2.774|         0.109|         -0.12|            0|   NULL|       NULL|       NULL|      NULL|   NULL|       NULL|       NULL|      NULL|2559.47216|    518.69596|   -280.64248|           0|    8.053|        1.632|       -0.883|           0|        Mass|      0.373|          0.008|         -0.006|             0|    NULL|        NULL|        NULL|       NULL|  NULL|      NULL|      NULL|     NULL|       0|<a refstr=FENG_ET...|       NULL|   NULL|       NULL|       NULL|      NULL|  NULL|      NULL|      NULL|     NULL|   0.91|       0.11|      -0.11|         0|  NULL|      NULL|      NULL|     NULL|       NULL|   NULL|       NULL|       NULL|      NULL|<a refstr=STASSUN...|16h10m24.50s|242.6021014|+43d48m58.90s|43.8163621|17.9323|     0.0073|    -0.0073|6.61935|      0.023|     -0.023|  4.714|      0.016|     -0.016|     6.383|      3.512E-4|     -3.512E-4|12/6/2023|   2022-09|  12/6/2023|\n",
            "|16 Cyg B b|16 Cyg B|           1|      3|      1|Radial Velocity|     1996|Multiple Observat...|Published Confirmed|              0|<a refstr=STASSUN...|    798.5|          1.0|         -1.0|           0|      1.66|          0.03|         -0.03|            0|   NULL|       NULL|       NULL|      NULL|   NULL|       NULL|       NULL|      NULL|  565.7374|      25.4264|     -25.4264|           0|     1.78|         0.08|        -0.08|           0|       Msini|       0.68|           0.02|          -0.02|             0|    NULL|        NULL|        NULL|       NULL|  NULL|      NULL|      NULL|     NULL|       0|<a refstr=STASSUN...|       NULL| 5750.0|        8.0|       -8.0|         0|  1.13|      0.01|     -0.01|        0|   1.08|       0.04|      -0.04|         0|  0.06|      NULL|      NULL|        0|     [Fe/H]|   4.36|       0.01|      -0.01|         0|<a refstr=STASSUN...|19h41m51.75s|295.4656422|+50d31m00.57s|50.5168243|21.1397|      0.011|    -0.0111|  6.215|      0.016|     -0.016|  4.651|      0.016|     -0.016|   6.06428|      6.029E-4|     -6.029E-4| 4/9/2018|   2017-03|   6/9/2018|\n",
            "+----------+--------+------------+-------+-------+---------------+---------+--------------------+-------------------+---------------+--------------------+---------+-------------+-------------+------------+----------+--------------+--------------+-------------+-------+-----------+-----------+----------+-------+-----------+-----------+----------+----------+-------------+-------------+------------+---------+-------------+-------------+------------+------------+-----------+---------------+---------------+--------------+--------+------------+------------+-----------+------+----------+----------+---------+--------+--------------------+-----------+-------+-----------+-----------+----------+------+----------+----------+---------+-------+-----------+-----------+----------+------+----------+----------+---------+-----------+-------+-----------+-----------+----------+--------------------+------------+-----------+-------------+----------+-------+-----------+-----------+-------+-----------+-----------+-------+-----------+-----------+----------+--------------+--------------+---------+----------+-----------+\n",
            "only showing top 5 rows\n",
            "\n"
          ]
        }
      ]
    },
    {
      "cell_type": "markdown",
      "source": [
        "# Transform\n",
        "1. Drop unnecessary columns – A new dataframe is created with only the required columns.\n",
        "2. Remove columns with excessive missing values to improve data quality.\n",
        "3. Change column data types where necessary for consistency and accuracy.\n",
        "4. Rename columns for better readability and ease of use.\n",
        "5. Standardize numerical columns using feature scaling (important for ML models).\n",
        "6. Create a unique identifier to set as an index for efficient querying.\n",
        "7. Export the cleaned data for further analysis."
      ],
      "metadata": {
        "id": "imH0bvW6-gTT"
      },
      "id": "imH0bvW6-gTT"
    },
    {
      "cell_type": "code",
      "source": [
        "# Data Selection\n",
        "df = df.select(\"pl_name\", \"hostname\", \"discoverymethod\", \"disc_year\", \"disc_facility\", \"pl_refname\", \"pl_orbper\", \"pl_orbpererr1\", \"pl_orbpererr2\", \"pl_orbsmax\", \"pl_rade\", \"pl_radj\",\"pl_bmasse\", \"pl_bmassj\", \"pl_bmassprov\", \"pl_orbeccen\", \"pl_insol\", \"pl_eqt\", \"pl_eqterr1\", \"pl_eqterr2\", \"pl_eqtlim\", \"ttv_flag\", \"st_refname\", \"st_spectype\", \"st_teff\", \"st_tefferr1\", \"st_tefferr2\", \"st_tefflim\", \"st_rad\", \"st_mass\", \"st_met\", \"st_logg\", \"sy_refname\", \"rastr\", \"ra\", \"dec\", \"sy_dist\", \"sy_vmag\", \"sy_kmag\")\n",
        "df.show(5)"
      ],
      "metadata": {
        "colab": {
          "base_uri": "https://localhost:8080/"
        },
        "id": "PKJ2LyxzWiND",
        "outputId": "fe8d5516-59e3-4aae-8cf7-2bf8abb5c050"
      },
      "id": "PKJ2LyxzWiND",
      "execution_count": 18,
      "outputs": [
        {
          "output_type": "stream",
          "name": "stdout",
          "text": [
            "+----------+--------+---------------+---------+--------------------+--------------------+---------+-------------+-------------+----------+-------+-------+----------+---------+------------+-----------+--------+------+----------+----------+---------+--------+--------------------+-----------+-------+-----------+-----------+----------+------+-------+------+-------+--------------------+------------+-----------+----------+-------+-------+-------+\n",
            "|   pl_name|hostname|discoverymethod|disc_year|       disc_facility|          pl_refname|pl_orbper|pl_orbpererr1|pl_orbpererr2|pl_orbsmax|pl_rade|pl_radj| pl_bmasse|pl_bmassj|pl_bmassprov|pl_orbeccen|pl_insol|pl_eqt|pl_eqterr1|pl_eqterr2|pl_eqtlim|ttv_flag|          st_refname|st_spectype|st_teff|st_tefferr1|st_tefferr2|st_tefflim|st_rad|st_mass|st_met|st_logg|          sy_refname|       rastr|         ra|       dec|sy_dist|sy_vmag|sy_kmag|\n",
            "+----------+--------+---------------+---------+--------------------+--------------------+---------+-------------+-------------+----------+-------+-------+----------+---------+------------+-----------+--------+------+----------+----------+---------+--------+--------------------+-----------+-------+-----------+-----------+----------+------+-------+------+-------+--------------------+------------+-----------+----------+-------+-------+-------+\n",
            "|  11 Com b|  11 Com|Radial Velocity|     2007|    Xinglong Station|<a refstr=TENG_ET...|   323.21|         0.06|        -0.05|     1.178|   NULL|   NULL|4914.89849|   15.464|       Msini|      0.238|    NULL|  NULL|      NULL|      NULL|     NULL|       0|<a refstr=TENG_ET...|     G8 III| 4874.0|       NULL|       NULL|         0| 13.76|   2.09| -0.26|   2.45|<a refstr=STASSUN...|12h20m42.91s|185.1787793|17.7932516|93.1846|4.72307|  2.282|\n",
            "|  11 UMi b|  11 UMi|Radial Velocity|     2009|Thueringer Landes...|<a refstr=STASSUN...|516.21997|          3.2|         -3.2|      1.53|   NULL|   NULL| 4684.8142|    14.74|       Msini|       0.08|    NULL|  NULL|      NULL|      NULL|     NULL|       0|<a refstr=STASSUN...|       NULL| 4213.0|       46.0|      -46.0|         0| 29.79|   2.78| -0.02|   1.93|<a refstr=STASSUN...|15h17m05.90s|229.2745954|71.8239428|125.321|  5.013|  1.939|\n",
            "|  14 And b|  14 And|Radial Velocity|     2008|Okayama Astrophys...|<a refstr=TENG_ET...|   186.76|         0.11|        -0.12|     0.775|   NULL|   NULL| 1131.1513|    3.559|       Msini|        0.0|    NULL|  NULL|      NULL|      NULL|     NULL|       0|<a refstr=TENG_ET...|     K0 III| 4888.0|       NULL|       NULL|         0| 11.55|   1.78| -0.21|   2.55|<a refstr=STASSUN...|23h31m17.80s|  352.82415|39.2358367|75.4392|5.23133|  2.331|\n",
            "|  14 Her b|  14 Her|Radial Velocity|     2002|W. M. Keck Observ...|<a refstr=FENG_ET...|1765.0389|      1.67709|     -1.87256|     2.774|   NULL|   NULL|2559.47216|    8.053|        Mass|      0.373|    NULL|  NULL|      NULL|      NULL|     NULL|       0|<a refstr=FENG_ET...|       NULL|   NULL|       NULL|       NULL|      NULL|  NULL|   0.91|  NULL|   NULL|<a refstr=STASSUN...|16h10m24.50s|242.6021014|43.8163621|17.9323|6.61935|  4.714|\n",
            "|16 Cyg B b|16 Cyg B|Radial Velocity|     1996|Multiple Observat...|<a refstr=STASSUN...|    798.5|          1.0|         -1.0|      1.66|   NULL|   NULL|  565.7374|     1.78|       Msini|       0.68|    NULL|  NULL|      NULL|      NULL|     NULL|       0|<a refstr=STASSUN...|       NULL| 5750.0|        8.0|       -8.0|         0|  1.13|   1.08|  0.06|   4.36|<a refstr=STASSUN...|19h41m51.75s|295.4656422|50.5168243|21.1397|  6.215|  4.651|\n",
            "+----------+--------+---------------+---------+--------------------+--------------------+---------+-------------+-------------+----------+-------+-------+----------+---------+------------+-----------+--------+------+----------+----------+---------+--------+--------------------+-----------+-------+-----------+-----------+----------+------+-------+------+-------+--------------------+------------+-----------+----------+-------+-------+-------+\n",
            "only showing top 5 rows\n",
            "\n"
          ]
        }
      ]
    },
    {
      "cell_type": "code",
      "source": [
        "# Import necessary libraries\n",
        "from pyspark.sql.functions import col, mean, when, lit, count, round\n",
        "from pyspark.sql.types import IntegerType, DoubleType, DateType"
      ],
      "metadata": {
        "id": "ziXGxhLOfFXz"
      },
      "id": "ziXGxhLOfFXz",
      "execution_count": 28,
      "outputs": []
    },
    {
      "cell_type": "code",
      "source": [
        "# Total Rows\n",
        "total_rows = df.count()\n",
        "print(f\"Total Rows: {total_rows}\")"
      ],
      "metadata": {
        "colab": {
          "base_uri": "https://localhost:8080/"
        },
        "id": "3a1ebJGBqAwp",
        "outputId": "ceb4e7ee-8faf-478e-8182-7727443c3033"
      },
      "id": "3a1ebJGBqAwp",
      "execution_count": 29,
      "outputs": [
        {
          "output_type": "stream",
          "name": "stdout",
          "text": [
            "Total Rows: 1130\n"
          ]
        }
      ]
    },
    {
      "cell_type": "code",
      "source": [
        "# Count missing values per column\n",
        "missing_counts = df.select([count(when(col(c).isNull(), c)).alias(c) for c in df.columns])\n",
        "\n",
        "# Show missing values\n",
        "missing_counts.show()"
      ],
      "metadata": {
        "colab": {
          "base_uri": "https://localhost:8080/"
        },
        "id": "Hm_KIBh9rm_p",
        "outputId": "401f55e8-66c9-455b-a77d-168842dda715"
      },
      "id": "Hm_KIBh9rm_p",
      "execution_count": 30,
      "outputs": [
        {
          "output_type": "stream",
          "name": "stdout",
          "text": [
            "+-------+--------+---------------+---------+-------------+----------+---------+-------------+-------------+----------+-------+-------+---------+---------+------------+-----------+--------+------+----------+----------+---------+--------+----------+-----------+-------+-----------+-----------+----------+------+-------+------+-------+----------+-----+---+---+-------+-------+-------+\n",
            "|pl_name|hostname|discoverymethod|disc_year|disc_facility|pl_refname|pl_orbper|pl_orbpererr1|pl_orbpererr2|pl_orbsmax|pl_rade|pl_radj|pl_bmasse|pl_bmassj|pl_bmassprov|pl_orbeccen|pl_insol|pl_eqt|pl_eqterr1|pl_eqterr2|pl_eqtlim|ttv_flag|st_refname|st_spectype|st_teff|st_tefferr1|st_tefferr2|st_tefflim|st_rad|st_mass|st_met|st_logg|sy_refname|rastr| ra|dec|sy_dist|sy_vmag|sy_kmag|\n",
            "+-------+--------+---------------+---------+-------------+----------+---------+-------------+-------------+----------+-------+-------+---------+---------+------------+-----------+--------+------+----------+----------+---------+--------+----------+-----------+-------+-----------+-----------+----------+------+-------+------+-------+----------+-----+---+---+-------+-------+-------+\n",
            "|      0|       0|              0|        0|            0|         0|        0|           56|           56|       199|      0|      0|        0|        0|           0|        172|     753|   297|       315|       315|      297|       0|         0|          0|      0|          8|         26|         0|     3|      3|    79|    132|         0|    0|  0|  0|      7|      0|      3|\n",
            "+-------+--------+---------------+---------+-------------+----------+---------+-------------+-------------+----------+-------+-------+---------+---------+------------+-----------+--------+------+----------+----------+---------+--------+----------+-----------+-------+-----------+-----------+----------+------+-------+------+-------+----------+-----+---+---+-------+-------+-------+\n",
            "\n"
          ]
        }
      ]
    },
    {
      "cell_type": "code",
      "source": [
        "#Drop columns with too many missing values (e.g., >50%)\n",
        "threshold = int(0.5 * df.count())\n",
        "df_cleaned = df.dropna(thresh=threshold)\n",
        "df_cleaned .show(5)"
      ],
      "metadata": {
        "id": "8Wyt7jxqrqDf",
        "colab": {
          "base_uri": "https://localhost:8080/"
        },
        "outputId": "92137480-aa26-4feb-f308-20f6f1268ca7"
      },
      "id": "8Wyt7jxqrqDf",
      "execution_count": 31,
      "outputs": [
        {
          "output_type": "stream",
          "name": "stdout",
          "text": [
            "+-------+--------+---------------+---------+-------------+----------+---------+-------------+-------------+----------+-------+-------+---------+---------+------------+-----------+--------+------+----------+----------+---------+--------+----------+-----------+-------+-----------+-----------+----------+------+-------+------+-------+----------+-----+---+---+-------+-------+-------+\n",
            "|pl_name|hostname|discoverymethod|disc_year|disc_facility|pl_refname|pl_orbper|pl_orbpererr1|pl_orbpererr2|pl_orbsmax|pl_rade|pl_radj|pl_bmasse|pl_bmassj|pl_bmassprov|pl_orbeccen|pl_insol|pl_eqt|pl_eqterr1|pl_eqterr2|pl_eqtlim|ttv_flag|st_refname|st_spectype|st_teff|st_tefferr1|st_tefferr2|st_tefflim|st_rad|st_mass|st_met|st_logg|sy_refname|rastr| ra|dec|sy_dist|sy_vmag|sy_kmag|\n",
            "+-------+--------+---------------+---------+-------------+----------+---------+-------------+-------------+----------+-------+-------+---------+---------+------------+-----------+--------+------+----------+----------+---------+--------+----------+-----------+-------+-----------+-----------+----------+------+-------+------+-------+----------+-----+---+---+-------+-------+-------+\n",
            "+-------+--------+---------------+---------+-------------+----------+---------+-------------+-------------+----------+-------+-------+---------+---------+------------+-----------+--------+------+----------+----------+---------+--------+----------+-----------+-------+-----------+-----------+----------+------+-------+------+-------+----------+-----+---+---+-------+-------+-------+\n",
            "\n"
          ]
        }
      ]
    },
    {
      "cell_type": "code",
      "source": [
        "#Fill missing categorical values with \"Unknown\"\n",
        "for c in df.columns:\n",
        "    df = df.fillna({c: \"Unknown\"})"
      ],
      "metadata": {
        "id": "Qt8TbXnDsbB5"
      },
      "id": "Qt8TbXnDsbB5",
      "execution_count": 32,
      "outputs": []
    },
    {
      "cell_type": "code",
      "source": [
        "#Convert Data types\n",
        "from pyspark.sql.types import IntegerType, DoubleType, DateType\n",
        "\n",
        "df = df.withColumn(\"disc_year\", col(\"disc_year\").cast(IntegerType()))\n"
      ],
      "metadata": {
        "id": "qlWjxdV2tJBv"
      },
      "id": "qlWjxdV2tJBv",
      "execution_count": 33,
      "outputs": []
    },
    {
      "cell_type": "code",
      "source": [
        "#Remove Duplicates\n",
        "df = df.dropDuplicates()\n",
        "df.show(2)"
      ],
      "metadata": {
        "id": "FujZrpH2tOCU",
        "colab": {
          "base_uri": "https://localhost:8080/"
        },
        "outputId": "2ed40428-3ce9-46da-c1d2-8517a56df8a3"
      },
      "id": "FujZrpH2tOCU",
      "execution_count": 34,
      "outputs": [
        {
          "output_type": "stream",
          "name": "stdout",
          "text": [
            "+-----------+---------+---------------+---------+--------------------+--------------------+----------+-------------+-------------+----------+-------+-------+---------+---------+------------+-----------+--------+------+----------+----------+---------+--------+--------------------+-----------+-------+-----------+-----------+----------+------+-------+------+-------+--------------------+------------+-----------+-----------+-------+-------+-------+\n",
            "|    pl_name| hostname|discoverymethod|disc_year|       disc_facility|          pl_refname| pl_orbper|pl_orbpererr1|pl_orbpererr2|pl_orbsmax|pl_rade|pl_radj|pl_bmasse|pl_bmassj|pl_bmassprov|pl_orbeccen|pl_insol|pl_eqt|pl_eqterr1|pl_eqterr2|pl_eqtlim|ttv_flag|          st_refname|st_spectype|st_teff|st_tefferr1|st_tefferr2|st_tefflim|st_rad|st_mass|st_met|st_logg|          sy_refname|       rastr|         ra|        dec|sy_dist|sy_vmag|sy_kmag|\n",
            "+-----------+---------+---------------+---------+--------------------+--------------------+----------+-------------+-------------+----------+-------+-------+---------+---------+------------+-----------+--------+------+----------+----------+---------+--------+--------------------+-----------+-------+-----------+-----------+----------+------+-------+------+-------+--------------------+------------+-----------+-----------+-------+-------+-------+\n",
            "|  GJ 1132 b|  GJ 1132|        Transit|     2015|Cerro Tololo Inte...|<a refstr=XUE_ET_...|1.62892911|       2.9E-7|      -3.0E-7|    0.0157|  1.192|  0.106|  1.83705|  0.00578|        Mass|     0.0118|    19.3|   584|        11|        -8|        0|       0|<a refstr=XUE_ET_...|    Unknown| 3229.0|       78.0|      -62.0|         0|  0.22|   0.19| -0.17|   5.04|<a refstr=STASSUN...|10h14m50.18s|153.7090696|-47.1549358| 12.613|  13.68|  8.322|\n",
            "|HD 136352 b|HD 136352|Radial Velocity|     2019|La Silla Observatory|<a refstr=DELREZ_...|  11.57797|       8.0E-5|      -1.3E-4|    0.0964|  1.664|  0.148|     4.72|  0.01485|        Mass|        0.0|   111.6|   905|        14|       -14|        0|       0|<a refstr=DELREZ_...|    Unknown| 5664.0|       61.0|      -61.0|         0|  1.06|   0.87| -0.24|   4.39|<a refstr=STASSUN...|15h21m45.63s|230.4401147|-48.3188174| 14.682|   5.65|  4.159|\n",
            "+-----------+---------+---------------+---------+--------------------+--------------------+----------+-------------+-------------+----------+-------+-------+---------+---------+------------+-----------+--------+------+----------+----------+---------+--------+--------------------+-----------+-------+-----------+-----------+----------+------+-------+------+-------+--------------------+------------+-----------+-----------+-------+-------+-------+\n",
            "only showing top 2 rows\n",
            "\n"
          ]
        }
      ]
    },
    {
      "cell_type": "code",
      "source": [
        "# Define columns to check for outliers\n",
        "outlier_cols = [\"pl_rade\", \"pl_bmasse\", \"st_teff\"]\n",
        "\n",
        "# Remove outliers based on the 1st and 99th percentile\n",
        "for col_name in outlier_cols:\n",
        "    lower, upper = df.approxQuantile(col_name, [0.01, 0.99], 0)  # Compute quantiles\n",
        "    df = df.filter((col(col_name) >= lower) & (col(col_name) <= upper))\n",
        "\n",
        "df.show(5)"
      ],
      "metadata": {
        "colab": {
          "base_uri": "https://localhost:8080/"
        },
        "id": "RmlHRhfVtqdD",
        "outputId": "b6cdabac-d0d6-4307-fe84-5b84a1929b39"
      },
      "id": "RmlHRhfVtqdD",
      "execution_count": 35,
      "outputs": [
        {
          "output_type": "stream",
          "name": "stdout",
          "text": [
            "+-----------+---------+---------------+---------+--------------------+--------------------+---------+-------------+-------------+----------+-------+-------+----------+---------+------------+-----------+--------+------+----------+----------+---------+--------+--------------------+-----------+-------+-----------+-----------+----------+------+-------+------+-------+--------------------+------------+-----------+-----------+-------+-------+-------+\n",
            "|    pl_name| hostname|discoverymethod|disc_year|       disc_facility|          pl_refname|pl_orbper|pl_orbpererr1|pl_orbpererr2|pl_orbsmax|pl_rade|pl_radj| pl_bmasse|pl_bmassj|pl_bmassprov|pl_orbeccen|pl_insol|pl_eqt|pl_eqterr1|pl_eqterr2|pl_eqtlim|ttv_flag|          st_refname|st_spectype|st_teff|st_tefferr1|st_tefferr2|st_tefflim|st_rad|st_mass|st_met|st_logg|          sy_refname|       rastr|         ra|        dec|sy_dist|sy_vmag|sy_kmag|\n",
            "+-----------+---------+---------------+---------+--------------------+--------------------+---------+-------------+-------------+----------+-------+-------+----------+---------+------------+-----------+--------+------+----------+----------+---------+--------+--------------------+-----------+-------+-----------+-----------+----------+------+-------+------+-------+--------------------+------------+-----------+-----------+-------+-------+-------+\n",
            "|HD 136352 b|HD 136352|Radial Velocity|     2019|La Silla Observatory|<a refstr=DELREZ_...| 11.57797|       8.0E-5|      -1.3E-4|    0.0964|  1.664|  0.148|      4.72|  0.01485|        Mass|        0.0|   111.6|   905|        14|       -14|        0|       0|<a refstr=DELREZ_...|    Unknown| 5664.0|       61.0|      -61.0|         0|  1.06|   0.87| -0.24|   4.39|<a refstr=STASSUN...|15h21m45.63s|230.4401147|-48.3188174| 14.682|   5.65|  4.159|\n",
            "|   K2-292 b|   K2-292|        Transit|     2019|                  K2|<a refstr=LUQUE_E...|  16.9841|       8.0E-4|      -8.0E-4|      0.13|   2.63|  0.235|      24.5|  0.07709|        Mass|       0.04|    67.0|   795|        33|       -28|        0|       0|<a refstr=LUQUE_E...|       G3 V| 5725.0|       65.0|      -65.0|         0|  1.09|    1.0|  0.07|   4.33|<a refstr=STASSUN...|13h41m30.21s|205.3758786| -9.9460704|114.293|  9.885|  8.407|\n",
            "| TOI-1221 b| TOI-1221|        Transit|     2023|Transiting Exopla...|<a refstr=MANN_ET...| 91.68278|       3.2E-4|      -4.1E-4|     0.387|   2.91|   0.26|1112.39942|      3.5|        Mass|       0.21|    6.06|   440|        60|       -60|        0|       1|<a refstr=MANN_ET...|    Unknown| 5592.0|       50.0|      -50.0|         0|  1.03|   0.93|  0.06|   4.38|<a refstr=STASSUN...|07h11m41.05s|107.9210254|-65.5088568|138.411| 10.494|  9.036|\n",
            "|     K2-3 d|     K2-3|        Transit|     2015|                  K2|<a refstr=DIAMOND...| 44.55603|       1.3E-4|      -1.2E-4|    0.2014|  1.458|   0.13|       2.2|  0.00692|        Mass|      0.091|    1.44|   305|         3|        -3|        0|       0|<a refstr=DIAMOND...|        M V| 3844.0|       61.0|      -63.0|         0|  0.55|   0.55|-0.157|    4.7|<a refstr=STASSUN...|11h29m20.49s|172.3353708| -1.4551364|44.0727| 12.168|  8.561|\n",
            "|  TOI-157 b|  TOI-157|        Transit|     2020|Transiting Exopla...|<a refstr=NIELSEN...|2.0845435|       2.3E-6|      -2.3E-6|   0.03138| 14.415|  1.286|  375.0394|     1.18|        Mass|        0.0|  1062.0|  1588|        21|       -20|        0|       0|<a refstr=NIELSEN...|      G9 IV| 5404.0|       70.0|      -67.0|         0|  1.17|   0.95|  0.24|   4.28|<a refstr=STASSUN...|04h54m48.35s| 73.7014398|-76.6806061|355.683| 12.725| 10.892|\n",
            "+-----------+---------+---------------+---------+--------------------+--------------------+---------+-------------+-------------+----------+-------+-------+----------+---------+------------+-----------+--------+------+----------+----------+---------+--------+--------------------+-----------+-------+-----------+-----------+----------+------+-------+------+-------+--------------------+------------+-----------+-----------+-------+-------+-------+\n",
            "only showing top 5 rows\n",
            "\n"
          ]
        }
      ]
    },
    {
      "cell_type": "code",
      "source": [
        "# count columns\n",
        "column_count = len(df.columns)\n",
        "print(\"Number of columns:\", column_count)\n"
      ],
      "metadata": {
        "colab": {
          "base_uri": "https://localhost:8080/"
        },
        "id": "os7V8FvaFgvR",
        "outputId": "aa1727af-f10c-4926-a55a-5374ac8c075a"
      },
      "id": "os7V8FvaFgvR",
      "execution_count": 38,
      "outputs": [
        {
          "output_type": "stream",
          "name": "stdout",
          "text": [
            "Number of columns: 39\n"
          ]
        }
      ]
    },
    {
      "cell_type": "code",
      "source": [
        "#Check the Data Types for each Column in a DataFrame\n",
        "df_types = spark.createDataFrame(df.dtypes, [\"Column\", \"DataType\"])\n",
        "df_types.show(truncate=False)"
      ],
      "metadata": {
        "colab": {
          "base_uri": "https://localhost:8080/"
        },
        "id": "XuavU06twAOe",
        "outputId": "67dbc2a0-417f-46af-8d51-831bb30a69d1"
      },
      "id": "XuavU06twAOe",
      "execution_count": 39,
      "outputs": [
        {
          "output_type": "stream",
          "name": "stdout",
          "text": [
            "+---------------+--------+\n",
            "|Column         |DataType|\n",
            "+---------------+--------+\n",
            "|pl_name        |string  |\n",
            "|hostname       |string  |\n",
            "|discoverymethod|string  |\n",
            "|disc_year      |int     |\n",
            "|disc_facility  |string  |\n",
            "|pl_refname     |string  |\n",
            "|pl_orbper      |double  |\n",
            "|pl_orbpererr1  |double  |\n",
            "|pl_orbpererr2  |double  |\n",
            "|pl_orbsmax     |double  |\n",
            "|pl_rade        |double  |\n",
            "|pl_radj        |double  |\n",
            "|pl_bmasse      |double  |\n",
            "|pl_bmassj      |double  |\n",
            "|pl_bmassprov   |string  |\n",
            "|pl_orbeccen    |double  |\n",
            "|pl_insol       |double  |\n",
            "|pl_eqt         |int     |\n",
            "|pl_eqterr1     |int     |\n",
            "|pl_eqterr2     |int     |\n",
            "+---------------+--------+\n",
            "only showing top 20 rows\n",
            "\n"
          ]
        }
      ]
    },
    {
      "cell_type": "code",
      "source": [
        "#disc_year should be a proper Date not int\n",
        "from pyspark.sql.functions import to_date, concat_ws, lit\n",
        "\n",
        "# Convert disc_year (int) to a proper date format\n",
        "df = df.withColumn(\"disc_date\", to_date(concat_ws(\"-\", col(\"disc_year\").cast(\"string\"), lit(\"01\"), lit(\"01\")), \"yyyy-MM-dd\"))\n",
        "\n",
        "# Verify the updated schema\n",
        "df.select(\"disc_year\", \"disc_date\").show(5)\n",
        "df.printSchema()"
      ],
      "metadata": {
        "colab": {
          "base_uri": "https://localhost:8080/"
        },
        "id": "9aH-e1m_wAGr",
        "outputId": "8e6e9a79-e646-4340-f70a-8bb16e0bf703"
      },
      "id": "9aH-e1m_wAGr",
      "execution_count": 40,
      "outputs": [
        {
          "output_type": "stream",
          "name": "stdout",
          "text": [
            "+---------+----------+\n",
            "|disc_year| disc_date|\n",
            "+---------+----------+\n",
            "|     2019|2019-01-01|\n",
            "|     2019|2019-01-01|\n",
            "|     2023|2023-01-01|\n",
            "|     2015|2015-01-01|\n",
            "|     2020|2020-01-01|\n",
            "+---------+----------+\n",
            "only showing top 5 rows\n",
            "\n",
            "root\n",
            " |-- pl_name: string (nullable = false)\n",
            " |-- hostname: string (nullable = false)\n",
            " |-- discoverymethod: string (nullable = false)\n",
            " |-- disc_year: integer (nullable = true)\n",
            " |-- disc_facility: string (nullable = false)\n",
            " |-- pl_refname: string (nullable = false)\n",
            " |-- pl_orbper: double (nullable = true)\n",
            " |-- pl_orbpererr1: double (nullable = true)\n",
            " |-- pl_orbpererr2: double (nullable = true)\n",
            " |-- pl_orbsmax: double (nullable = true)\n",
            " |-- pl_rade: double (nullable = true)\n",
            " |-- pl_radj: double (nullable = true)\n",
            " |-- pl_bmasse: double (nullable = true)\n",
            " |-- pl_bmassj: double (nullable = true)\n",
            " |-- pl_bmassprov: string (nullable = false)\n",
            " |-- pl_orbeccen: double (nullable = true)\n",
            " |-- pl_insol: double (nullable = true)\n",
            " |-- pl_eqt: integer (nullable = true)\n",
            " |-- pl_eqterr1: integer (nullable = true)\n",
            " |-- pl_eqterr2: integer (nullable = true)\n",
            " |-- pl_eqtlim: integer (nullable = true)\n",
            " |-- ttv_flag: integer (nullable = true)\n",
            " |-- st_refname: string (nullable = false)\n",
            " |-- st_spectype: string (nullable = false)\n",
            " |-- st_teff: double (nullable = true)\n",
            " |-- st_tefferr1: double (nullable = true)\n",
            " |-- st_tefferr2: double (nullable = true)\n",
            " |-- st_tefflim: integer (nullable = true)\n",
            " |-- st_rad: double (nullable = true)\n",
            " |-- st_mass: double (nullable = true)\n",
            " |-- st_met: double (nullable = true)\n",
            " |-- st_logg: double (nullable = true)\n",
            " |-- sy_refname: string (nullable = false)\n",
            " |-- rastr: string (nullable = false)\n",
            " |-- ra: double (nullable = true)\n",
            " |-- dec: double (nullable = true)\n",
            " |-- sy_dist: double (nullable = true)\n",
            " |-- sy_vmag: double (nullable = true)\n",
            " |-- sy_kmag: double (nullable = true)\n",
            " |-- disc_date: date (nullable = true)\n",
            "\n"
          ]
        }
      ]
    },
    {
      "cell_type": "code",
      "source": [
        "# Count null values per column\n",
        "missing_counts = df.select([count(when(col(c).isNull(), 1)).alias(c) for c in df.columns])\n",
        "missing_counts.show()\n"
      ],
      "metadata": {
        "colab": {
          "base_uri": "https://localhost:8080/"
        },
        "id": "3kFIeqbhwN6G",
        "outputId": "d1c00fce-5e5a-47fe-e9b4-cf6547899454"
      },
      "id": "3kFIeqbhwN6G",
      "execution_count": 43,
      "outputs": [
        {
          "output_type": "stream",
          "name": "stdout",
          "text": [
            "+-------+--------+---------------+---------+-------------+----------+---------+-------------+-------------+----------+-------+-------+---------+---------+------------+-----------+------+----------+----------+---------+--------+----------+-----------+-------+-----------+-----------+----------+------+-------+------+-------+----------+-----+---+---+-------+-------+-------+---------+\n",
            "|pl_name|hostname|discoverymethod|disc_year|disc_facility|pl_refname|pl_orbper|pl_orbpererr1|pl_orbpererr2|pl_orbsmax|pl_rade|pl_radj|pl_bmasse|pl_bmassj|pl_bmassprov|pl_orbeccen|pl_eqt|pl_eqterr1|pl_eqterr2|pl_eqtlim|ttv_flag|st_refname|st_spectype|st_teff|st_tefferr1|st_tefferr2|st_tefflim|st_rad|st_mass|st_met|st_logg|sy_refname|rastr| ra|dec|sy_dist|sy_vmag|sy_kmag|disc_date|\n",
            "+-------+--------+---------------+---------+-------------+----------+---------+-------------+-------------+----------+-------+-------+---------+---------+------------+-----------+------+----------+----------+---------+--------+----------+-----------+-------+-----------+-----------+----------+------+-------+------+-------+----------+-----+---+---+-------+-------+-------+---------+\n",
            "|      0|       0|              0|        0|            0|         0|        0|           51|           51|       182|      0|      0|        0|        0|           0|        159|   277|       295|       295|      277|       0|         0|          0|      0|          8|         25|         0|     3|      3|    77|    123|         0|    0|  0|  0|      6|      0|      3|        0|\n",
            "+-------+--------+---------------+---------+-------------+----------+---------+-------------+-------------+----------+-------+-------+---------+---------+------------+-----------+------+----------+----------+---------+--------+----------+-----------+-------+-----------+-----------+----------+------+-------+------+-------+----------+-----+---+---+-------+-------+-------+---------+\n",
            "\n"
          ]
        }
      ]
    },
    {
      "cell_type": "code",
      "source": [
        "# Get columns where more than 50% values are missing\n",
        "cols_to_drop = [c for c in df.columns if df.select(count(when(col(c).isNull(), 1)) / total_rows).collect()[0][0] > 0.5]\n",
        "\n",
        "# Drop those columns\n",
        "df = df.drop(*cols_to_drop)\n",
        "\n",
        "df.show(5)"
      ],
      "metadata": {
        "colab": {
          "base_uri": "https://localhost:8080/"
        },
        "id": "1mUwl2yeypNM",
        "outputId": "c2c97a73-877f-4801-af3f-1b7242ac6d91"
      },
      "id": "1mUwl2yeypNM",
      "execution_count": 44,
      "outputs": [
        {
          "output_type": "stream",
          "name": "stdout",
          "text": [
            "+-----------+---------+---------------+---------+--------------------+--------------------+---------+-------------+-------------+----------+-------+-------+----------+---------+------------+-----------+------+----------+----------+---------+--------+--------------------+-----------+-------+-----------+-----------+----------+------+-------+------+-------+--------------------+------------+-----------+-----------+-------+-------+-------+----------+\n",
            "|    pl_name| hostname|discoverymethod|disc_year|       disc_facility|          pl_refname|pl_orbper|pl_orbpererr1|pl_orbpererr2|pl_orbsmax|pl_rade|pl_radj| pl_bmasse|pl_bmassj|pl_bmassprov|pl_orbeccen|pl_eqt|pl_eqterr1|pl_eqterr2|pl_eqtlim|ttv_flag|          st_refname|st_spectype|st_teff|st_tefferr1|st_tefferr2|st_tefflim|st_rad|st_mass|st_met|st_logg|          sy_refname|       rastr|         ra|        dec|sy_dist|sy_vmag|sy_kmag| disc_date|\n",
            "+-----------+---------+---------------+---------+--------------------+--------------------+---------+-------------+-------------+----------+-------+-------+----------+---------+------------+-----------+------+----------+----------+---------+--------+--------------------+-----------+-------+-----------+-----------+----------+------+-------+------+-------+--------------------+------------+-----------+-----------+-------+-------+-------+----------+\n",
            "|HD 136352 b|HD 136352|Radial Velocity|     2019|La Silla Observatory|<a refstr=DELREZ_...| 11.57797|       8.0E-5|      -1.3E-4|    0.0964|  1.664|  0.148|      4.72|  0.01485|        Mass|        0.0|   905|        14|       -14|        0|       0|<a refstr=DELREZ_...|    Unknown| 5664.0|       61.0|      -61.0|         0|  1.06|   0.87| -0.24|   4.39|<a refstr=STASSUN...|15h21m45.63s|230.4401147|-48.3188174| 14.682|   5.65|  4.159|2019-01-01|\n",
            "|   K2-292 b|   K2-292|        Transit|     2019|                  K2|<a refstr=LUQUE_E...|  16.9841|       8.0E-4|      -8.0E-4|      0.13|   2.63|  0.235|      24.5|  0.07709|        Mass|       0.04|   795|        33|       -28|        0|       0|<a refstr=LUQUE_E...|       G3 V| 5725.0|       65.0|      -65.0|         0|  1.09|    1.0|  0.07|   4.33|<a refstr=STASSUN...|13h41m30.21s|205.3758786| -9.9460704|114.293|  9.885|  8.407|2019-01-01|\n",
            "| TOI-1221 b| TOI-1221|        Transit|     2023|Transiting Exopla...|<a refstr=MANN_ET...| 91.68278|       3.2E-4|      -4.1E-4|     0.387|   2.91|   0.26|1112.39942|      3.5|        Mass|       0.21|   440|        60|       -60|        0|       1|<a refstr=MANN_ET...|    Unknown| 5592.0|       50.0|      -50.0|         0|  1.03|   0.93|  0.06|   4.38|<a refstr=STASSUN...|07h11m41.05s|107.9210254|-65.5088568|138.411| 10.494|  9.036|2023-01-01|\n",
            "|     K2-3 d|     K2-3|        Transit|     2015|                  K2|<a refstr=DIAMOND...| 44.55603|       1.3E-4|      -1.2E-4|    0.2014|  1.458|   0.13|       2.2|  0.00692|        Mass|      0.091|   305|         3|        -3|        0|       0|<a refstr=DIAMOND...|        M V| 3844.0|       61.0|      -63.0|         0|  0.55|   0.55|-0.157|    4.7|<a refstr=STASSUN...|11h29m20.49s|172.3353708| -1.4551364|44.0727| 12.168|  8.561|2015-01-01|\n",
            "|  TOI-157 b|  TOI-157|        Transit|     2020|Transiting Exopla...|<a refstr=NIELSEN...|2.0845435|       2.3E-6|      -2.3E-6|   0.03138| 14.415|  1.286|  375.0394|     1.18|        Mass|        0.0|  1588|        21|       -20|        0|       0|<a refstr=NIELSEN...|      G9 IV| 5404.0|       70.0|      -67.0|         0|  1.17|   0.95|  0.24|   4.28|<a refstr=STASSUN...|04h54m48.35s| 73.7014398|-76.6806061|355.683| 12.725| 10.892|2020-01-01|\n",
            "+-----------+---------+---------------+---------+--------------------+--------------------+---------+-------------+-------------+----------+-------+-------+----------+---------+------------+-----------+------+----------+----------+---------+--------+--------------------+-----------+-------+-----------+-----------+----------+------+-------+------+-------+--------------------+------------+-----------+-----------+-------+-------+-------+----------+\n",
            "only showing top 5 rows\n",
            "\n"
          ]
        }
      ]
    },
    {
      "cell_type": "code",
      "source": [
        "column_count = len(df.columns)\n",
        "print(\"Number of columns:\", column_count)"
      ],
      "metadata": {
        "colab": {
          "base_uri": "https://localhost:8080/"
        },
        "id": "5SRPZv0YHiJR",
        "outputId": "8facc1a4-50a7-435a-8f64-bacb5e3e2dc4"
      },
      "id": "5SRPZv0YHiJR",
      "execution_count": 45,
      "outputs": [
        {
          "output_type": "stream",
          "name": "stdout",
          "text": [
            "Number of columns: 39\n"
          ]
        }
      ]
    },
    {
      "cell_type": "code",
      "source": [
        "#Drop Rows where key Columns are missing\n",
        "df = df.dropna(subset=[\"pl_name\", \"hostname\"])\n",
        "df.show(5)"
      ],
      "metadata": {
        "colab": {
          "base_uri": "https://localhost:8080/"
        },
        "id": "DO2bC1xMypKX",
        "outputId": "a29335d1-3e7a-4532-efd0-5202a5983b75"
      },
      "id": "DO2bC1xMypKX",
      "execution_count": 46,
      "outputs": [
        {
          "output_type": "stream",
          "name": "stdout",
          "text": [
            "+-----------+---------+---------------+---------+--------------------+--------------------+---------+-------------+-------------+----------+-------+-------+----------+---------+------------+-----------+------+----------+----------+---------+--------+--------------------+-----------+-------+-----------+-----------+----------+------+-------+------+-------+--------------------+------------+-----------+-----------+-------+-------+-------+----------+\n",
            "|    pl_name| hostname|discoverymethod|disc_year|       disc_facility|          pl_refname|pl_orbper|pl_orbpererr1|pl_orbpererr2|pl_orbsmax|pl_rade|pl_radj| pl_bmasse|pl_bmassj|pl_bmassprov|pl_orbeccen|pl_eqt|pl_eqterr1|pl_eqterr2|pl_eqtlim|ttv_flag|          st_refname|st_spectype|st_teff|st_tefferr1|st_tefferr2|st_tefflim|st_rad|st_mass|st_met|st_logg|          sy_refname|       rastr|         ra|        dec|sy_dist|sy_vmag|sy_kmag| disc_date|\n",
            "+-----------+---------+---------------+---------+--------------------+--------------------+---------+-------------+-------------+----------+-------+-------+----------+---------+------------+-----------+------+----------+----------+---------+--------+--------------------+-----------+-------+-----------+-----------+----------+------+-------+------+-------+--------------------+------------+-----------+-----------+-------+-------+-------+----------+\n",
            "|HD 136352 b|HD 136352|Radial Velocity|     2019|La Silla Observatory|<a refstr=DELREZ_...| 11.57797|       8.0E-5|      -1.3E-4|    0.0964|  1.664|  0.148|      4.72|  0.01485|        Mass|        0.0|   905|        14|       -14|        0|       0|<a refstr=DELREZ_...|    Unknown| 5664.0|       61.0|      -61.0|         0|  1.06|   0.87| -0.24|   4.39|<a refstr=STASSUN...|15h21m45.63s|230.4401147|-48.3188174| 14.682|   5.65|  4.159|2019-01-01|\n",
            "|   K2-292 b|   K2-292|        Transit|     2019|                  K2|<a refstr=LUQUE_E...|  16.9841|       8.0E-4|      -8.0E-4|      0.13|   2.63|  0.235|      24.5|  0.07709|        Mass|       0.04|   795|        33|       -28|        0|       0|<a refstr=LUQUE_E...|       G3 V| 5725.0|       65.0|      -65.0|         0|  1.09|    1.0|  0.07|   4.33|<a refstr=STASSUN...|13h41m30.21s|205.3758786| -9.9460704|114.293|  9.885|  8.407|2019-01-01|\n",
            "| TOI-1221 b| TOI-1221|        Transit|     2023|Transiting Exopla...|<a refstr=MANN_ET...| 91.68278|       3.2E-4|      -4.1E-4|     0.387|   2.91|   0.26|1112.39942|      3.5|        Mass|       0.21|   440|        60|       -60|        0|       1|<a refstr=MANN_ET...|    Unknown| 5592.0|       50.0|      -50.0|         0|  1.03|   0.93|  0.06|   4.38|<a refstr=STASSUN...|07h11m41.05s|107.9210254|-65.5088568|138.411| 10.494|  9.036|2023-01-01|\n",
            "|     K2-3 d|     K2-3|        Transit|     2015|                  K2|<a refstr=DIAMOND...| 44.55603|       1.3E-4|      -1.2E-4|    0.2014|  1.458|   0.13|       2.2|  0.00692|        Mass|      0.091|   305|         3|        -3|        0|       0|<a refstr=DIAMOND...|        M V| 3844.0|       61.0|      -63.0|         0|  0.55|   0.55|-0.157|    4.7|<a refstr=STASSUN...|11h29m20.49s|172.3353708| -1.4551364|44.0727| 12.168|  8.561|2015-01-01|\n",
            "|  TOI-157 b|  TOI-157|        Transit|     2020|Transiting Exopla...|<a refstr=NIELSEN...|2.0845435|       2.3E-6|      -2.3E-6|   0.03138| 14.415|  1.286|  375.0394|     1.18|        Mass|        0.0|  1588|        21|       -20|        0|       0|<a refstr=NIELSEN...|      G9 IV| 5404.0|       70.0|      -67.0|         0|  1.17|   0.95|  0.24|   4.28|<a refstr=STASSUN...|04h54m48.35s| 73.7014398|-76.6806061|355.683| 12.725| 10.892|2020-01-01|\n",
            "+-----------+---------+---------------+---------+--------------------+--------------------+---------+-------------+-------------+----------+-------+-------+----------+---------+------------+-----------+------+----------+----------+---------+--------+--------------------+-----------+-------+-----------+-----------+----------+------+-------+------+-------+--------------------+------------+-----------+-----------+-------+-------+-------+----------+\n",
            "only showing top 5 rows\n",
            "\n"
          ]
        }
      ]
    },
    {
      "cell_type": "code",
      "source": [
        "# Fill missing numerical values with Mean\n",
        "from pyspark.sql.functions import mean\n",
        "\n",
        "num_cols = [c for c, dtype in df.dtypes if dtype in (\"int\", \"double\")]\n",
        "\n",
        "for c in num_cols:\n",
        "    mean_value = df.select(mean(col(c))).collect()[0][0]\n",
        "    if mean_value is not None:\n",
        "        df = df.fillna({c: mean_value})\n",
        "\n",
        "df.show(5)"
      ],
      "metadata": {
        "colab": {
          "base_uri": "https://localhost:8080/"
        },
        "id": "NWa-FfByypHh",
        "outputId": "b9ad66c7-106f-407a-ee21-c0613ca41504"
      },
      "id": "NWa-FfByypHh",
      "execution_count": 47,
      "outputs": [
        {
          "output_type": "stream",
          "name": "stdout",
          "text": [
            "+-----------+---------+---------------+---------+--------------------+--------------------+---------+-------------+-------------+----------+-------+-------+----------+---------+------------+-----------+------+----------+----------+---------+--------+--------------------+-----------+-------+-----------+-----------+----------+------+-------+------+-------+--------------------+------------+-----------+-----------+-------+-------+-------+----------+\n",
            "|    pl_name| hostname|discoverymethod|disc_year|       disc_facility|          pl_refname|pl_orbper|pl_orbpererr1|pl_orbpererr2|pl_orbsmax|pl_rade|pl_radj| pl_bmasse|pl_bmassj|pl_bmassprov|pl_orbeccen|pl_eqt|pl_eqterr1|pl_eqterr2|pl_eqtlim|ttv_flag|          st_refname|st_spectype|st_teff|st_tefferr1|st_tefferr2|st_tefflim|st_rad|st_mass|st_met|st_logg|          sy_refname|       rastr|         ra|        dec|sy_dist|sy_vmag|sy_kmag| disc_date|\n",
            "+-----------+---------+---------------+---------+--------------------+--------------------+---------+-------------+-------------+----------+-------+-------+----------+---------+------------+-----------+------+----------+----------+---------+--------+--------------------+-----------+-------+-----------+-----------+----------+------+-------+------+-------+--------------------+------------+-----------+-----------+-------+-------+-------+----------+\n",
            "|HD 136352 b|HD 136352|Radial Velocity|     2019|La Silla Observatory|<a refstr=DELREZ_...| 11.57797|       8.0E-5|      -1.3E-4|    0.0964|  1.664|  0.148|      4.72|  0.01485|        Mass|        0.0|   905|        14|       -14|        0|       0|<a refstr=DELREZ_...|    Unknown| 5664.0|       61.0|      -61.0|         0|  1.06|   0.87| -0.24|   4.39|<a refstr=STASSUN...|15h21m45.63s|230.4401147|-48.3188174| 14.682|   5.65|  4.159|2019-01-01|\n",
            "|   K2-292 b|   K2-292|        Transit|     2019|                  K2|<a refstr=LUQUE_E...|  16.9841|       8.0E-4|      -8.0E-4|      0.13|   2.63|  0.235|      24.5|  0.07709|        Mass|       0.04|   795|        33|       -28|        0|       0|<a refstr=LUQUE_E...|       G3 V| 5725.0|       65.0|      -65.0|         0|  1.09|    1.0|  0.07|   4.33|<a refstr=STASSUN...|13h41m30.21s|205.3758786| -9.9460704|114.293|  9.885|  8.407|2019-01-01|\n",
            "| TOI-1221 b| TOI-1221|        Transit|     2023|Transiting Exopla...|<a refstr=MANN_ET...| 91.68278|       3.2E-4|      -4.1E-4|     0.387|   2.91|   0.26|1112.39942|      3.5|        Mass|       0.21|   440|        60|       -60|        0|       1|<a refstr=MANN_ET...|    Unknown| 5592.0|       50.0|      -50.0|         0|  1.03|   0.93|  0.06|   4.38|<a refstr=STASSUN...|07h11m41.05s|107.9210254|-65.5088568|138.411| 10.494|  9.036|2023-01-01|\n",
            "|     K2-3 d|     K2-3|        Transit|     2015|                  K2|<a refstr=DIAMOND...| 44.55603|       1.3E-4|      -1.2E-4|    0.2014|  1.458|   0.13|       2.2|  0.00692|        Mass|      0.091|   305|         3|        -3|        0|       0|<a refstr=DIAMOND...|        M V| 3844.0|       61.0|      -63.0|         0|  0.55|   0.55|-0.157|    4.7|<a refstr=STASSUN...|11h29m20.49s|172.3353708| -1.4551364|44.0727| 12.168|  8.561|2015-01-01|\n",
            "|  TOI-157 b|  TOI-157|        Transit|     2020|Transiting Exopla...|<a refstr=NIELSEN...|2.0845435|       2.3E-6|      -2.3E-6|   0.03138| 14.415|  1.286|  375.0394|     1.18|        Mass|        0.0|  1588|        21|       -20|        0|       0|<a refstr=NIELSEN...|      G9 IV| 5404.0|       70.0|      -67.0|         0|  1.17|   0.95|  0.24|   4.28|<a refstr=STASSUN...|04h54m48.35s| 73.7014398|-76.6806061|355.683| 12.725| 10.892|2020-01-01|\n",
            "+-----------+---------+---------------+---------+--------------------+--------------------+---------+-------------+-------------+----------+-------+-------+----------+---------+------------+-----------+------+----------+----------+---------+--------+--------------------+-----------+-------+-----------+-----------+----------+------+-------+------+-------+--------------------+------------+-----------+-----------+-------+-------+-------+----------+\n",
            "only showing top 5 rows\n",
            "\n"
          ]
        }
      ]
    },
    {
      "cell_type": "code",
      "source": [
        "#count the Rows with any NULL or Empty values\n",
        "df.select(count(when(\n",
        "    col(c).isNull() | (col(c) == \"\"), 1\n",
        ")).alias(\"Rows_with_missing_values\")).show()"
      ],
      "metadata": {
        "colab": {
          "base_uri": "https://localhost:8080/"
        },
        "id": "VD5BmOcfwN2e",
        "outputId": "429b5274-7397-48e0-f2cf-5b95b99960c5"
      },
      "id": "VD5BmOcfwN2e",
      "execution_count": 48,
      "outputs": [
        {
          "output_type": "stream",
          "name": "stdout",
          "text": [
            "+------------------------+\n",
            "|Rows_with_missing_values|\n",
            "+------------------------+\n",
            "|                       0|\n",
            "+------------------------+\n",
            "\n"
          ]
        }
      ]
    },
    {
      "cell_type": "code",
      "source": [
        "# show the Rows that contain NULL or Empty Strings\n",
        "df.filter(\n",
        "    (col(\"pl_name\").isNull()) | (col(\"pl_name\") == \"\")\n",
        ").show()"
      ],
      "metadata": {
        "colab": {
          "base_uri": "https://localhost:8080/"
        },
        "id": "En9u59ggxptr",
        "outputId": "fc89dd05-be2c-45aa-e865-03b8e334c24b"
      },
      "id": "En9u59ggxptr",
      "execution_count": 49,
      "outputs": [
        {
          "output_type": "stream",
          "name": "stdout",
          "text": [
            "+-------+--------+---------------+---------+-------------+----------+---------+-------------+-------------+----------+-------+-------+---------+---------+------------+-----------+------+----------+----------+---------+--------+----------+-----------+-------+-----------+-----------+----------+------+-------+------+-------+----------+-----+---+---+-------+-------+-------+---------+\n",
            "|pl_name|hostname|discoverymethod|disc_year|disc_facility|pl_refname|pl_orbper|pl_orbpererr1|pl_orbpererr2|pl_orbsmax|pl_rade|pl_radj|pl_bmasse|pl_bmassj|pl_bmassprov|pl_orbeccen|pl_eqt|pl_eqterr1|pl_eqterr2|pl_eqtlim|ttv_flag|st_refname|st_spectype|st_teff|st_tefferr1|st_tefferr2|st_tefflim|st_rad|st_mass|st_met|st_logg|sy_refname|rastr| ra|dec|sy_dist|sy_vmag|sy_kmag|disc_date|\n",
            "+-------+--------+---------------+---------+-------------+----------+---------+-------------+-------------+----------+-------+-------+---------+---------+------------+-----------+------+----------+----------+---------+--------+----------+-----------+-------+-----------+-----------+----------+------+-------+------+-------+----------+-----+---+---+-------+-------+-------+---------+\n",
            "+-------+--------+---------------+---------+-------------+----------+---------+-------------+-------------+----------+-------+-------+---------+---------+------------+-----------+------+----------+----------+---------+--------+----------+-----------+-------+-----------+-----------+----------+------+-------+------+-------+----------+-----+---+---+-------+-------+-------+---------+\n",
            "\n"
          ]
        }
      ]
    },
    {
      "cell_type": "code",
      "source": [
        "#Columns Names\n",
        "df.columns"
      ],
      "metadata": {
        "colab": {
          "base_uri": "https://localhost:8080/"
        },
        "id": "D3plU0jt3l2a",
        "outputId": "dc91d2ea-6a29-4405-9a4a-d61cfd70f6c9"
      },
      "id": "D3plU0jt3l2a",
      "execution_count": 50,
      "outputs": [
        {
          "output_type": "execute_result",
          "data": {
            "text/plain": [
              "['pl_name',\n",
              " 'hostname',\n",
              " 'discoverymethod',\n",
              " 'disc_year',\n",
              " 'disc_facility',\n",
              " 'pl_refname',\n",
              " 'pl_orbper',\n",
              " 'pl_orbpererr1',\n",
              " 'pl_orbpererr2',\n",
              " 'pl_orbsmax',\n",
              " 'pl_rade',\n",
              " 'pl_radj',\n",
              " 'pl_bmasse',\n",
              " 'pl_bmassj',\n",
              " 'pl_bmassprov',\n",
              " 'pl_orbeccen',\n",
              " 'pl_eqt',\n",
              " 'pl_eqterr1',\n",
              " 'pl_eqterr2',\n",
              " 'pl_eqtlim',\n",
              " 'ttv_flag',\n",
              " 'st_refname',\n",
              " 'st_spectype',\n",
              " 'st_teff',\n",
              " 'st_tefferr1',\n",
              " 'st_tefferr2',\n",
              " 'st_tefflim',\n",
              " 'st_rad',\n",
              " 'st_mass',\n",
              " 'st_met',\n",
              " 'st_logg',\n",
              " 'sy_refname',\n",
              " 'rastr',\n",
              " 'ra',\n",
              " 'dec',\n",
              " 'sy_dist',\n",
              " 'sy_vmag',\n",
              " 'sy_kmag',\n",
              " 'disc_date']"
            ]
          },
          "metadata": {},
          "execution_count": 50
        }
      ]
    },
    {
      "cell_type": "code",
      "source": [
        "# Rename Columns in PySpark\n",
        "df = df.withColumnRenamed(\"pl_name\", \"Planet_Name\") \\\n",
        "       .withColumnRenamed(\"hostname\", \"Host_Star\") \\\n",
        "       .withColumnRenamed(\"discoverymethod\", \"Discovery_Method\") \\\n",
        "       .withColumnRenamed(\"disc_year\", \"Discovery_Year\") \\\n",
        "       .withColumnRenamed(\"disc_facility\", \"Discovery_Facility\") \\\n",
        "       .withColumnRenamed(\"pl_refname\", \"Reference_Name\") \\\n",
        "       .withColumnRenamed(\"pl_orbper\", \"Orbital_Period_Days\") \\\n",
        "       .withColumnRenamed(\"pl_orbpererr1\", \"Orbital_Period_Error_Upper\") \\\n",
        "       .withColumnRenamed(\"pl_orbpererr2\", \"Orbital_Period_Error_Lower\") \\\n",
        "       .withColumnRenamed(\"pl_orbsmax\", \"Semi_Major_Axis_AU\") \\\n",
        "       .withColumnRenamed(\"pl_rade\", \"Planet_Radius_Earth\") \\\n",
        "       .withColumnRenamed(\"pl_bmasse\", \"Planet_Mass_Earth\") \\\n",
        "       .withColumnRenamed(\"pl_orbeccen\", \"Orbital_Eccentricity\") \\\n",
        "       .withColumnRenamed(\"pl_eqt\", \"Equilibrium_Temperature\") \\\n",
        "       .withColumnRenamed(\"pl_eqterr1\", \"UEB_temp\") \\\n",
        "       .withColumnRenamed(\"pl_eqterr2\", \"LEB_temp\") \\\n",
        "       .withColumnRenamed(\"st_teff\", \"Star_Temperature_K\") \\\n",
        "       .withColumnRenamed(\"st_tefferr1\", \"Star_UEBTemp\") \\\n",
        "       .withColumnRenamed(\"st_tefferr1\", \"Star_LEBTemp\") \\\n",
        "       .withColumnRenamed(\"st_rad\", \"Star_Radius_Solar\") \\\n",
        "       .withColumnRenamed(\"st_mass\", \"Star_Mass_Solar\") \\\n",
        "       .withColumnRenamed(\"st_met\", \"Star_Metallicity\") \\\n",
        "       .withColumnRenamed(\"st_logg\", \"Star_Surface_Gravity\") \\\n",
        "       .withColumnRenamed(\"sy_dist\", \"System_Distance_PC\") \\\n",
        "       .withColumnRenamed(\"sy_vmag\", \"System_Visual_Magnitude\") \\\n",
        "       .withColumnRenamed(\"sy_kmag\", \"System_Infrared_Magnitude\") \\\n",
        "       .withColumnRenamed(\"disc_date\", \"Discovery_Date\")"
      ],
      "metadata": {
        "id": "HoMCeOPN3lyy"
      },
      "id": "HoMCeOPN3lyy",
      "execution_count": 51,
      "outputs": []
    },
    {
      "cell_type": "code",
      "source": [
        "#verify Renamed Columns\n",
        "df.show()"
      ],
      "metadata": {
        "colab": {
          "base_uri": "https://localhost:8080/"
        },
        "id": "aSqDfZfx3lre",
        "outputId": "2ccb7be2-02d2-4a5a-a715-cd700429b265"
      },
      "id": "aSqDfZfx3lre",
      "execution_count": 52,
      "outputs": [
        {
          "output_type": "stream",
          "name": "stdout",
          "text": [
            "+------------+----------+----------------+--------------+--------------------+--------------------+-------------------+--------------------------+--------------------------+------------------+-------------------+-------+-----------------+---------+------------+--------------------+-----------------------+--------+--------+---------+--------+--------------------+-----------+------------------+------------+-----------+----------+-----------------+---------------+----------------+--------------------+--------------------+------------+-----------+-----------+------------------+-----------------------+-------------------------+--------------+\n",
            "| Planet_Name| Host_Star|Discovery_Method|Discovery_Year|  Discovery_Facility|      Reference_Name|Orbital_Period_Days|Orbital_Period_Error_Upper|Orbital_Period_Error_Lower|Semi_Major_Axis_AU|Planet_Radius_Earth|pl_radj|Planet_Mass_Earth|pl_bmassj|pl_bmassprov|Orbital_Eccentricity|Equilibrium_Temperature|UEB_temp|LEB_temp|pl_eqtlim|ttv_flag|          st_refname|st_spectype|Star_Temperature_K|Star_UEBTemp|st_tefferr2|st_tefflim|Star_Radius_Solar|Star_Mass_Solar|Star_Metallicity|Star_Surface_Gravity|          sy_refname|       rastr|         ra|        dec|System_Distance_PC|System_Visual_Magnitude|System_Infrared_Magnitude|Discovery_Date|\n",
            "+------------+----------+----------------+--------------+--------------------+--------------------+-------------------+--------------------------+--------------------------+------------------+-------------------+-------+-----------------+---------+------------+--------------------+-----------------------+--------+--------+---------+--------+--------------------+-----------+------------------+------------+-----------+----------+-----------------+---------------+----------------+--------------------+--------------------+------------+-----------+-----------+------------------+-----------------------+-------------------------+--------------+\n",
            "| HD 136352 b| HD 136352| Radial Velocity|          2019|La Silla Observatory|<a refstr=DELREZ_...|           11.57797|                    8.0E-5|                   -1.3E-4|            0.0964|              1.664|  0.148|             4.72|  0.01485|        Mass|                 0.0|                    905|      14|     -14|        0|       0|<a refstr=DELREZ_...|    Unknown|            5664.0|        61.0|      -61.0|         0|             1.06|           0.87|           -0.24|                4.39|<a refstr=STASSUN...|15h21m45.63s|230.4401147|-48.3188174|            14.682|                   5.65|                    4.159|    2019-01-01|\n",
            "|    K2-292 b|    K2-292|         Transit|          2019|                  K2|<a refstr=LUQUE_E...|            16.9841|                    8.0E-4|                   -8.0E-4|              0.13|               2.63|  0.235|             24.5|  0.07709|        Mass|                0.04|                    795|      33|     -28|        0|       0|<a refstr=LUQUE_E...|       G3 V|            5725.0|        65.0|      -65.0|         0|             1.09|            1.0|            0.07|                4.33|<a refstr=STASSUN...|13h41m30.21s|205.3758786| -9.9460704|           114.293|                  9.885|                    8.407|    2019-01-01|\n",
            "|  TOI-1221 b|  TOI-1221|         Transit|          2023|Transiting Exopla...|<a refstr=MANN_ET...|           91.68278|                    3.2E-4|                   -4.1E-4|             0.387|               2.91|   0.26|       1112.39942|      3.5|        Mass|                0.21|                    440|      60|     -60|        0|       1|<a refstr=MANN_ET...|    Unknown|            5592.0|        50.0|      -50.0|         0|             1.03|           0.93|            0.06|                4.38|<a refstr=STASSUN...|07h11m41.05s|107.9210254|-65.5088568|           138.411|                 10.494|                    9.036|    2023-01-01|\n",
            "|      K2-3 d|      K2-3|         Transit|          2015|                  K2|<a refstr=DIAMOND...|           44.55603|                    1.3E-4|                   -1.2E-4|            0.2014|              1.458|   0.13|              2.2|  0.00692|        Mass|               0.091|                    305|       3|      -3|        0|       0|<a refstr=DIAMOND...|        M V|            3844.0|        61.0|      -63.0|         0|             0.55|           0.55|          -0.157|                 4.7|<a refstr=STASSUN...|11h29m20.49s|172.3353708| -1.4551364|           44.0727|                 12.168|                    8.561|    2015-01-01|\n",
            "|   TOI-157 b|   TOI-157|         Transit|          2020|Transiting Exopla...|<a refstr=NIELSEN...|          2.0845435|                    2.3E-6|                   -2.3E-6|           0.03138|             14.415|  1.286|         375.0394|     1.18|        Mass|                 0.0|                   1588|      21|     -20|        0|       0|<a refstr=NIELSEN...|      G9 IV|            5404.0|        70.0|      -67.0|         0|             1.17|           0.95|            0.24|                4.28|<a refstr=STASSUN...|04h54m48.35s| 73.7014398|-76.6806061|           355.683|                 12.725|                   10.892|    2020-01-01|\n",
            "| HD 260655 c| HD 260655|         Transit|          2022|Transiting Exopla...|<a refstr=LUQUE_E...|            5.70588|                    7.0E-5|                   -7.0E-5|           0.04749|              1.533|  0.137|             3.09|  0.00972|        Mass|               0.038|                    557|       3|      -3|        0|       0|<a refstr=LUQUE_E...|       M0 V|            3803.0|        10.0|      -10.0|         0|             0.44|           0.44|           -0.43|                 5.2|<a refstr=STASSUN...|06h37m09.97s| 99.2915429| 17.5662696|           10.0055|                   9.63|                    5.862|    2022-01-01|\n",
            "|  TOI-2134 b|  TOI-2134|         Transit|          2023|Transiting Exopla...|<a refstr=RESCIGN...|          9.2292005|                    6.3E-6|                   -6.3E-6|             0.078|               2.69|   0.24|             9.13|  0.02873|        Mass|                0.06|                    666|       8|      -8|        0|       0|<a refstr=RESCIGN...|       K5 V|            4580.0|        50.0|      -50.0|         0|             0.71|           0.74|            0.12|                 4.8|<a refstr=STASSUN...|18h07m44.52s|271.9355015| 39.0729269|           22.6202|                  8.933|                    6.091|    2023-01-01|\n",
            "|    K2-266 e|    K2-266|         Transit|          2018|                  K2|<a refstr=RODRIGU...|             19.482|                    0.0012|                   -0.0012|            0.1249|               2.73|  0.244|             14.3|  0.04499|        Mass|               0.043|                    490|       6|      -6|        0|       1|<a refstr=RODRIGU...|    Unknown|            4285.0|        49.0|      -57.0|         0|              0.7|           0.69|           -0.12|                4.58|<a refstr=STASSUN...|10h31m44.56s|157.9356855|  0.9372782|           77.5586|                 11.625|                    8.897|    2018-01-01|\n",
            "|  TOI-1448 b|  TOI-1448|         Transit|          2024|Transiting Exopla...|<a refstr=HORI_ET...|           8.112245|                    1.8E-5|                   -1.8E-5|            0.0567|              2.749|  0.245|             19.5|  0.06135|        Mass|                0.36|                    426|       6|      -6|        0|       0|<a refstr=HORI_ET...|    Unknown|            3412.0|        28.0|      -32.0|         0|             0.38|           0.37|            0.37|                4.85|<a refstr=STASSUN...|21h05m17.76s| 316.324003| 57.7710946|           73.3345|                 15.678|                   10.765|    2024-01-01|\n",
            "|TOI-2803 A b|TOI-2803 A|         Transit|          2023|Transiting Exopla...|<a refstr=YEE_ET_...|         1.96229325|                    8.2E-7|                   -8.2E-7|           0.03185|             18.114|  1.616|         309.8827|    0.975|        Mass|                 0.0|                   1893|      29|     -28|        0|       0|<a refstr=YEE_ET_...|    Unknown|            6280.0|        99.0|      -96.0|         0|             1.25|           1.12|          -0.105|                 4.3|<a refstr=STASSUN...|06h12m27.54s| 93.1147397|-23.4924956|           494.818|                 12.537|                   11.282|    2023-01-01|\n",
            "| HATS-74 A b| HATS-74 A|         Transit|          2021|            HATSouth|<a refstr=JORD_AA...|         1.73185606|                    5.5E-7|                   -5.5E-7|           0.02384|             11.568|  1.032|        464.02947|     1.46|        Mass|               0.044|                    895|       6|      -6|        0|       0|<a refstr=JORD_AA...|    Unknown|            3776.9|         9.5|       -9.5|         0|             0.58|            0.6|           0.514|                 4.7|<a refstr=STASSUN...|11h24m03.55s|171.0147921|-19.5569588|           299.389|                  17.26|                   12.361|    2021-01-01|\n",
            "|  TOI-6016 b|  TOI-6016|         Transit|          2024|Transiting Exopla...|<a refstr=EHRHARD...|           4.023687|                    3.0E-6|                   -3.0E-6|             0.055|             13.675|   1.22|        371.85924|     1.17|        Mass|                 0.0|                   1890|      40|     -40|        0|       0|<a refstr=EHRHARD...|          F|            6110.0|        50.0|      -50.0|         0|             1.51|           1.31|            0.28|                4.19|<a refstr=STASSUN...|00h18m05.75s|  4.5239602| 59.7661983|           364.715|                 11.886|                   10.224|    2024-01-01|\n",
            "|  TOI-2818 b|  TOI-2818|         Transit|          2023|Transiting Exopla...|<a refstr=YEE_ET_...|           4.039709|                    2.4E-6|                   -2.3E-6|            0.0493|             15.278|  1.363|        225.65817|     0.71|        Mass|                 0.0|                   1376|      26|     -24|        0|       0|<a refstr=YEE_ET_...|    Unknown|            5721.0|        88.0|      -83.0|         0|             1.23|           0.98|           -0.02|                4.25|<a refstr=STASSUN...|07h56m14.36s|119.0598183|-35.1167104|           312.674|                 11.937|                   10.403|    2023-01-01|\n",
            "|  TOI-4010 d|  TOI-4010|         Transit|          2023|Transiting Exopla...|<a refstr=KUNIMOT...|           14.70886|                    3.0E-5|                   -3.0E-5|             0.113|               6.18|  0.551|            38.15|  0.12003|        Mass|                0.07|                    650|       6|      -6|        0|       0|<a refstr=KUNIMOT...|        K V|            4960.0|        36.0|      -36.0|         0|             0.83|           0.88|            0.37|                4.54|<a refstr=STASSUN...|01h20m51.56s| 20.2148196| 66.0722009|           177.504|                 12.291|                   10.157|    2023-01-01|\n",
            "|  LTT 3780 c|  LTT 3780|         Transit|          2020|Transiting Exopla...|<a refstr=BONFANT...|          12.252284|                    1.3E-5|                   -1.3E-5|            0.0757|               2.39|  0.213|             8.04|   0.0253|        Mass|               0.024|                    359|      10|     -10|        0|       0|<a refstr=BONFANT...|    Unknown|            3358.0|        92.0|      -92.0|         0|             0.38|           0.38|            0.06|                4.85|<a refstr=STASSUN...|10h18m34.78s|154.6449033| -11.717801|           21.9814|                  13.14|                 8.204001|    2020-01-01|\n",
            "|   TOI-561 c|   TOI-561|         Transit|          2020|Transiting Exopla...|<a refstr=LACEDEL...|          10.778831|                    3.4E-5|                   -3.6E-5|            0.0884|               2.91|   0.26|             5.39|  0.01696|        Mass|                0.03|                    800|      11|     -11|        0|       0|<a refstr=LACEDEL...|       G9 V|            5372.0|        70.0|      -70.0|         0|             0.84|           0.81|            -0.4|                 4.5|<a refstr=STASSUN...|09h52m44.44s|148.1851516|   6.216103|            85.799|                 10.252|                    8.394|    2020-01-01|\n",
            "|   HATS-69 b|   HATS-69|         Transit|          2018|            HATSouth|<a refstr=HARTMAN...|          2.2252577|                    1.9E-6|                   -1.9E-6|           0.03211|             10.593|  0.945|        183.38791|    0.577|        Mass|               0.519|                   1296|       7|      -7|        0|       0|<a refstr=HARTMAN...|    Unknown|            5137.0|        16.0|      -16.0|         0|             0.88|           0.89|           0.377|                 4.5|<a refstr=STASSUN...|19h17m11.38s|289.2974275|-60.8917599|           414.537|                 14.074|                   11.875|    2018-01-01|\n",
            "|  HAT-P-58 b|  HAT-P-58|         Transit|          2021|              HATNet|<a refstr=BAKOS_E...|          4.0138379|                    2.4E-6|                   -2.4E-6|           0.04994|              14.93|  1.332|        118.23217|    0.372|        Mass|               0.073|                   1622|      18|     -18|        0|       0|<a refstr=BAKOS_E...|    Unknown|            6078.0|        48.0|      -48.0|         0|             1.53|           1.03|          -0.224|                4.08|<a refstr=STASSUN...|04h35m23.16s| 68.8465093| 56.8682691|            515.59|                 12.925|                   10.978|    2021-01-01|\n",
            "|TOI-3984 A b|TOI-3984 A|         Transit|          2023|Transiting Exopla...|<a refstr=CA_NTIL...|           4.353326|                    5.0E-6|                   -5.0E-6|             0.041|                7.9|   0.71|             44.0|     0.14|        Mass|                0.23|                    563|      15|     -15|        0|       0|<a refstr=CA_NTIL...|   M4+/-0.5|            3476.0|        88.0|      -88.0|         0|             0.47|           0.49|            0.18|                4.81|<a refstr=STASSUN...|15h05m20.92s|226.3371468| 36.7869747|           108.883|                 15.694|                   11.052|    2023-01-01|\n",
            "|TOI-4463 A b|TOI-4463 A|         Transit|          2023|Transiting Exopla...|<a refstr=YEE_ET_...|          2.8807198|                    2.8E-6|                   -2.7E-6|           0.04036|              13.26|  1.183|        252.35576|    0.794|        Mass|                 0.0|                   1395|      25|     -22|        0|       0|<a refstr=YEE_ET_...|    Unknown|            5640.0|        89.0|      -82.0|         0|             1.06|           1.06|            0.25|                4.41|<a refstr=STASSUN...|18h37m25.95s|279.3581286| 18.7299522|           173.117|                 11.036|                    9.402|    2023-01-01|\n",
            "+------------+----------+----------------+--------------+--------------------+--------------------+-------------------+--------------------------+--------------------------+------------------+-------------------+-------+-----------------+---------+------------+--------------------+-----------------------+--------+--------+---------+--------+--------------------+-----------+------------------+------------+-----------+----------+-----------------+---------------+----------------+--------------------+--------------------+------------+-----------+-----------+------------------+-----------------------+-------------------------+--------------+\n",
            "only showing top 20 rows\n",
            "\n"
          ]
        }
      ]
    },
    {
      "cell_type": "code",
      "source": [
        "# Standardize Numerical Columns (Feature Scaling for ML Models)\n",
        "from pyspark.ml.feature import StandardScaler, VectorAssembler\n",
        "\n",
        "# Define numerical columns to scale\n",
        "num_features = [\"Planet_Radius_Earth\", \"Planet_Mass_Earth\", \"Star_Temperature_K\"]\n",
        "\n",
        "# Step 1: Assemble features into a single vector column\n",
        "assembler = VectorAssembler(inputCols=num_features, outputCol=\"features\")\n",
        "df_transformed = assembler.transform(df)  # Apply transformation and create \"features\" column\n",
        "\n",
        "# Step 2: Apply StandardScaler\n",
        "scaler = StandardScaler(inputCol=\"features\", outputCol=\"scaled_features\", withMean=True, withStd=True)\n",
        "scaler_model = scaler.fit(df_transformed)  # Fit scaler model\n",
        "df_scaled = scaler_model.transform(df_transformed)  # Transform data\n",
        "\n",
        "# Show the final dataset with the new scaled features\n",
        "df_scaled.select(\"features\", \"scaled_features\").show(truncate=False)"
      ],
      "metadata": {
        "colab": {
          "base_uri": "https://localhost:8080/"
        },
        "id": "iP1oEdZp19us",
        "outputId": "323475a8-1cb2-4b03-adff-abda4cbb29a4"
      },
      "id": "iP1oEdZp19us",
      "execution_count": 53,
      "outputs": [
        {
          "output_type": "stream",
          "name": "stdout",
          "text": [
            "+-------------------------+---------------------------------------------------------------+\n",
            "|features                 |scaled_features                                                |\n",
            "+-------------------------+---------------------------------------------------------------+\n",
            "|[1.664,4.72,5664.0]      |[-1.2367138401358524,-0.6342530295009698,0.3419853089950716]   |\n",
            "|[2.63,24.5,5725.0]       |[-1.0568758328295873,-0.5842131623797241,0.42052590314308713]  |\n",
            "|[2.91,1112.39942,5592.0] |[-1.0047488741900903,2.167978061992385,0.24928165688593854]    |\n",
            "|[1.458,2.2,3844.0]       |[-1.2750643882777681,-0.6406281794072155,-2.0013570082080148]  |\n",
            "|[14.415,375.0394,5404.0] |[1.1371106227649603,0.3025889102573443,0.0072221208232021595]  |\n",
            "|[1.533,3.09,3803.0]      |[-1.26110181007076,-0.6383766383688986,-2.054146587881271]     |\n",
            "|[2.69,9.13,4580.0]       |[-1.045705770263981,-0.6230965171650399,-1.0537196755368765]   |\n",
            "|[2.73,14.3,4285.0]       |[-1.0382590618869099,-0.6100173405716708,-1.4335471390395744]  |\n",
            "|[2.749,19.5,3412.0]      |[-1.034721875407801,-0.5968622693365607,-2.557578920862813]    |\n",
            "|[18.114,309.8827,6280.0] |[1.8257449799346028,0.1377540968064407,1.1351165548176547]     |\n",
            "|[11.568,464.02947,3776.9]|[0.6070911540269309,0.5277178929626203,-2.0877516617708314]    |\n",
            "|[13.675,371.85924,6110.0]|[0.9993465177891468,0.2945436734613736,0.9162329317822016]     |\n",
            "|[15.278,225.65817,5721.0]|[1.2977733560002678,-0.07531892086541851,0.4153757002481353]   |\n",
            "|[6.18,38.15,4960.0]      |[-0.3959804643645348,-0.54968110038756,-0.5644504005164519]    |\n",
            "|[2.39,8.04,3358.0]       |[-1.1015560830920132,-0.6258540224816304,-2.627106659944663]   |\n",
            "|[2.91,5.39,5372.0]       |[-1.0047488741900903,-0.6325580491687537,-0.033979502336412545]|\n",
            "|[10.593,183.38791,5137.0]|[0.425577637335825,-0.18225512883207726,-0.336553922414833]    |\n",
            "|[14.93,118.23217,6078.0] |[1.2329869931197497,-0.3470875136544451,0.8750313086225868]    |\n",
            "|[7.9,44.0,3476.0]        |[-0.07577200415048106,-0.5348816452480611,-2.475175674543584]  |\n",
            "|[13.26,252.35576,5640.0] |[0.9220869183770348,-0.007778786585464068,0.3110840916253606]  |\n",
            "+-------------------------+---------------------------------------------------------------+\n",
            "only showing top 20 rows\n",
            "\n"
          ]
        }
      ]
    },
    {
      "cell_type": "code",
      "source": [
        "# Drop existing indexed columns if they exist\n",
        "for col_name in [\"Discovery_Method_Index\", \"Discovery_Facility_Index\"]:\n",
        "    if col_name in df.columns:\n",
        "        df = df.drop(col_name)"
      ],
      "metadata": {
        "id": "Og73hIlr6R07"
      },
      "id": "Og73hIlr6R07",
      "execution_count": 59,
      "outputs": []
    },
    {
      "cell_type": "code",
      "source": [
        "# Encode categorical variables (for ML)\n",
        "from pyspark.ml.feature import StringIndexer\n",
        "\n",
        "categorical_cols = [\"Discovery_Method\", \"Discovery_Facility\"]\n",
        "\n",
        "for col_name in categorical_cols:\n",
        "    indexer = StringIndexer(inputCol=col_name, outputCol=col_name + \"_Index\")\n",
        "    df = indexer.fit(df).transform(df)\n",
        "\n",
        "df.show(5)"
      ],
      "metadata": {
        "colab": {
          "base_uri": "https://localhost:8080/"
        },
        "id": "gaEkMv1z19sX",
        "outputId": "50b4ea84-835e-4c66-bb3a-f9080b322af5"
      },
      "id": "gaEkMv1z19sX",
      "execution_count": 60,
      "outputs": [
        {
          "output_type": "stream",
          "name": "stdout",
          "text": [
            "+-----------+---------+----------------+--------------+--------------------+--------------------+-------------------+--------------------------+--------------------------+------------------+-------------------+-------+-----------------+---------+------------+--------------------+-----------------------+--------+--------+---------+--------+--------------------+-----------+------------------+------------+-----------+----------+-----------------+---------------+----------------+--------------------+--------------------+------------+-----------+-----------+------------------+-----------------------+-------------------------+--------------+----------------------+------------------------+\n",
            "|Planet_Name|Host_Star|Discovery_Method|Discovery_Year|  Discovery_Facility|      Reference_Name|Orbital_Period_Days|Orbital_Period_Error_Upper|Orbital_Period_Error_Lower|Semi_Major_Axis_AU|Planet_Radius_Earth|pl_radj|Planet_Mass_Earth|pl_bmassj|pl_bmassprov|Orbital_Eccentricity|Equilibrium_Temperature|UEB_temp|LEB_temp|pl_eqtlim|ttv_flag|          st_refname|st_spectype|Star_Temperature_K|Star_UEBTemp|st_tefferr2|st_tefflim|Star_Radius_Solar|Star_Mass_Solar|Star_Metallicity|Star_Surface_Gravity|          sy_refname|       rastr|         ra|        dec|System_Distance_PC|System_Visual_Magnitude|System_Infrared_Magnitude|Discovery_Date|Discovery_Method_Index|Discovery_Facility_Index|\n",
            "+-----------+---------+----------------+--------------+--------------------+--------------------+-------------------+--------------------------+--------------------------+------------------+-------------------+-------+-----------------+---------+------------+--------------------+-----------------------+--------+--------+---------+--------+--------------------+-----------+------------------+------------+-----------+----------+-----------------+---------------+----------------+--------------------+--------------------+------------+-----------+-----------+------------------+-----------------------+-------------------------+--------------+----------------------+------------------------+\n",
            "|HD 136352 b|HD 136352| Radial Velocity|          2019|La Silla Observatory|<a refstr=DELREZ_...|           11.57797|                    8.0E-5|                   -1.3E-4|            0.0964|              1.664|  0.148|             4.72|  0.01485|        Mass|                 0.0|                    905|      14|     -14|        0|       0|<a refstr=DELREZ_...|    Unknown|            5664.0|        61.0|      -61.0|         0|             1.06|           0.87|           -0.24|                4.39|<a refstr=STASSUN...|15h21m45.63s|230.4401147|-48.3188174|            14.682|                   5.65|                    4.159|    2019-01-01|                   1.0|                    12.0|\n",
            "|   K2-292 b|   K2-292|         Transit|          2019|                  K2|<a refstr=LUQUE_E...|            16.9841|                    8.0E-4|                   -8.0E-4|              0.13|               2.63|  0.235|             24.5|  0.07709|        Mass|                0.04|                    795|      33|     -28|        0|       0|<a refstr=LUQUE_E...|       G3 V|            5725.0|        65.0|      -65.0|         0|             1.09|            1.0|            0.07|                4.33|<a refstr=STASSUN...|13h41m30.21s|205.3758786| -9.9460704|           114.293|                  9.885|                    8.407|    2019-01-01|                   0.0|                     2.0|\n",
            "| TOI-1221 b| TOI-1221|         Transit|          2023|Transiting Exopla...|<a refstr=MANN_ET...|           91.68278|                    3.2E-4|                   -4.1E-4|             0.387|               2.91|   0.26|       1112.39942|      3.5|        Mass|                0.21|                    440|      60|     -60|        0|       1|<a refstr=MANN_ET...|    Unknown|            5592.0|        50.0|      -50.0|         0|             1.03|           0.93|            0.06|                4.38|<a refstr=STASSUN...|07h11m41.05s|107.9210254|-65.5088568|           138.411|                 10.494|                    9.036|    2023-01-01|                   0.0|                     0.0|\n",
            "|     K2-3 d|     K2-3|         Transit|          2015|                  K2|<a refstr=DIAMOND...|           44.55603|                    1.3E-4|                   -1.2E-4|            0.2014|              1.458|   0.13|              2.2|  0.00692|        Mass|               0.091|                    305|       3|      -3|        0|       0|<a refstr=DIAMOND...|        M V|            3844.0|        61.0|      -63.0|         0|             0.55|           0.55|          -0.157|                 4.7|<a refstr=STASSUN...|11h29m20.49s|172.3353708| -1.4551364|           44.0727|                 12.168|                    8.561|    2015-01-01|                   0.0|                     2.0|\n",
            "|  TOI-157 b|  TOI-157|         Transit|          2020|Transiting Exopla...|<a refstr=NIELSEN...|          2.0845435|                    2.3E-6|                   -2.3E-6|           0.03138|             14.415|  1.286|         375.0394|     1.18|        Mass|                 0.0|                   1588|      21|     -20|        0|       0|<a refstr=NIELSEN...|      G9 IV|            5404.0|        70.0|      -67.0|         0|             1.17|           0.95|            0.24|                4.28|<a refstr=STASSUN...|04h54m48.35s| 73.7014398|-76.6806061|           355.683|                 12.725|                   10.892|    2020-01-01|                   0.0|                     0.0|\n",
            "+-----------+---------+----------------+--------------+--------------------+--------------------+-------------------+--------------------------+--------------------------+------------------+-------------------+-------+-----------------+---------+------------+--------------------+-----------------------+--------+--------+---------+--------+--------------------+-----------+------------------+------------+-----------+----------+-----------------+---------------+----------------+--------------------+--------------------+------------+-----------+-----------+------------------+-----------------------+-------------------------+--------------+----------------------+------------------------+\n",
            "only showing top 5 rows\n",
            "\n"
          ]
        }
      ]
    },
    {
      "cell_type": "markdown",
      "source": [
        "# Export"
      ],
      "metadata": {
        "id": "iC2xH6nO_SIT"
      },
      "id": "iC2xH6nO_SIT"
    },
    {
      "cell_type": "code",
      "source": [
        "# Save the fully cleaned Dataset\n",
        "df.write.csv(\"Cleaned_Dataset.csv\", header=True)\n",
        "\n"
      ],
      "metadata": {
        "id": "aotVZEH5292p"
      },
      "id": "aotVZEH5292p",
      "execution_count": 62,
      "outputs": []
    },
    {
      "cell_type": "markdown",
      "source": [
        "# Load\n",
        "## Dats Analysis"
      ],
      "metadata": {
        "id": "s9Z4nESgzrJD"
      },
      "id": "s9Z4nESgzrJD"
    },
    {
      "cell_type": "code",
      "source": [
        "# Import necessary libraries\n",
        "from pyspark.sql.types import IntegerType, DoubleType, DateType\n",
        "from pyspark.sql.functions import col, isnan, when, count, monotonically_increasing_id\n",
        "from pyspark.ml.feature import VectorAssembler, StandardScaler, StringIndexer\n",
        "from pyspark.ml.clustering import KMeans\n",
        "from pyspark.ml.classification import RandomForestClassifier\n",
        "from pyspark.ml.evaluation import MulticlassClassificationEvaluator\n",
        "import matplotlib.pyplot as plt\n",
        "import pandas as pd\n",
        "import seaborn as sns"
      ],
      "metadata": {
        "id": "uavNw7tABjDc"
      },
      "id": "uavNw7tABjDc",
      "execution_count": 69,
      "outputs": []
    },
    {
      "cell_type": "code",
      "source": [
        "# cache the cleaned dataset\n",
        "clean_df = df.cache()\n",
        "clean_df.show(2)"
      ],
      "metadata": {
        "colab": {
          "base_uri": "https://localhost:8080/"
        },
        "id": "o9b_T1eBAVnD",
        "outputId": "899965db-d2e9-4478-c06c-3342b6f8a397"
      },
      "id": "o9b_T1eBAVnD",
      "execution_count": 70,
      "outputs": [
        {
          "output_type": "stream",
          "name": "stdout",
          "text": [
            "+-----------+---------+----------------+--------------+------------------+--------------------+-------------------+--------------------------+--------------------------+-------------------+-------------------+-------+-----------------+---------+------------+--------------------+-----------------------+--------+--------+---------+--------+--------------------+-----------+------------------+-----------------+------------------+----------+-----------------+---------------+--------------------+--------------------+--------------------+------------+-----------+----------+------------------+-----------------------+-------------------------+--------------+----------------------+------------------------+\n",
            "|Planet_Name|Host_Star|Discovery_Method|Discovery_Year|Discovery_Facility|      Reference_Name|Orbital_Period_Days|Orbital_Period_Error_Upper|Orbital_Period_Error_Lower| Semi_Major_Axis_AU|Planet_Radius_Earth|pl_radj|Planet_Mass_Earth|pl_bmassj|pl_bmassprov|Orbital_Eccentricity|Equilibrium_Temperature|UEB_temp|LEB_temp|pl_eqtlim|ttv_flag|          st_refname|st_spectype|Star_Temperature_K|     Star_UEBTemp|       st_tefferr2|st_tefflim|Star_Radius_Solar|Star_Mass_Solar|    Star_Metallicity|Star_Surface_Gravity|          sy_refname|       rastr|         ra|       dec|System_Distance_PC|System_Visual_Magnitude|System_Infrared_Magnitude|Discovery_Date|Discovery_Method_Index|Discovery_Facility_Index|\n",
            "+-----------+---------+----------------+--------------+------------------+--------------------+-------------------+--------------------------+--------------------------+-------------------+-------------------+-------+-----------------+---------+------------+--------------------+-----------------------+--------+--------+---------+--------+--------------------+-----------+------------------+-----------------+------------------+----------+-----------------+---------------+--------------------+--------------------+--------------------+------------+-----------+----------+------------------+-----------------------+-------------------------+--------------+----------------------+------------------------+\n",
            "| CoRoT-23 b| CoRoT-23|         Transit|          2011|             CoRoT|<a refstr=ROUAN_E...|             3.6313|                    1.0E-4|                   -1.0E-4|              0.048|              11.77|   1.05|            889.9|      2.8|        Mass|                0.16|                   1660|      28|     -27|        0|       0|<a refstr=ROUAN_E...|       G0 V|            5900.0|            100.0|            -100.0|         0|             1.61|           1.14|                0.05|                 4.3|<a refstr=STASSUN...|18h39m07.84s|279.7826586| 4.3577516|           1060.97|                 15.675|                   12.364|    2011-01-01|                   0.0|                     6.0|\n",
            "|Kepler-52 b|Kepler-52|         Transit|          2012|            Kepler|<a refstr=STEFFEN...|          7.8773565|                    3.8E-5|                   -3.8E-5|0.11454987782805433|                2.1|  0.187|            135.0|  0.42476|        Mass| 0.09335043219404639|                   1100|      28|     -27|        0|       1|<a refstr=STEFFEN...|    Unknown|            4075.0|80.55244801512288|-79.56300672430355|         0|             0.52|           0.54|0.060960566228513584|                4.74|<a refstr=STASSUN...|19h06m57.12s|286.7380152|49.9757383|           321.542|                 15.513|                    12.36|    2012-01-01|                   0.0|                     1.0|\n",
            "+-----------+---------+----------------+--------------+------------------+--------------------+-------------------+--------------------------+--------------------------+-------------------+-------------------+-------+-----------------+---------+------------+--------------------+-----------------------+--------+--------+---------+--------+--------------------+-----------+------------------+-----------------+------------------+----------+-----------------+---------------+--------------------+--------------------+--------------------+------------+-----------+----------+------------------+-----------------------+-------------------------+--------------+----------------------+------------------------+\n",
            "only showing top 2 rows\n",
            "\n"
          ]
        }
      ]
    },
    {
      "cell_type": "markdown",
      "source": [
        "#### Data Analysis\n",
        " 1. How do planetary characteristics influence the likelihood of being in the habitable zone? (Mandeep)\n",
        " 2. How does a planet’s orbit impact its temperature and potential habitability?(Mandeep)"
      ],
      "metadata": {
        "id": "eRHlUQ5CCGCK"
      },
      "id": "eRHlUQ5CCGCK"
    },
    {
      "cell_type": "code",
      "source": [],
      "metadata": {
        "id": "B1UHeNDEGFOA"
      },
      "id": "B1UHeNDEGFOA",
      "execution_count": null,
      "outputs": []
    },
    {
      "cell_type": "code",
      "source": [
        "# Habitability Analysis based upon temperature and orbit\n",
        "df_habitable = df.select('semi_major_axis', 'temperature', 'Default_Flag')\n",
        "\n",
        "#Convert to Pandas for Visualisation\n",
        "df_habitable_pd = df_habitable.toPandas()\n",
        "\n",
        "sns.scatterplot(data=df_habitable_pd, x='semi_major_axis', y='temperature', hue='Default_Flag')\n",
        "plt.xlabel(\"Semi-Major Axis\")\n",
        "plt.ylabel(\"Temperature\")\n",
        "plt.title(\"Habitability Analysis\")\n",
        "plt.savefig(\"habitability_analysis.png\")\n",
        "plt.show()\n",
        "\n",
        "#Save the Results\n",
        "df_habitable_pd.to_csv(\"habitability_analysis.csv\", index=False)"
      ],
      "metadata": {
        "id": "WMYVAu6sDdJZ"
      },
      "id": "WMYVAu6sDdJZ",
      "execution_count": null,
      "outputs": []
    },
    {
      "cell_type": "code",
      "source": [
        "# --- Question 3 & 4: Classification by Insolation, Temperature, Mass, Coordinates ---\n",
        "df_class2 = df.select('Insolation_Flux', 'temperature', 'mass', 'ra', 'dec')\n",
        "\n",
        "#Convert to Pandas for Visualisation\n",
        "df_class2_pd = df_class2.toPandas()\n",
        "sns.pairplot(df_class2_pd)\n",
        "plt.savefig(\"classification_insolation_temp_mass_coordinates.png\")\n",
        "plt.show()\n",
        "\n",
        "#Save the Results\n",
        "df_class2.toPandas().to_csv(\"classification_insolation_temp_mass_coordinates.csv\", index=False)"
      ],
      "metadata": {
        "id": "LD7Wf3riDWm-"
      },
      "id": "LD7Wf3riDWm-",
      "execution_count": null,
      "outputs": []
    },
    {
      "cell_type": "code",
      "source": [
        "# --- Question 1: Clustering Exoplanets ---\n",
        "df = df.withColumnRenamed(\"Planet_Radius_Earth\", \"radius\").withColumnRenamed(\"Planet_Mass_Earth\", \"mass\").withColumnRenamed(\"Equilibrium_Temperature\", \"temperature\").withColumnRenamed(\"Semi_Major_Axis_AU\", \"semi_major_axis\")\n",
        "\n",
        "features = ['radius', 'mass', 'temperature', 'semi_major_axis']\n",
        "vector_assembler = VectorAssembler(inputCols=features, outputCol='features')\n",
        "df_features = vector_assembler.transform(df)\n",
        "\n",
        "scaler = StandardScaler(inputCol=\"features\", outputCol=\"scaledFeatures\")\n",
        "df_scaled = scaler.fit(df_features).transform(df_features)\n",
        "\n",
        "kmeans = KMeans(featuresCol='scaledFeatures', k=3, seed=42)\n",
        "kmeans_model = kmeans.fit(df_scaled)\n",
        "df_clusters = kmeans_model.transform(df_scaled)\n",
        "df_clusters.select('Planet_Name', 'prediction').show(10)\n",
        "\n",
        "# Convert to pandas for visualisation\n",
        "df_clusters_pd = df_clusters.toPandas()\n",
        "sns.scatterplot(data=df_clusters_pd, x=df_clusters_pd['radius'], y=df_clusters_pd['mass'], hue=df_clusters_pd['prediction'])\n",
        "plt.savefig(\"clustering_visualization.png\")\n",
        "plt.show()\n",
        "\n",
        "# Save the results\n",
        "df_clusters.toPandas().to_csv(\"clustering_results.csv\", index=False)"
      ],
      "metadata": {
        "colab": {
          "base_uri": "https://localhost:8080/",
          "height": 727
        },
        "id": "fO98ObeABQvy",
        "outputId": "2aa0a4fd-190d-43fc-a915-08b19dfd1f69"
      },
      "id": "fO98ObeABQvy",
      "execution_count": 71,
      "outputs": [
        {
          "output_type": "stream",
          "name": "stdout",
          "text": [
            "+------------+----------+\n",
            "| Planet_Name|prediction|\n",
            "+------------+----------+\n",
            "|  CoRoT-23 b|         1|\n",
            "| Kepler-52 b|         0|\n",
            "|      XO-1 b|         1|\n",
            "| HD 136352 b|         0|\n",
            "|   CoRoT-4 b|         1|\n",
            "|    K2-233 c|         0|\n",
            "| KOI-1783.02|         0|\n",
            "|Kepler-117 c|         2|\n",
            "| Kepler-19 b|         0|\n",
            "| Kepler-37 d|         0|\n",
            "+------------+----------+\n",
            "only showing top 10 rows\n",
            "\n"
          ]
        },
        {
          "output_type": "display_data",
          "data": {
            "text/plain": [
              "<Figure size 640x480 with 1 Axes>"
            ],
            "image/png": "[encoded data removed]"
          },
          "metadata": {}
        }
      ]
    },
    {
      "cell_type": "code",
      "source": [
        "# --- Question 2: Classification of Planets ---\n",
        "df_class = df.select('radius', 'mass', 'temperature', 'Discovery_Method')\n",
        "\n",
        "# Convert string column to numeric\n",
        "indexer = StringIndexer(inputCol=\"Discovery_Method\", outputCol=\"Discovery_Method_Index\")\n",
        "df_class = indexer.fit(df_class).transform(df_class)\n",
        "\n",
        "vector_assembler_class = VectorAssembler(inputCols=['radius', 'mass', 'temperature'], outputCol='features')\n",
        "df_class_features = vector_assembler_class.transform(df_class)\n",
        "\n",
        "rf = RandomForestClassifier(labelCol='Discovery_Method_Index', featuresCol='features', numTrees=10)\n",
        "rf_model = rf.fit(df_class_features)\n",
        "df_pred = rf_model.transform(df_class_features)\n",
        "\n",
        "evaluator = MulticlassClassificationEvaluator(labelCol=\"Discovery_Method_Index\", predictionCol=\"prediction\", metricName=\"accuracy\")\n",
        "accuracy = evaluator.evaluate(df_pred)\n",
        "print(f\"Classification Accuracy: {accuracy}\")\n",
        "\n",
        "\n",
        "#Convert to Pandas for Visualisation\n",
        "df_pred_pd = df_pred.select(\"Discovery_Method_Index\", \"prediction\").toPandas()\n",
        "sns.histplot(data=df_pred_pd, x='prediction', kde=True)\n",
        "plt.xlabel(\"Predicted Class\")\n",
        "plt.ylabel(\"Frequency\")\n",
        "plt.title(\"Distribution of Predicted Planet Types\")\n",
        "plt.savefig(\"classification_visualization.png\")\n",
        "plt.show()\n",
        "\n",
        "\n",
        "# Save classification results\n",
        "df_pred.toPandas().to_csv(\"classification_results.csv\", index=False)"
      ],
      "metadata": {
        "colab": {
          "base_uri": "https://localhost:8080/",
          "height": 489
        },
        "id": "FNGD-TXjDM-w",
        "outputId": "85beb62f-af1e-4d12-864b-ec150b527c1e"
      },
      "id": "FNGD-TXjDM-w",
      "execution_count": 72,
      "outputs": [
        {
          "output_type": "stream",
          "name": "stdout",
          "text": [
            "Classification Accuracy: 0.9737335834896811\n"
          ]
        },
        {
          "output_type": "display_data",
          "data": {
            "text/plain": [
              "<Figure size 640x480 with 1 Axes>"
            ],
            "image/png": "[encoded data removed]"
          },
          "metadata": {}
        }
      ]
    },
    {
      "cell_type": "code",
      "source": [
        "\n",
        "#Convert to Pandas for Visualisation\n",
        "df_orbit_pd = df_orbit.toPandas()\n",
        "\n",
        "sns.lineplot(data=df_orbit_pd, x='semi_major_axis', y='temperature')\n",
        "plt.xlabel(\"Semi-Major Axis\")\n",
        "plt.ylabel(\"Temperature\")\n",
        "plt.title(\"Orbit Impact on Habitability\")\n",
        "plt.savefig(\"orbit_temperature_analysis.png\")\n",
        "plt.show()\n",
        "\n",
        "#Save the Results\n",
        "df_orbit_pd.to_csv(\"orbit_temperature_analysis.csv\", index=False)"
      ],
      "metadata": {
        "id": "qBfmUbUdDh4p"
      },
      "id": "qBfmUbUdDh4p",
      "execution_count": null,
      "outputs": []
    },
    {
      "cell_type": "markdown",
      "source": [
        "Q1 & Q2: Classify planets by insolation, temperature, mass, coordinates with regards of available planets (Iarsolav)\n",
        "Complete dataset, it'll be helpful to draw graphics with stars located across sphere (Iarsolav)"
      ],
      "metadata": {
        "id": "LCDxrU8rGH7R"
      },
      "id": "LCDxrU8rGH7R"
    },
    {
      "cell_type": "code",
      "source": [],
      "metadata": {
        "id": "24nf_hdTGTzQ"
      },
      "id": "24nf_hdTGTzQ",
      "execution_count": null,
      "outputs": []
    },
    {
      "cell_type": "code",
      "source": [
        "#Export CSV and visualisations"
      ],
      "metadata": {
        "id": "KLxTQrNGGwTg"
      },
      "id": "KLxTQrNGGwTg",
      "execution_count": null,
      "outputs": []
    },
    {
      "cell_type": "markdown",
      "source": [
        "# Patrick\n",
        "Question 1: Can we identify groups of similar exoplanets?\n",
        "Analysis: Apply clustering algorithms (e.g., K-means, hierarchical clustering) to group planets with similar characteristics.\n",
        "Question 2: Can we classify planets into different categories (e.g., rocky planets, gas giants) based on their properties?\n",
        "Analysis: Use supervised learning algorithms to classify planets based on features such as mass, radius, and temperature."
      ],
      "metadata": {
        "id": "CaVv8-PNGU54"
      },
      "id": "CaVv8-PNGU54"
    },
    {
      "cell_type": "code",
      "source": [],
      "metadata": {
        "id": "iIH8fQ6cGrUC"
      },
      "id": "iIH8fQ6cGrUC",
      "execution_count": null,
      "outputs": []
    },
    {
      "cell_type": "code",
      "source": [
        "#Export CSV and visualisations"
      ],
      "metadata": {
        "id": "-yn5qSblGd5Y"
      },
      "id": "-yn5qSblGd5Y",
      "execution_count": null,
      "outputs": []
    },
    {
      "cell_type": "markdown",
      "source": [
        "# Amrit\n",
        "Is there a correlation between specific discovery facilities and the methods they use to detect exoplanets, and how does this impact the types of planets discovered?\n",
        "2. How does the distance of a planet host from its exoplanets influence the exoplanets' temperature, luminosity, and color, and what patterns emerge across different star-planet systems?"
      ],
      "metadata": {
        "id": "kDOs_r87GfAn"
      },
      "id": "kDOs_r87GfAn"
    },
    {
      "cell_type": "code",
      "source": [],
      "metadata": {
        "id": "aweZclO5Gs6a"
      },
      "id": "aweZclO5Gs6a",
      "execution_count": null,
      "outputs": []
    },
    {
      "cell_type": "code",
      "source": [
        "#Export CSV and visualisations"
      ],
      "metadata": {
        "id": "_7RIo0xKG-oY"
      },
      "id": "_7RIo0xKG-oY",
      "execution_count": null,
      "outputs": []
    }
  ],
  "metadata": {
    "kernelspec": {
      "display_name": "Python 3 (ipykernel)",
      "language": "python",
      "name": "python3"
    },
    "language_info": {
      "codemirror_mode": {
        "name": "ipython",
        "version": 3
      },
      "file_extension": ".py",
      "mimetype": "text/x-python",
      "name": "python",
      "nbconvert_exporter": "python",
      "pygments_lexer": "ipython3",
      "version": "3.10.14"
    },
    "colab": {
      "provenance": []
    }
  },
  "nbformat": 4,
  "nbformat_minor": 5
}