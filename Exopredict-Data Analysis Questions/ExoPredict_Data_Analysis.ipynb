{
  "cells": [
    {
      "cell_type": "markdown",
      "id": "KgikqnnvV4gq",
      "metadata": {
        "id": "KgikqnnvV4gq"
      },
      "source": [
        "# ExoPredict-Data Analysis"
      ]
    },
    {
      "cell_type": "markdown",
      "id": "ZKkTPE5vWIOB",
      "metadata": {
        "id": "ZKkTPE5vWIOB"
      },
      "source": [
        "# Pre-Processing\n"
      ]
    },
    {
      "cell_type": "code",
      "execution_count": null,
      "id": "53ba07a6-1fc7-43ae-931c-987b06766767",
      "metadata": {
        "id": "53ba07a6-1fc7-43ae-931c-987b06766767"
      },
      "outputs": [],
      "source": [
        "import os\n",
        "!apt-get install openjdk-8-jdk-headless -qq > /dev/null\n",
        "!wget -q http://apache.osuosl.org/spark/spark-3.5.4/spark-3.5.4-bin-hadoop3.tgz\n",
        "!tar xf spark-3.5.4-bin-hadoop3.tgz\n",
        "!pip install -q findspark\n",
        "import os\n",
        "os.environ[\"JAVA_HOME\"] = \"/usr/lib/jvm/java-8-openjdk-amd64\"\n",
        "os.environ[\"SPARK_HOME\"] = \"/content/spark-3.5.4-bin-hadoop3\""
      ]
    },
    {
      "cell_type": "code",
      "execution_count": null,
      "id": "F9gPMv6edzsD",
      "metadata": {
        "id": "F9gPMv6edzsD"
      },
      "outputs": [],
      "source": [
        "# Import findspark and initialise.\n",
        "import findspark\n",
        "findspark.init()"
      ]
    },
    {
      "cell_type": "code",
      "execution_count": null,
      "id": "nl1QLqVwma2K",
      "metadata": {
        "colab": {
          "base_uri": "https://localhost:8080/",
          "height": 74
        },
        "id": "nl1QLqVwma2K",
        "outputId": "388964f6-bd46-49a3-8a47-92a63b9071a0"
      },
      "outputs": [],
      "source": [
        "# Upload the Cleaned Dataset file from output\n",
        "from google.colab import files\n",
        "uploaded = files.upload()"
      ]
    },
    {
      "cell_type": "code",
      "execution_count": null,
      "id": "ijAlzS0gyU1F",
      "metadata": {
        "id": "ijAlzS0gyU1F"
      },
      "outputs": [],
      "source": [
        "# Import packages\n",
        "from pyspark.sql import SparkSession\n",
        "import time\n",
        "\n",
        "# Create a SparkSession\n",
        "spark = SparkSession.builder.appName(\"ExoPlanet_ETL_Project\").getOrCreate()"
      ]
    },
    {
      "cell_type": "code",
      "execution_count": null,
      "id": "894UmHB6oxcs",
      "metadata": {
        "colab": {
          "base_uri": "https://localhost:8080/"
        },
        "id": "894UmHB6oxcs",
        "outputId": "b68baade-cb98-4c5b-b7f9-1f3c4e3d4a15"
      },
      "outputs": [],
      "source": [
        "# Read the file\n",
        "file_path = \"Cleaned_Dataset.csv\"\n",
        "\n",
        "df = spark.read.option(\"header\", \"true\").option(\"inferSchema\", \"true\").csv(file_path)\n",
        "df.show(5)"
      ]
    },
    {
      "cell_type": "markdown",
      "id": "eRHlUQ5CCGCK",
      "metadata": {
        "id": "eRHlUQ5CCGCK"
      },
      "source": [
        "#### Data Analysis\n",
        " 1. **How do planetary characteristics influence the likelihood of being in the habitable zone? (Mandeep)**\n",
        "\n",
        " Answer: The habitable zone (HZ) depends on the semi-major axis (AU) and star temperature (K).\n",
        "We'll classify planets as potentially habitable based on their distance from the star (semi-major axis) and the equilibrium temperature.\n",
        "\n",
        " We'll consider a planet inside the habitable zone if:\n",
        "Semi-major axis (AU) falls within the range for a Sun-like star (0.38 - 1.5 AU).\n",
        "\n",
        " Equilibrium temperature falls between 200K and 320K.\n",
        " **2. How does a planet’s orbit impact its temperature and potential habitability?(Mandeep)**\n",
        "\n",
        "  Answer: The orbital eccentricity and semi-major axis influence temperature variations.\n",
        "We will analyze how eccentric orbits lead to temperature fluctuations and impact habitability.\n",
        "\n",
        " Highly eccentric orbits (e > 0.3) cause significant temperature fluctuations during different phases of orbit.\n",
        "We will compare eccentric vs. circular orbits to see how temperature variability impacts habitability."
      ]
    },
    {
      "cell_type": "code",
      "execution_count": null,
      "id": "uavNw7tABjDc",
      "metadata": {
        "id": "uavNw7tABjDc"
      },
      "outputs": [],
      "source": [
        "# Import necessary libraries\n",
        "from pyspark.sql.types import IntegerType, DoubleType, DateType\n",
        "from pyspark.sql.functions import col, isnan, when, count, monotonically_increasing_id\n",
        "from pyspark.ml.feature import VectorAssembler, StandardScaler, StringIndexer\n",
        "from pyspark.ml.clustering import KMeans\n",
        "from pyspark.ml.classification import RandomForestClassifier\n",
        "from pyspark.ml.evaluation import MulticlassClassificationEvaluator\n",
        "import matplotlib.pyplot as plt\n",
        "import pandas as pd\n",
        "import seaborn as sns"
      ]
    },
    {
      "cell_type": "code",
      "execution_count": null,
      "id": "5a63jtvqbaXN",
      "metadata": {
        "colab": {
          "base_uri": "https://localhost:8080/"
        },
        "id": "5a63jtvqbaXN",
        "outputId": "4c51f107-b4be-4f47-eebe-759d1af8f5cd"
      },
      "outputs": [],
      "source": [
        "# Define habitable zone classification\n",
        "df = df.withColumn(\"Habitable_Zone_Status\",\n",
        "    when((col(\"Semi_Major_Axis_AU\").between(0.38, 1.5)) &\n",
        "         (col(\"Equilibrium_Temperature\").between(200, 320)),\n",
        "         \"Potentially Habitable\").otherwise(\"Not Habitable\"))\n",
        "\n",
        "# Count habitable vs. non-habitable planets\n",
        "df.groupBy(\"Habitable_Zone_Status\").count().show()"
      ]
    },
    {
      "cell_type": "code",
      "execution_count": null,
      "id": "7-2P8tZRbrzG",
      "metadata": {
        "id": "7-2P8tZRbrzG"
      },
      "outputs": [],
      "source": [
        "# Save habitable classification\n",
        "df.select(\"Planet_Name\", \"Semi_Major_Axis_AU\", \"Equilibrium_Temperature\", \"Habitable_Zone_Status\") \\\n",
        "  .write.csv(\"habitable_analysis.csv\", header=True)"
      ]
    },
    {
      "cell_type": "code",
      "execution_count": null,
      "id": "MOB5B_bzibg2",
      "metadata": {
        "id": "MOB5B_bzibg2"
      },
      "outputs": [],
      "source": [
        "# Load data\n",
        "df_habitable_pd = pd.read_csv(\"habitable_analysis.csv\")\n"
      ]
    },
    {
      "cell_type": "code",
      "execution_count": null,
      "id": "VJaHwdLWkPPV",
      "metadata": {
        "colab": {
          "base_uri": "https://localhost:8080/",
          "height": 541
        },
        "id": "VJaHwdLWkPPV",
        "outputId": "403341d0-1cba-4a3a-ca64-b2e4797d51e7"
      },
      "outputs": [],
      "source": [
        "# Plot Habitable vs. Non-Habitable Planets\n",
        "plt.figure(figsize=(6,4))\n",
        "df[\"Habitable_Zone_Status\"].value_counts().plot(kind='bar', color=['red', 'blue'])\n",
        "plt.title(\"Planets in the Habitable Zone\")\n",
        "plt.xlabel(\"Category\")\n",
        "plt.ylabel(\"Count\")\n",
        "plt.savefig(\"habitable_vs_non_habitable_planets.png\")\n",
        "plt.show()"
      ]
    },
    {
      "cell_type": "code",
      "execution_count": null,
      "id": "rleEKqMAhq1n",
      "metadata": {
        "colab": {
          "base_uri": "https://localhost:8080/",
          "height": 178
        },
        "id": "rleEKqMAhq1n",
        "outputId": "cf2398a3-56b5-4957-aea0-11b3ef68c350"
      },
      "outputs": [],
      "source": [
        "# Check and update the datatype for SQL Loading process\n",
        "df_habitable_pd.dtypes"
      ]
    },
    {
      "cell_type": "code",
      "execution_count": null,
      "id": "KRxdQ28LfofB",
      "metadata": {
        "colab": {
          "base_uri": "https://localhost:8080/"
        },
        "id": "KRxdQ28LfofB",
        "outputId": "f43e14c8-f573-4b73-8177-4216789881db"
      },
      "outputs": [],
      "source": [
        "#Analyze Orbital Eccentricity Impact on Temperature\n",
        "#Classification: highly Eccentric:e >0.3, Circular/Stable: e < 0.3\n",
        "df = df.withColumn(\"Orbit_Type\",\n",
        "    when(col(\"Orbital_Eccentricity\") > 0.3, \"Highly Eccentric\").otherwise(\"Circular/Stable\"))\n",
        "\n",
        "# Show results\n",
        "df.select(\"Planet_Name\", \"Orbital_Eccentricity\", \"Equilibrium_Temperature\", \"Orbit_Type\").show(10)"
      ]
    },
    {
      "cell_type": "code",
      "execution_count": null,
      "id": "3zbDCOp6fquf",
      "metadata": {
        "id": "3zbDCOp6fquf"
      },
      "outputs": [],
      "source": [
        "# Save orbit eccentricity impact\n",
        "df.select(\"Planet_Name\", \"Orbital_Eccentricity\", \"Equilibrium_Temperature\", \"Orbit_Type\") \\\n",
        "  .write.csv(\"orbit_temperature_analysis.csv\", header=True)"
      ]
    },
    {
      "cell_type": "code",
      "execution_count": null,
      "id": "DBEIDu7tgcCD",
      "metadata": {
        "colab": {
          "base_uri": "https://localhost:8080/",
          "height": 472
        },
        "id": "DBEIDu7tgcCD",
        "outputId": "87dd4833-9b48-48ad-9e0d-7c1bc7b0192f"
      },
      "outputs": [],
      "source": [
        " #Orbit Impact on Habitability ---\n",
        "df_orbit = df.select(\"Planet_Name\", \"Orbital_Eccentricity\", \"Equilibrium_Temperature\", \"Orbit_Type\")\n",
        "#Convert to Pandas for Visualisation\n",
        "df_orbit_pd = df_orbit.toPandas()\n",
        "\n",
        "sns.scatterplot(data=df_orbit_pd, x='Orbital_Eccentricity', y='Equilibrium_Temperature', hue='Orbit_Type')\n",
        "plt.xlabel(\"Orbital Eccentricity\")\n",
        "plt.ylabel(\"Equilibrium Temperature\")\n",
        "plt.title(\"Orbit Impact on Habitability\")\n",
        "plt.savefig(\"orbit_temperature_analysis.png\")\n",
        "plt.show()\n",
        "\n"
      ]
    },
    {
      "cell_type": "code",
      "execution_count": null,
      "id": "mLQ1uhUWeKqG",
      "metadata": {
        "colab": {
          "base_uri": "https://localhost:8080/",
          "height": 210
        },
        "id": "mLQ1uhUWeKqG",
        "outputId": "1d08f10c-fbd5-40b1-ff32-b25cbc7ebfe1"
      },
      "outputs": [],
      "source": [
        "df_orbit_pd.dtypes"
      ]
    },
    {
      "cell_type": "markdown",
      "id": "LCDxrU8rGH7R",
      "metadata": {
        "id": "LCDxrU8rGH7R"
      },
      "source": [
        "Q1 & Q2: Classify planets by insolation, temperature, mass, coordinates with regards of available planets (Iaroslav)\n",
        "Complete dataset, it'll be helpful to draw graphics with stars located across sphere (Iaroslav)"
      ]
    },
    {
      "cell_type": "code",
      "execution_count": null,
      "id": "LD7Wf3riDWm-",
      "metadata": {
        "colab": {
          "base_uri": "https://localhost:8080/",
          "height": 397
        },
        "id": "LD7Wf3riDWm-",
        "outputId": "785e28b4-9697-4684-d7df-8ee04ead9efc"
      },
      "outputs": [],
      "source": [
        "import sys\n",
        "import os\n",
        "sys.path.append(os.path.abspath(\"../ml_iaroslav\"))\n",
        "from rank_planets5 import planet_rank_by_similarity, plot_similarity_ranking\n",
        "\n",
        "planet_name = \"CoRoT-31 b\"\n",
        "ranks = planet_rank_by_similarity(planet_name, file_path=\"../Output/CSV_Files/Cleaned Dataset.csv\", output_dir='../Output/CSV_Files', features=[\"Planet_Mass_Earth\", \"Equilibrium_Temperature\", \"ra\"])\n",
        "plot_similarity_ranking(rankings=ranks, reference_planet=planet_name, output_dir=\"../Output/Visualisations\")"
      ]
    },
    {
      "cell_type": "code",
      "execution_count": null,
      "id": "KLxTQrNGGwTg",
      "metadata": {
        "id": "KLxTQrNGGwTg",
        "outputId": "1f1655ce-31e2-4382-dbaf-67f5bf91d825"
      },
      "outputs": [],
      "source": [
        "import sys\n",
        "import os\n",
        "sys.path.append(os.path.abspath(\"../ml_iaroslav\"))\n",
        "from rank_stars import load_and_normalize_dataset, rank_by_similarity, plot_similarity_ranking\n",
        "\n",
        "selected_star = \"Kepler-107\"  # Change this to any star in dataset\n",
        "# Rank and plot stars by similarity to the selected star\n",
        "X_normalized, df = load_and_normalize_dataset(file_path=\"../Output/CSV_Files/Cleaned Dataset.csv\", output_dir='../Output/CSV_Files', features=['Star_Temperature_K', 'Star_Radius_Solar', 'Star_Mass_Solar'])\n",
        "rankings = rank_by_similarity(X_normalized, selected_star, df)\n",
        "plot_similarity_ranking(output_dir=\"../Output/Visualisations\", rankings=rankings, reference_star=selected_star)"
      ]
    },
    {
      "cell_type": "markdown",
      "id": "CaVv8-PNGU54",
      "metadata": {
        "id": "CaVv8-PNGU54"
      },
      "source": [
        "# Patrick\n",
        "Question 1: Can we identify groups of similar exoplanets?\n",
        "Analysis: Apply clustering algorithms (e.g., K-means, hierarchical clustering) to group planets with similar characteristics.\n",
        "Question 2: Can we classify planets into different categories (e.g., rocky planets, gas giants) based on their properties?\n",
        "Analysis: Use supervised learning algorithms to classify planets based on features such as mass, radius, and temperature."
      ]
    },
    {
      "cell_type": "code",
      "execution_count": null,
      "id": "fO98ObeABQvy",
      "metadata": {
        "id": "fO98ObeABQvy"
      },
      "outputs": [],
      "source": [
        "# --- Question 1: Clustering Exoplanets ---\n",
        "df = df.withColumnRenamed(\"Planet_Radius_Earth\", \"radius\").withColumnRenamed(\"Planet_Mass_Earth\", \"mass\").withColumnRenamed(\"Equilibrium_Temperature\", \"temperature\").withColumnRenamed(\"Semi_Major_Axis_AU\", \"semi_major_axis\")\n",
        "\n",
        "features = ['radius', 'mass', 'temperature', 'semi_major_axis']\n",
        "vector_assembler = VectorAssembler(inputCols=features, outputCol='features')\n",
        "df_features = vector_assembler.transform(df)\n",
        "\n",
        "scaler = StandardScaler(inputCol=\"features\", outputCol=\"scaledFeatures\")\n",
        "df_scaled = scaler.fit(df_features).transform(df_features)\n",
        "\n",
        "kmeans = KMeans(featuresCol='scaledFeatures', k=3, seed=42)\n",
        "kmeans_model = kmeans.fit(df_scaled)\n",
        "df_clusters = kmeans_model.transform(df_scaled)\n",
        "df_clusters.select('Planet_Name', 'prediction').show(10)\n",
        "\n",
        "# Convert to pandas for visualisation\n",
        "df_clusters_pd = df_clusters.toPandas()\n",
        "sns.scatterplot(data=df_clusters_pd, x=df_clusters_pd['radius'], y=df_clusters_pd['mass'], hue=df_clusters_pd['prediction'])\n",
        "plt.savefig(\"clustering_visualization.png\")\n",
        "plt.show()\n",
        "\n",
        "# Save the results\n",
        "df_clusters.toPandas().to_csv(\"clustering_results.csv\", index=False)"
      ]
    },
    {
      "cell_type": "code",
      "execution_count": null,
      "id": "FNGD-TXjDM-w",
      "metadata": {
        "id": "FNGD-TXjDM-w"
      },
      "outputs": [],
      "source": [
        "# --- Question 2: Classification of Planets ---\n",
        "df_class = df.select('radius', 'mass', 'temperature', 'Discovery_Method')\n",
        "\n",
        "# Convert string column to numeric\n",
        "indexer = StringIndexer(inputCol=\"Discovery_Method\", outputCol=\"Discovery_Method_Index\")\n",
        "df_class = indexer.fit(df_class).transform(df_class)\n",
        "\n",
        "vector_assembler_class = VectorAssembler(inputCols=['radius', 'mass', 'temperature'], outputCol='features')\n",
        "df_class_features = vector_assembler_class.transform(df_class)\n",
        "\n",
        "rf = RandomForestClassifier(labelCol='Discovery_Method_Index', featuresCol='features', numTrees=10)\n",
        "rf_model = rf.fit(df_class_features)\n",
        "df_pred = rf_model.transform(df_class_features)\n",
        "\n",
        "evaluator = MulticlassClassificationEvaluator(labelCol=\"Discovery_Method_Index\", predictionCol=\"prediction\", metricName=\"accuracy\")\n",
        "accuracy = evaluator.evaluate(df_pred)\n",
        "print(f\"Classification Accuracy: {accuracy}\")\n",
        "\n",
        "\n",
        "#Convert to Pandas for Visualisation\n",
        "df_pred_pd = df_pred.select(\"Discovery_Method_Index\", \"prediction\").toPandas()\n",
        "sns.histplot(data=df_pred_pd, x='prediction', kde=True)\n",
        "plt.xlabel(\"Predicted Class\")\n",
        "plt.ylabel(\"Frequency\")\n",
        "plt.title(\"Distribution of Predicted Planet Types\")\n",
        "plt.savefig(\"classification_visualization.png\")\n",
        "plt.show()\n",
        "\n",
        "\n",
        "# Save classification results\n",
        "df_pred.toPandas().to_csv(\"classification_results.csv\", index=False)"
      ]
    },
    {
      "cell_type": "code",
      "execution_count": null,
      "id": "-yn5qSblGd5Y",
      "metadata": {
        "id": "-yn5qSblGd5Y"
      },
      "outputs": [],
      "source": [
        "# Export CSV and visualisations"
      ]
    },
    {
      "cell_type": "markdown",
      "id": "kDOs_r87GfAn",
      "metadata": {
        "id": "kDOs_r87GfAn"
      },
      "source": [
        "\n",
        "#### Question 7\n",
        "Which exoplanet discovery method has been used the most, and which has been used the least? What does this indicate about the effectiveness and prevalence of different detection techniques? (Amrit)\n"
      ]
    },
    {
      "cell_type": "code",
      "execution_count": null,
      "id": "tKZdXFYZ7BqI",
      "metadata": {
        "id": "tKZdXFYZ7BqI"
      },
      "outputs": [],
      "source": [
        "clean_df = df.cache()"
      ]
    },
    {
      "cell_type": "code",
      "execution_count": null,
      "id": "WHNGspJQez27",
      "metadata": {
        "colab": {
          "base_uri": "https://localhost:8080/"
        },
        "id": "WHNGspJQez27",
        "outputId": "f67b893e-fa4e-416d-fe2c-e3e782ba6425"
      },
      "outputs": [],
      "source": [
        "# Check the cached dataframe\n",
        "clean_df.show(2)"
      ]
    },
    {
      "cell_type": "code",
      "execution_count": null,
      "id": "MNGqGHGvqCMf",
      "metadata": {
        "colab": {
          "base_uri": "https://localhost:8080/",
          "height": 112
        },
        "id": "MNGqGHGvqCMf",
        "outputId": "812a482b-2dde-4591-f3de-b55c7e2ef88d"
      },
      "outputs": [],
      "source": [
        "# Assuming clean_df is your PySpark DataFrame\n",
        "clean_df_1 = clean_df.select(\"Discovery_Method\", \"Discovery_Facility\", \"Host_Star\", \"Discovery_Year\")\n",
        "\n",
        "# Convert PySpark DataFrame to Pandas\n",
        "pandas_df = clean_df_1.toPandas()\n",
        "\n",
        "pandas_df.head(2)"
      ]
    },
    {
      "cell_type": "code",
      "execution_count": null,
      "id": "igxDSAq7qYd4",
      "metadata": {
        "colab": {
          "base_uri": "https://localhost:8080/"
        },
        "id": "igxDSAq7qYd4",
        "outputId": "2396c320-c03e-415b-d438-6c5f818f866f"
      },
      "outputs": [],
      "source": [
        "# Find the most used discovery method\n",
        "disc_method_max = pandas_df[\"Discovery_Method\"].value_counts().idxmax()\n",
        "\n",
        "# Find the least used discovery method\n",
        "disc_method_min = pandas_df[\"Discovery_Method\"].value_counts().idxmin()\n",
        "\n",
        "# Count the total number of discoveries using the 'Transit' method\n",
        "length_max = (pandas_df[\"Discovery_Method\"] == \"Transit\").sum()\n",
        "\n",
        "# Count the total number of discoveries using the 'Transit Timing Variations' method\n",
        "length_min = (pandas_df[\"Discovery_Method\"] == \"Transit Timing Variations\").sum()\n",
        "\n",
        "print(\"Most used discovery method:\", disc_method_max)\n",
        "print(\"Least used discovery method:\", disc_method_min)\n",
        "print(\"Total number of discoveries using Transit method:\",length_max)\n",
        "print(\"Total number of discoveries using Transit Timing Variations:\", length_min)"
      ]
    },
    {
      "cell_type": "code",
      "execution_count": null,
      "id": "VVhzIHCkKx2J",
      "metadata": {
        "colab": {
          "base_uri": "https://localhost:8080/",
          "height": 209
        },
        "id": "VVhzIHCkKx2J",
        "outputId": "a8942ce3-19e3-45e3-cf9a-3bdaeb0f1f0b"
      },
      "outputs": [],
      "source": [
        "# Check the datatype\n",
        "pandas_df.dtypes"
      ]
    },
    {
      "cell_type": "code",
      "execution_count": null,
      "id": "aweZclO5Gs6a",
      "metadata": {
        "colab": {
          "base_uri": "https://localhost:8080/",
          "height": 487
        },
        "id": "aweZclO5Gs6a",
        "outputId": "535570da-63e7-44b2-ee47-3ccb1560ca92"
      },
      "outputs": [],
      "source": [
        "# Save the Pandas DataFrame to a CSV file\n",
        "pandas_df.to_csv(\"Planets_vs_discovery_method.csv\", index=False)\n",
        "\n",
        "# Count the number of planets discovered per year for each method\n",
        "planet_counts = pandas_df.groupby(['Discovery_Year', 'Discovery_Method']).size().unstack(fill_value=0)\n",
        "\n",
        "# Create a line plot comparing the four methods\n",
        "plt.figure()\n",
        "sns.lineplot(data=planet_counts, palette=\"Set2\", markers=True)\n",
        "\n",
        "# Set labels and title\n",
        "plt.title(\"Planets Discovered vs Discovery Method\", fontsize=16)\n",
        "plt.xlabel(\"Discovery Year\", fontsize=12)\n",
        "plt.ylabel(\"Number of Planets\", fontsize=12)\n",
        "\n",
        "# Save the plot as a PNG file\n",
        "plt.tight_layout()\n",
        "plt.savefig(\"Planets Discovered vs Discovery Method.png\")\n",
        "\n",
        "# Show the plot\n",
        "plt.show()\n"
      ]
    },
    {
      "cell_type": "markdown",
      "id": "1ICW05fruTHX",
      "metadata": {
        "id": "1ICW05fruTHX"
      },
      "source": [
        "#### Answer\n",
        " Transit is the most dominant method for discovering exoplanets, while Transit Timing Variations (TTV) is the least used.\n",
        "\n",
        "- Transit (1102 discoveries) → Most widely used method, likely due to missions like Kepler and TESS, which monitor star brightness dips when planets pass in front.\n",
        "- Transit Timing Variations (1 discovery) → Rarely used, likely because it requires detecting minute gravitational influences on already-known planets.\n",
        "\n",
        "This analysis highlights the dominance of large-scale transit surveys and the rarity of more specialized detection techniques like TTV"
      ]
    },
    {
      "cell_type": "markdown",
      "id": "yjDGaibTpysi",
      "metadata": {
        "id": "yjDGaibTpysi"
      },
      "source": [
        "#### Question 8\n",
        "How does the distance of a planet host from its exoplanets influence the exoplanets' temperature, luminosity?"
      ]
    },
    {
      "cell_type": "code",
      "execution_count": null,
      "id": "wJtdRqWot8UR",
      "metadata": {
        "colab": {
          "base_uri": "https://localhost:8080/"
        },
        "id": "wJtdRqWot8UR",
        "outputId": "df8738ba-176e-4c65-dd42-ec1d81f66921"
      },
      "outputs": [],
      "source": [
        "clean_df.show(2)"
      ]
    },
    {
      "cell_type": "code",
      "execution_count": null,
      "id": "GBZ2DDGce46_",
      "metadata": {
        "id": "GBZ2DDGce46_"
      },
      "outputs": [],
      "source": [
        "# Create a temporary view of the dataframe\n",
        "clean_df.createOrReplaceTempView('discovery_method')"
      ]
    },
    {
      "cell_type": "code",
      "execution_count": null,
      "id": "D9ockCU-szJA",
      "metadata": {
        "colab": {
          "base_uri": "https://localhost:8080/"
        },
        "id": "D9ockCU-szJA",
        "outputId": "c092a18b-97bc-4b29-9377-4eb8428adc31"
      },
      "outputs": [],
      "source": [
        "result_2 = spark.sql(\"\"\"\n",
        "    SELECT Planet_Name, System_Distance_PC,Equilibrium_Temperature, System_Infrared_Magnitude\n",
        "    FROM discovery_method\n",
        "\"\"\")\n",
        "result_2.show(2)"
      ]
    },
    {
      "cell_type": "code",
      "execution_count": null,
      "id": "CNJj7iBUy-I7",
      "metadata": {
        "id": "CNJj7iBUy-I7"
      },
      "outputs": [],
      "source": [
        "# Convert the PySpark DataFrame to a Pandas DataFrame\n",
        "pandas_df_1 = result_2.toPandas()"
      ]
    },
    {
      "cell_type": "code",
      "execution_count": null,
      "id": "t3hA71MPzBfW",
      "metadata": {
        "colab": {
          "base_uri": "https://localhost:8080/"
        },
        "id": "t3hA71MPzBfW",
        "outputId": "3122f216-ae89-4c46-d09f-e9bbd9b2e699"
      },
      "outputs": [],
      "source": [
        "import pandas as pd\n",
        "\n",
        "# Find the maximum and minimum system distances\n",
        "max_dist = pandas_df_1[\"System_Distance_PC\"].max()\n",
        "min_dist = pandas_df_1[\"System_Distance_PC\"].min()\n",
        "\n",
        "# Find the planet name, star temperature, brightness, and infrared magnitude corresponding to max and min distances\n",
        "planet_max_dist = pandas_df_1.loc[\n",
        "    pandas_df_1[\"System_Distance_PC\"] == max_dist,\n",
        "    [\"Planet_Name\", \"Equilibrium_Temperature\", \"System_Infrared_Magnitude\"]\n",
        "].values[0]\n",
        "\n",
        "planet_min_dist = pandas_df_1.loc[\n",
        "    pandas_df_1[\"System_Distance_PC\"] == min_dist,\n",
        "    [\"Planet_Name\", \"Equilibrium_Temperature\", \"System_Infrared_Magnitude\"]\n",
        "].values[0]\n",
        "\n",
        "# Print the results\n",
        "print(\"Planet with maximum distance:\", planet_max_dist[0], \"| Distance:\", max_dist,\n",
        "      \"| Planet Temperature:\", planet_max_dist[1], \"| Planet Luminosity:\", planet_max_dist[2])\n",
        "\n",
        "print(\"Planet with minimum distance:\", planet_min_dist[0], \"| Distance:\", min_dist,\n",
        "      \"| Planet Temperature:\", planet_min_dist[1], \"| Planet Luminosity:\", planet_min_dist[2])\n",
        "\n",
        "\n"
      ]
    },
    {
      "cell_type": "code",
      "execution_count": null,
      "id": "PfqtE7pCKmho",
      "metadata": {
        "colab": {
          "base_uri": "https://localhost:8080/",
          "height": 209
        },
        "id": "PfqtE7pCKmho",
        "outputId": "b4e25ea6-cf90-4db1-afec-024461309204"
      },
      "outputs": [],
      "source": [
        "# Check the datatype\n",
        "pandas_df_1.dtypes"
      ]
    },
    {
      "cell_type": "code",
      "execution_count": null,
      "id": "HshwCGwksjeY",
      "metadata": {
        "colab": {
          "base_uri": "https://localhost:8080/",
          "height": 957
        },
        "id": "HshwCGwksjeY",
        "outputId": "09e14c8b-6a75-42ea-e979-afe7f273b2fd"
      },
      "outputs": [],
      "source": [
        "# Save the Pandas DataFrame to a CSV file\n",
        "pandas_df_1.to_csv(\"Distance_temp_luminosity.csv\", index=False)\n",
        "\n",
        "# 1. Scatter plot for Distance vs Temperature\n",
        "plt.figure()\n",
        "sns.scatterplot(x='System_Distance_PC', y='Equilibrium_Temperature', data=pandas_df_1, color='blue')\n",
        "plt.title(\"Distance vs Planet Temperature\", fontsize=16)\n",
        "plt.xlabel(\"Distance from Host Star (AU)\", fontsize=12)\n",
        "plt.ylabel(\"Planet Temperature (K)\", fontsize=12)\n",
        "plt.tight_layout()\n",
        "plt.savefig(\"distance_vs_temperature.png\")\n",
        "plt.show()\n",
        "\n",
        "# 2. Scatter plot for Distance vs Luminosity\n",
        "plt.figure()\n",
        "sns.scatterplot(x='System_Distance_PC', y='System_Infrared_Magnitude', data=pandas_df_1, color='green')\n",
        "plt.title(\"Distance vs Planet Luminosity\", fontsize=16)\n",
        "plt.xlabel(\"Distance from Host Star (AU)\", fontsize=12)\n",
        "plt.ylabel(\"Planet Luminosity (L)\", fontsize=12)\n",
        "plt.tight_layout()\n",
        "plt.savefig(\"distance_vs_luminosity.png\")\n",
        "plt.show()\n",
        "\n"
      ]
    },
    {
      "cell_type": "markdown",
      "id": "_cTCYxTqJ4wT",
      "metadata": {
        "id": "_cTCYxTqJ4wT"
      },
      "source": [
        "### Answer\n",
        "\n",
        "The analysis compares the exoplanets OGLE-TR-182 b (farthest from its star at 2501.75 light-years) and HD 219134 b (closest at 6.53 light-years).\n",
        "\n",
        "It suggests that both exoplanets despite being farthest and closest to their host, are both depict high temperature where as the luminosity difference is apparently high in the exoplanet closest to its star at 14.737.\n",
        "\n",
        "However, analyzing the visualizations reveals a clear inverse relationship between an exoplanet’s distance from its host star and its temperature. Planets closer to their stars tend to be hotter, while those farther away are cooler, following established astrophysical principles. This study highlights extreme planetary diversity, where distant gas giants and nearby rocky planets provide unique opportunities for exoplanetary science."
      ]
    }
  ],
  "metadata": {
    "colab": {
      "provenance": []
    },
    "kernelspec": {
      "display_name": "dev",
      "language": "python",
      "name": "python3"
    },
    "language_info": {
      "codemirror_mode": {
        "name": "ipython",
        "version": 3
      },
      "file_extension": ".py",
      "mimetype": "text/x-python",
      "name": "python",
      "nbconvert_exporter": "python",
      "pygments_lexer": "ipython3",
      "version": "3.10.14"
    }
  },
  "nbformat": 4,
  "nbformat_minor": 5
}
